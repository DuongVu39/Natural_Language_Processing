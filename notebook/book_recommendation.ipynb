{
 "cells": [
  {
   "cell_type": "markdown",
   "metadata": {
    "dc": {
     "key": "3"
    },
    "deletable": false,
    "editable": false,
    "run_control": {
     "frozen": true
    },
    "tags": [
     "context"
    ]
   },
   "source": [
    "## 1. Darwin's bibliography\n",
    "<p><img src=\"https://assets.datacamp.com/production/project_607/img/CharlesDarwin.jpg\" alt=\"Charles Darwin\" width=\"300px\"></p>\n",
    "<p>Charles Darwin is one of the few universal figures of science. His most renowned work is without a doubt his \"<em>On the Origin of Species</em>\" published in 1859 which introduced the concept of natural selection. But Darwin wrote many other books on a wide range of topics, including geology, plants or his personal life. In this notebook, we will automatically detect how closely related his books are to each other.</p>\n",
    "<p>To this purpose, we will develop the bases of <strong>a content-based book recommendation system</strong>, which will determine which books are close to each other based on how similar the discussed topics are. The methods we will use are commonly used in text- or documents-heavy industries such as legal, tech or customer support to perform some common task such as text classification or handling search engine queries.</p>\n",
    "<p>Let's take a look at the books we'll use in our recommendation system.</p>"
   ]
  },
  {
   "cell_type": "code",
   "execution_count": 40,
   "metadata": {
    "dc": {
     "key": "3"
    },
    "tags": [
     "sample_code"
    ]
   },
   "outputs": [
    {
     "data": {
      "text/plain": [
       "['datasets/Autobiography.txt',\n",
       " 'datasets/CoralReefs.txt',\n",
       " 'datasets/DescentofMan.txt',\n",
       " 'datasets/DifferentFormsofFlowers.txt',\n",
       " 'datasets/EffectsCrossSelfFertilization.txt',\n",
       " 'datasets/ExpressionofEmotionManAnimals.txt',\n",
       " 'datasets/FormationVegetableMould.txt',\n",
       " 'datasets/FoundationsOriginofSpecies.txt',\n",
       " 'datasets/GeologicalObservationsSouthAmerica.txt',\n",
       " 'datasets/InsectivorousPlants.txt',\n",
       " 'datasets/LifeandLettersVol1.txt',\n",
       " 'datasets/LifeandLettersVol2.txt',\n",
       " 'datasets/MonographCirripedia.txt',\n",
       " 'datasets/MonographCirripediaVol2.txt',\n",
       " 'datasets/MovementClimbingPlants.txt',\n",
       " 'datasets/OriginofSpecies.txt',\n",
       " 'datasets/PowerMovementPlants.txt',\n",
       " 'datasets/VariationPlantsAnimalsDomestication.txt',\n",
       " 'datasets/VolcanicIslands.txt',\n",
       " 'datasets/VoyageBeagle.txt']"
      ]
     },
     "execution_count": 40,
     "metadata": {},
     "output_type": "execute_result"
    }
   ],
   "source": [
    "# Import library\n",
    "import glob\n",
    "\n",
    "# The books files are contained in this folder\n",
    "folder = \"datasets/\"\n",
    "\n",
    "# List all the .txt files and sort them alphabetically\n",
    "files = glob.glob(folder+\"*.txt\")\n",
    "files.sort()\n",
    "files"
   ]
  },
  {
   "cell_type": "markdown",
   "metadata": {
    "dc": {
     "key": "10"
    },
    "deletable": false,
    "editable": false,
    "run_control": {
     "frozen": true
    },
    "tags": [
     "context"
    ]
   },
   "source": [
    "## 2. Load the contents of each book into Python\n",
    "<p>As a first step, we need to load the content of these books into Python and do some basic pre-processing to facilitate the downstream analyses. We call such a collection of texts <strong>a corpus</strong>. We will also store the titles for these books for future reference and print their respective length to get a gauge for their contents.</p>"
   ]
  },
  {
   "cell_type": "code",
   "execution_count": 42,
   "metadata": {
    "dc": {
     "key": "10"
    },
    "tags": [
     "sample_code"
    ]
   },
   "outputs": [
    {
     "data": {
      "text/plain": [
       "[123231,\n",
       " 496068,\n",
       " 1776539,\n",
       " 617088,\n",
       " 913713,\n",
       " 624232,\n",
       " 335920,\n",
       " 523021,\n",
       " 797401,\n",
       " 901406,\n",
       " 1047518,\n",
       " 1010643,\n",
       " 767492,\n",
       " 1660866,\n",
       " 298319,\n",
       " 916267,\n",
       " 1093567,\n",
       " 1043499,\n",
       " 341447,\n",
       " 1149574]"
      ]
     },
     "execution_count": 42,
     "metadata": {},
     "output_type": "execute_result"
    }
   ],
   "source": [
    "# Import libraries\n",
    "import re, os\n",
    "\n",
    "# Initialize the object that will contain the texts and titles\n",
    "txts = []\n",
    "titles = []\n",
    "\n",
    "for n in files:\n",
    "    # Open each file\n",
    "    f = open(n, encoding='utf-8-sig')\n",
    "    # Remove all non-alpha-numeric characters\n",
    "    pattern = re.compile('[\\W_]+')\n",
    "    txt = pattern.sub(' ', f.read())\n",
    "    \n",
    "    # Store the texts and titles of the books in two separate lists\n",
    "    txts.append(txt)\n",
    "    titles.append(os.path.basename(n).replace(\".txt\",\"\"))\n",
    "\n",
    "# Print the length, in characters, of each book\n",
    "[len(t) for t in txts]"
   ]
  },
  {
   "cell_type": "markdown",
   "metadata": {
    "dc": {
     "key": "17"
    },
    "deletable": false,
    "editable": false,
    "run_control": {
     "frozen": true
    },
    "tags": [
     "context"
    ]
   },
   "source": [
    "## 3. Find \"On the Origin of Species\"\n",
    "<p>For the next parts of this analysis, we will often check the results returned by our method for a given book. For consistency, we will refer to Darwin's most famous book: \"<em>On the Origin of Species</em>.\" Let's find to which index this book is associated.</p>"
   ]
  },
  {
   "cell_type": "code",
   "execution_count": 44,
   "metadata": {
    "dc": {
     "key": "17"
    },
    "tags": [
     "sample_code"
    ]
   },
   "outputs": [
    {
     "name": "stdout",
     "output_type": "stream",
     "text": [
      "15\n"
     ]
    }
   ],
   "source": [
    "# Browse the list containing all the titles\n",
    "for i in range(len(titles)):\n",
    "    # Store the index if the title is \"OriginofSpecies\" \n",
    "    if titles[i] == \"OriginofSpecies\":\n",
    "        ori = i\n",
    "\n",
    "# Print the stored index\n",
    "print(ori)"
   ]
  },
  {
   "cell_type": "markdown",
   "metadata": {
    "dc": {
     "key": "24"
    },
    "deletable": false,
    "editable": false,
    "run_control": {
     "frozen": true
    },
    "tags": [
     "context"
    ]
   },
   "source": [
    "## 4. Tokenize the corpus\n",
    "<p>As a next step, we need to transform the corpus into a format that is easier to deal with for the downstream analyses. We will tokenize our corpus, i.e., transform each text into a list of the individual words (called tokens) it is made of. To check the output of our process, we will print the first 20 tokens of \"<em>On the Origin of Species</em>\".</p>"
   ]
  },
  {
   "cell_type": "code",
   "execution_count": 46,
   "metadata": {
    "dc": {
     "key": "24"
    },
    "tags": [
     "sample_code"
    ]
   },
   "outputs": [
    {
     "data": {
      "text/plain": [
       "['favourably',\n",
       " 'philosophy',\n",
       " 'predict',\n",
       " 'fare',\n",
       " 'anciently',\n",
       " 'eagles',\n",
       " 'partakes',\n",
       " 'read',\n",
       " 'insufficient',\n",
       " 'hazel',\n",
       " 'simile',\n",
       " 'chthamalinæ',\n",
       " 'albumen',\n",
       " 'everywhere',\n",
       " 'overlooked',\n",
       " 'dreamed',\n",
       " 'reared',\n",
       " '489',\n",
       " 'diversified',\n",
       " 'impossible']"
      ]
     },
     "execution_count": 46,
     "metadata": {},
     "output_type": "execute_result"
    }
   ],
   "source": [
    "# Define a list of stop words\n",
    "stoplist = set('for a of the and to in to be which some is at that we i who whom show via may my our might as well'.split())\n",
    "\n",
    "# Convert the text to lower case \n",
    "txts_lower_case = [i.lower() for i in txts]\n",
    "\n",
    "# Transform the text into tokens \n",
    "txts_split = [i.split() for i in txts_lower_case]\n",
    "\n",
    "# Remove tokens which are part of the list of stop words\n",
    "texts = [list(set(i) - stoplist) for i in txts_split]\n",
    "\n",
    "# Print the first 20 tokens for the \"On the Origin of Species\" book\n",
    "texts[15][:20]"
   ]
  },
  {
   "cell_type": "markdown",
   "metadata": {
    "dc": {
     "key": "31"
    },
    "deletable": false,
    "editable": false,
    "run_control": {
     "frozen": true
    },
    "tags": [
     "context"
    ]
   },
   "source": [
    "## 5. Stemming of the tokenized corpus\n",
    "<p>If you have read <em>On the Origin of Species</em>, you will have noticed that Charles Darwin can use different words to refer to a similar concept. For example, the concept of selection can be described by words such as <em>selection</em>, <em>selective</em>, <em>select</em> or <em>selects</em>. This will dilute the weight given to this concept in the book and potentially bias the results of the analysis.</p>\n",
    "<p>To solve this issue, it is a common practice to use a <strong>stemming process</strong>, which will group together the inflected forms of a word so they can be analysed as a single item: <strong>the stem</strong>. In our <em>On the Origin of Species</em> example, the words related to the concept of selection would be gathered under the <em>select</em> stem.</p>\n",
    "<p>As we are analysing 20 full books, the stemming algorithm can take several minutes to run and, in order to make the process faster, we will directly load the final results from a pickle file and review the method used to generate it.</p>"
   ]
  },
  {
   "cell_type": "code",
   "execution_count": 48,
   "metadata": {
    "dc": {
     "key": "31"
    },
    "tags": [
     "sample_code"
    ]
   },
   "outputs": [
    {
     "name": "stdout",
     "output_type": "stream",
     "text": [
      "['on', 'origin', 'speci', 'but', 'with', 'regard', 'materi', 'world', 'can', 'least', 'go', 'so', 'far', 'thi', 'can', 'perceiv', 'event', 'are', 'brought', 'about']\n"
     ]
    }
   ],
   "source": [
    "import pickle\n",
    "\n",
    "# Load the stemmed tokens list from the pregenerated pickle file\n",
    "file = open('datasets/texts_stem.p', mode='rb')\n",
    "texts_stem = pickle.load(file)\n",
    "\n",
    "# Print the 20 first stemmed tokens from the \"On the Origin of Species\" book\n",
    "print(texts_stem[ori][:20])\n",
    "\n"
   ]
  },
  {
   "cell_type": "markdown",
   "metadata": {
    "dc": {
     "key": "38"
    },
    "deletable": false,
    "editable": false,
    "run_control": {
     "frozen": true
    },
    "tags": [
     "context"
    ]
   },
   "source": [
    "## 6. Building a bag-of-words model\n",
    "<p>Now that we have transformed the texts into stemmed tokens, we need to build models that will be useable by downstream algorithms.</p>\n",
    "<p>First, we need to will create a universe of all words contained in our corpus of Charles Darwin's books, which we call <em>a dictionary</em>. Then, using the stemmed tokens and the dictionary, we will create <strong>bag-of-words models</strong> (BoW) of each of our texts. The BoW models will represent our books as a list of all uniques tokens they contain associated with their respective number of occurrences. </p>\n",
    "<p>To better understand the structure of such a model, we will print the five first elements of one of the \"<em>On the Origin of Species</em>\" BoW model.</p>"
   ]
  },
  {
   "cell_type": "code",
   "execution_count": 50,
   "metadata": {
    "dc": {
     "key": "38"
    },
    "tags": [
     "sample_code"
    ]
   },
   "outputs": [
    {
     "data": {
      "text/plain": [
       "[(0, 11), (5, 51), (6, 1), (8, 2), (21, 1)]"
      ]
     },
     "execution_count": 50,
     "metadata": {},
     "output_type": "execute_result"
    }
   ],
   "source": [
    "# Load the functions allowing to create and use dictionaries\n",
    "from gensim import corpora\n",
    "\n",
    "# Create a dictionary from the stemmed tokens\n",
    "dictionary = corpora.Dictionary(texts_stem)\n",
    "\n",
    "# Create a bag-of-words model for each book, \n",
    "# using the previously generated dictionary\n",
    "bows = [dictionary.doc2bow(i) for i in texts_stem]\n",
    "\n",
    "# Print the first five elements of the On the Origin of species' BoW model\n",
    "bows[ori][:5]"
   ]
  },
  {
   "cell_type": "markdown",
   "metadata": {
    "dc": {
     "key": "45"
    },
    "deletable": false,
    "editable": false,
    "run_control": {
     "frozen": true
    },
    "tags": [
     "context"
    ]
   },
   "source": [
    "## 7. The most common words of a given book\n",
    "<p>The results returned by the bag-of-words model is certainly easy to use for a computer but hard to interpret for a human. It is not straightforward to understand which stemmed tokens are present in a given book from Charles Darwin, and how many occurrences we can find.</p>\n",
    "<p>In order to better understand how the model has been generated and visualize its content, we will transform it into a DataFrame and display the 10 most common stems for the book \"<em>On the Origin of Species</em>\".</p>"
   ]
  },
  {
   "cell_type": "code",
   "execution_count": 64,
   "metadata": {
    "dc": {
     "key": "45"
    }
   },
   "outputs": [
    {
     "data": {
      "text/html": [
       "<div>\n",
       "<style>\n",
       "    .dataframe thead tr:only-child th {\n",
       "        text-align: right;\n",
       "    }\n",
       "\n",
       "    .dataframe thead th {\n",
       "        text-align: left;\n",
       "    }\n",
       "\n",
       "    .dataframe tbody tr th {\n",
       "        vertical-align: top;\n",
       "    }\n",
       "</style>\n",
       "<table border=\"1\" class=\"dataframe\">\n",
       "  <thead>\n",
       "    <tr style=\"text-align: right;\">\n",
       "      <th></th>\n",
       "      <th>index</th>\n",
       "      <th>occurences</th>\n",
       "      <th>token</th>\n",
       "    </tr>\n",
       "  </thead>\n",
       "  <tbody>\n",
       "    <tr>\n",
       "      <th>748</th>\n",
       "      <td>1168</td>\n",
       "      <td>2023</td>\n",
       "      <td>have</td>\n",
       "    </tr>\n",
       "    <tr>\n",
       "      <th>1119</th>\n",
       "      <td>1736</td>\n",
       "      <td>1558</td>\n",
       "      <td>on</td>\n",
       "    </tr>\n",
       "    <tr>\n",
       "      <th>1489</th>\n",
       "      <td>2288</td>\n",
       "      <td>1543</td>\n",
       "      <td>speci</td>\n",
       "    </tr>\n",
       "    <tr>\n",
       "      <th>892</th>\n",
       "      <td>1366</td>\n",
       "      <td>1480</td>\n",
       "      <td>it</td>\n",
       "    </tr>\n",
       "    <tr>\n",
       "      <th>239</th>\n",
       "      <td>393</td>\n",
       "      <td>1362</td>\n",
       "      <td>by</td>\n",
       "    </tr>\n",
       "  </tbody>\n",
       "</table>\n",
       "</div>"
      ],
      "text/plain": [
       "      index  occurences  token\n",
       "748    1168        2023   have\n",
       "1119   1736        1558     on\n",
       "1489   2288        1543  speci\n",
       "892    1366        1480     it\n",
       "239     393        1362     by"
      ]
     },
     "execution_count": 64,
     "metadata": {},
     "output_type": "execute_result"
    }
   ],
   "source": [
    "df_bow_origin.head()"
   ]
  },
  {
   "cell_type": "code",
   "execution_count": 52,
   "metadata": {
    "dc": {
     "key": "45"
    },
    "tags": [
     "sample_code"
    ]
   },
   "outputs": [
    {
     "data": {
      "text/html": [
       "<div>\n",
       "<style>\n",
       "    .dataframe thead tr:only-child th {\n",
       "        text-align: right;\n",
       "    }\n",
       "\n",
       "    .dataframe thead th {\n",
       "        text-align: left;\n",
       "    }\n",
       "\n",
       "    .dataframe tbody tr th {\n",
       "        vertical-align: top;\n",
       "    }\n",
       "</style>\n",
       "<table border=\"1\" class=\"dataframe\">\n",
       "  <thead>\n",
       "    <tr style=\"text-align: right;\">\n",
       "      <th></th>\n",
       "      <th>index</th>\n",
       "      <th>occurences</th>\n",
       "      <th>token</th>\n",
       "    </tr>\n",
       "  </thead>\n",
       "  <tbody>\n",
       "    <tr>\n",
       "      <th>748</th>\n",
       "      <td>1168</td>\n",
       "      <td>2023</td>\n",
       "      <td>have</td>\n",
       "    </tr>\n",
       "    <tr>\n",
       "      <th>1119</th>\n",
       "      <td>1736</td>\n",
       "      <td>1558</td>\n",
       "      <td>on</td>\n",
       "    </tr>\n",
       "    <tr>\n",
       "      <th>1489</th>\n",
       "      <td>2288</td>\n",
       "      <td>1543</td>\n",
       "      <td>speci</td>\n",
       "    </tr>\n",
       "    <tr>\n",
       "      <th>892</th>\n",
       "      <td>1366</td>\n",
       "      <td>1480</td>\n",
       "      <td>it</td>\n",
       "    </tr>\n",
       "    <tr>\n",
       "      <th>239</th>\n",
       "      <td>393</td>\n",
       "      <td>1362</td>\n",
       "      <td>by</td>\n",
       "    </tr>\n",
       "    <tr>\n",
       "      <th>1128</th>\n",
       "      <td>1747</td>\n",
       "      <td>1201</td>\n",
       "      <td>or</td>\n",
       "    </tr>\n",
       "    <tr>\n",
       "      <th>125</th>\n",
       "      <td>218</td>\n",
       "      <td>1140</td>\n",
       "      <td>are</td>\n",
       "    </tr>\n",
       "    <tr>\n",
       "      <th>665</th>\n",
       "      <td>1043</td>\n",
       "      <td>1137</td>\n",
       "      <td>from</td>\n",
       "    </tr>\n",
       "    <tr>\n",
       "      <th>1774</th>\n",
       "      <td>2703</td>\n",
       "      <td>1000</td>\n",
       "      <td>with</td>\n",
       "    </tr>\n",
       "    <tr>\n",
       "      <th>1609</th>\n",
       "      <td>2452</td>\n",
       "      <td>962</td>\n",
       "      <td>thi</td>\n",
       "    </tr>\n",
       "  </tbody>\n",
       "</table>\n",
       "</div>"
      ],
      "text/plain": [
       "      index  occurences  token\n",
       "748    1168        2023   have\n",
       "1119   1736        1558     on\n",
       "1489   2288        1543  speci\n",
       "892    1366        1480     it\n",
       "239     393        1362     by\n",
       "1128   1747        1201     or\n",
       "125     218        1140    are\n",
       "665    1043        1137   from\n",
       "1774   2703        1000   with\n",
       "1609   2452         962    thi"
      ]
     },
     "execution_count": 52,
     "metadata": {},
     "output_type": "execute_result"
    }
   ],
   "source": [
    "# Import pandas to create and manipulate DataFrames\n",
    "import pandas as pd\n",
    "\n",
    "# Convert the BoW model for \"On the Origin of Species\" into a DataFrame\n",
    "df_bow_origin = pd.DataFrame(bows[ori])\n",
    "\n",
    "# Add the column names to the DataFrame\n",
    "df_bow_origin.columns = ['index', 'occurrences']\n",
    "\n",
    "# Add a column containing the token corresponding to the dictionary index\n",
    "df_bow_origin['token'] = df_bow_origin['index'].apply(lambda x: list(dictionary.token2id.keys())[list(dictionary.token2id.values()).index(x)])\n",
    "\n",
    "# Sort the DataFrame by descending number of occurrences and \n",
    "# print the first 10 values\n",
    "df_bow_origin = df_bow_origin.sort_values('occurrences', ascending=False)\n",
    "df_bow_origin.head(10)"
   ]
  },
  {
   "cell_type": "markdown",
   "metadata": {
    "dc": {
     "key": "52"
    },
    "deletable": false,
    "editable": false,
    "run_control": {
     "frozen": true
    },
    "tags": [
     "context"
    ]
   },
   "source": [
    "## 8. Build a tf-idf model\n",
    "<p>If it wasn't for the presence of the stem \"<em>speci</em>\", we would have a hard time to guess this BoW model comes from the <em>On the Origin of Species</em> book. The most recurring words are, apart from few exceptions, very common and unlikely to carry any information peculiar to the given book. We need to use an additional step in order to determine which tokens are the most specific to a book.</p>\n",
    "<p>To do so, we will use a <strong>tf-idf model</strong> (term frequency–inverse document frequency). This model defines the importance of each word depending on how frequent it is in this text and how infrequent it is in all the other documents. As a result, a high tf-idf score for a word will indicate that this word is specific to this text.</p>\n",
    "<p>After computing those scores, we will print the 10 words most specific to the \"<em>On the Origin of Species</em>\" book (i.e., the 10 words with the highest tf-idf score).</p>"
   ]
  },
  {
   "cell_type": "code",
   "execution_count": 54,
   "metadata": {
    "dc": {
     "key": "52"
    },
    "tags": [
     "sample_code"
    ]
   },
   "outputs": [
    {
     "name": "stdout",
     "output_type": "stream",
     "text": [
      "[(8, 0.00020383224047642202), (21, 0.0005716037746542094), (23, 0.0017118699041370883), (27, 0.0006458270601429994), (28, 0.0025678048562056324), (31, 0.0008559349520685442), (35, 0.00101497410751472), (36, 0.00101497410751472), (51, 0.000886740665721021), (54, 0.00202994821502944), (56, 0.0023757190244598344), (57, 0.00010191612023821101), (63, 0.0027544680933525786), (64, 0.000509580601191055), (66, 0.00020383224047642202), (67, 0.0023757190244598344), (68, 0.00202994821502944), (75, 0.0013772340466762893), (76, 0.0004433703328605105), (78, 0.004171843479607349), (80, 0.0020859217398036746), (83, 0.00857405661981314), (84, 0.000509580601191055), (88, 0.002445986885717064), (89, 0.0033632319678609636), (90, 0.000886740665721021), (91, 0.0016747506839411234), (94, 0.000886740665721021), (95, 0.0004433703328605105), (96, 0.003546962662884084), (97, 0.0016306579238113761), (102, 0.037686478293143394), (104, 0.000917245082143899), (106, 0.001417375386254771), (108, 0.0035434384656369273), (109, 0.005299638252386972), (111, 0.0022421546452406423), (114, 0.0015287418035731652), (123, 0.0509769226270304), (125, 0.009580115302391834), (126, 0.004171843479607349), (127, 0.001417375386254771), (137, 0.020026648174904797), (139, 0.007749924721715993), (141, 0.00101916120238211), (143, 0.004751438048919669), (144, 0.0047597336465067894), (154, 0.0010467191774632021), (156, 0.013962508472634907), (165, 0.006781184131501494), (167, 0.000611496721429266), (172, 0.021771758891234606), (176, 0.0033632319678609636), (178, 0.0031035923300235736), (186, 0.009274366941677202), (188, 0.0016747506839411234), (192, 0.006257765219411025), (196, 0.0038749623608579963), (197, 0.0013772340466762893), (198, 0.000886740665721021), (204, 0.0042521261587643135), (207, 0.0022603947105004976), (212, 0.001324909563096743), (214, 0.020395035311583484), (215, 0.021720943436859957), (219, 0.0019374811804289981), (220, 0.004396220545345449), (221, 0.0054618131386103995), (222, 0.0018206043795367997), (223, 0.0007086876931273855), (224, 0.007703414568616897), (226, 0.0030574836071463303), (230, 0.005135609712411265), (231, 0.0027544680933525786), (235, 0.002445986885717064), (236, 0.0012916541202859988), (237, 0.0020934383549264042), (241, 0.0029308136968969663), (242, 0.0015865778821689297), (243, 0.008263404280057736), (245, 0.004520789421000995), (246, 0.003465148088099174), (247, 0.001732574044049587), (249, 0.0018840945194337638), (251, 0.008343686959214698), (252, 0.0030449223225441605), (253, 0.0006458270601429994), (261, 0.001324909563096743), (269, 0.0006458270601429994), (271, 0.0008373753419705617), (276, 0.009921627703783398), (278, 0.0034296226479252566), (280, 0.0021260630793821567), (283, 0.02138147122013851), (285, 0.001417375386254771), (287, 0.0013301109985815313), (288, 0.006886170233381447), (290, 0.0035434384656369273), (291, 0.0018206043795367997), (296, 0.009839160268154101), (298, 0.042694255446964965), (300, 0.0016747506839411234), (301, 0.000611496721429266), (302, 0.0042521261587643135), (303, 0.004171843479607349), (304, 0.0020859217398036746), (311, 0.0016306579238113761), (313, 0.007086876931273855), (323, 0.0047597336465067894), (325, 0.021606217490500734), (327, 0.001732574044049587), (329, 0.01790404260679176), (335, 0.0004433703328605105), (336, 0.0023922081541910096), (338, 0.0020859217398036746), (339, 0.001417375386254771), (344, 0.001417375386254771), (345, 0.011527628654373272), (346, 0.00020383224047642202), (348, 0.0006280315064779214), (349, 0.0006458270601429994), (351, 0.0036412087590735995), (354, 0.007980665991489189), (356, 0.0018840945194337638), (358, 0.013772340466762893), (359, 0.0022603947105004976), (362, 0.00101497410751472), (367, 0.0023922081541910096), (369, 0.19772097392783367), (370, 0.043694505108883196), (371, 0.000509580601191055), (372, 0.0023922081541910096), (373, 0.0016306579238113761), (374, 0.001732574044049587), (375, 0.001936406284526009), (376, 0.006489658900271853), (377, 0.0030449223225441605), (380, 0.0016145676503574987), (387, 0.0007086876931273855), (388, 0.0042521261587643135), (389, 0.0005716037746542094), (391, 0.0023922081541910096), (400, 0.00202994821502944), (406, 0.013772340466762893), (407, 0.0005716037746542094), (409, 0.0035588452033748874), (411, 0.0007086876931273855), (412, 0.004751438048919669), (418, 0.0027544680933525786), (421, 0.0027544680933525786), (424, 0.007538884401734597), (425, 0.00811979286011776), (426, 0.0032291353007149973), (429, 0.000886740665721021), (431, 0.000886740665721021), (432, 0.010149741075147201), (433, 0.0016306579238113761), (434, 0.00405989643005888), (436, 0.0021260630793821567), (442, 0.009212940010656012), (446, 0.004171843479607349), (448, 0.021562415055741965), (449, 0.03291890683694216), (450, 0.0035434384656369273), (453, 0.0011210773226203211), (454, 0.00405989643005888), (456, 0.011301973552502492), (457, 0.0020859217398036746), (458, 0.0003229135300714997), (463, 0.01790404260679176), (464, 0.0027544680933525786), (465, 0.0008559349520685442), (468, 0.00202994821502944), (470, 0.0018206043795367997), (478, 0.010923626277220799), (482, 0.0344479258546676), (484, 0.013772340466762893), (486, 0.0020859217398036746), (489, 0.0054618131386103995), (490, 0.022603947105004983), (491, 0.00405989643005888), (493, 0.0007086876931273855), (497, 0.012839024281028162), (498, 0.0035434384656369273), (502, 0.00637818923814647), (505, 0.011970998987233783), (507, 0.0009687405902144991), (514, 0.0025121260259116855), (520, 0.004280477050004863), (524, 0.0020859217398036746), (526, 0.005716037746542095), (527, 0.0027544680933525786), (529, 0.006318799454769082), (531, 0.003546962662884084), (532, 0.012791353704852355), (534, 0.005320443994326125), (536, 0.0014268256833349542), (541, 0.0011432075493084189), (543, 0.01110604517518251), (544, 0.0031401575323896065), (546, 0.0017148113239626283), (551, 0.004784416308382019), (552, 0.0031731557643378595), (558, 0.0023922081541910096), (559, 0.00020383224047642202), (561, 0.0022421546452406423), (562, 0.005197722132148762), (563, 0.006908346571257135), (564, 0.0011432075493084189), (565, 0.00405989643005888), (566, 0.0013772340466762893), (569, 0.04034670029030646), (573, 0.010630315396910783), (576, 0.0025121260259116855), (578, 0.0028580188732710474), (579, 0.003159399727384541), (582, 0.0035434384656369273), (586, 0.003563578536689751), (590, 0.0017118699041370883), (592, 0.0010467191774632021), (593, 0.0018206043795367997), (594, 0.015898914757160917), (596, 0.0015865778821689297), (598, 0.0023922081541910096), (600, 0.01251553043882205), (601, 0.00202994821502944), (604, 0.05582357591330961), (605, 0.00637818923814647), (606, 0.0005716037746542094), (616, 0.0010467191774632021), (619, 0.00710481875260304), (620, 0.024945049756828264), (626, 0.0013772340466762893), (628, 0.00041868767098528084), (629, 0.004197875890929496), (633, 0.0013301109985815313), (635, 0.004960813851891699), (636, 0.005991544664479809), (641, 0.006346311528675719), (646, 0.0027544680933525786), (649, 0.005763814327186636), (652, 0.000917245082143899), (653, 0.0011432075493084189), (654, 0.0023757190244598344), (655, 0.0016747506839411234), (657, 0.0030449223225441605), (658, 0.007104097661572994), (660, 0.005144433971887885), (662, 0.003563578536689751), (663, 0.0011878595122299172), (665, 0.00101497410751472), (666, 0.006395676852426178), (667, 0.01623958572023552), (668, 0.005669501545019084), (670, 0.011723254787587865), (674, 0.002445986885717064), (675, 0.0450089246309177), (676, 0.061655829302082535), (678, 0.00040766448095284403), (679, 0.005144433971887885), (681, 0.0007134128416674771), (682, 0.0015865778821689297), (685, 0.0020859217398036746), (686, 0.0006458270601429994), (693, 0.0035670642083373855), (698, 0.0022864150986168378), (705, 0.0034237398082741766), (712, 0.0017118699041370883), (713, 0.0013772340466762893), (720, 0.0029308136968969663), (722, 0.005074870537573601), (726, 0.01771719232818464), (727, 0.004396220545345449), (728, 0.0031731557643378595), (729, 0.006089844645088321), (730, 0.01028886794377577), (731, 0.0017148113239626283), (740, 0.008357121859533303), (741, 0.0066990027357644935), (743, 0.006930296176198348), (744, 0.01033323296228799), (745, 0.006257765219411025), (748, 0.017254559827750243), (750, 0.07127157073379503), (752, 0.1459896647842414), (753, 0.06980942681543291), (758, 0.004197875890929496), (769, 0.0017118699041370883), (770, 0.0010467191774632021), (771, 0.0007134128416674771), (776, 0.00020934383549264042), (783, 0.006346311528675719), (784, 0.004171843479607349), (785, 0.002834750772509542), (786, 0.004171843479607349), (787, 0.006930296176198348), (788, 0.002955567486908119), (789, 0.003546962662884084), (793, 0.014208195323145987), (797, 0.004197875890929496), (798, 0.024359378580353284), (803, 0.010149741075147201), (805, 0.0034237398082741766), (806, 0.02571547930590961), (810, 0.0011878595122299172), (811, 0.006886170233381447), (815, 0.0018840945194337638), (816, 0.0012560630129558428), (817, 0.0015865778821689297), (819, 0.0026602219971630626), (820, 0.006458270601429995), (821, 0.006207184660047147), (822, 0.0688958517093352), (825, 0.0003229135300714997), (830, 0.001222993442858532), (831, 0.003552048830786497), (832, 0.02256933073236843), (833, 0.01097906002243099), (834, 0.0017118699041370883), (838, 0.001936406284526009), (839, 0.0016306579238113761), (842, 0.0013772340466762893), (848, 0.006886170233381447), (849, 0.0011432075493084189), (851, 0.0020859217398036746), (857, 0.0005716037746542094), (859, 0.008343686959214698), (861, 0.0018840945194337638), (862, 0.001732574044049587), (866, 0.004433703328605105), (867, 0.004784416308382019), (870, 0.0003229135300714997), (873, 0.01886292456358891), (875, 0.0009687405902144991), (878, 0.00202994821502944), (879, 0.005489530011215495), (881, 0.0007086876931273855), (883, 0.0008153289619056881), (885, 0.0023922081541910096), (887, 0.001732574044049587), (891, 0.0006458270601429994), (892, 0.0013772340466762893), (894, 0.002445986885717064), (897, 0.005991544664479809), (898, 0.0011432075493084189), (903, 0.0011878595122299172), (905, 0.0025678048562056324), (909, 0.002649819126193486), (910, 0.005508936186705157), (917, 0.05877026247301295), (919, 0.0017118699041370883), (921, 0.0011210773226203211), (924, 0.0054015543726251836), (925, 0.004784416308382019), (929, 0.013718490591701027), (931, 0.00101497410751472), (935, 0.0026602219971630626), (936, 0.0025121260259116855), (937, 0.0009687405902144991), (939, 0.0016306579238113761), (944, 0.000886740665721021), (945, 0.00710481875260304), (948, 0.0023757190244598344), (951, 0.012692623057351438), (952, 0.006089844645088321), (953, 0.005074870537573601), (956, 0.010149741075147201), (957, 0.0012560630129558428), (958, 0.0008559349520685442), (962, 0.0011432075493084189), (966, 0.12753430785821307), (967, 0.047703783053191846), (971, 0.0019374811804289981), (973, 0.000509580601191055), (975, 0.00040766448095284403), (976, 0.00203832240476422), (980, 0.009502876097839338), (981, 0.016526808560115472), (982, 0.00101497410751472), (985, 0.03886905667648624), (988, 0.004382393170243073), (992, 0.0014268256833349542), (994, 0.007932889410844648), (995, 0.021725146310165012), (996, 0.011527628654373272), (997, 0.0022603947105004976), (998, 0.03014551231094022), (999, 0.009519467293013579), (1000, 0.00010191612023821101), (1004, 0.0011878595122299172), (1007, 0.011339003090038168), (1009, 0.004520789421000995), (1010, 0.0034296226479252566), (1012, 0.013194663397691361), (1013, 0.006089844645088321), (1016, 0.018752566123830826), (1018, 0.005911134973816238), (1019, 0.00020383224047642202), (1020, 0.0007134128416674771), (1022, 0.0022864150986168378), (1023, 0.0012916541202859988), (1024, 0.055986327757063456), (1026, 0.0017148113239626283), (1029, 0.00710481875260304), (1030, 0.0030449223225441605), (1031, 0.000611496721429266), (1037, 0.0007086876931273855), (1039, 0.0005716037746542094), (1042, 0.01110604517518251), (1045, 0.02000613211289733), (1048, 0.007703414568616897), (1050, 0.0015865778821689297), (1053, 0.006859245295850513), (1060, 0.002445986885717064), (1061, 0.019686503897576514), (1062, 0.004279674760342721), (1065, 0.009640638326734025), (1067, 0.0023757190244598344), (1068, 0.00931077699007072), (1077, 0.0011878595122299172), (1082, 0.004131702140028868), (1083, 0.06973566050781355), (1085, 0.01623958572023552), (1086, 0.0250310608776441), (1087, 0.001417375386254771), (1088, 0.0005716037746542094), (1089, 0.00968740590214499), (1092, 0.11889753916880946), (1093, 0.01110604517518251), (1094, 0.0013772340466762893), (1095, 0.0018206043795367997), (1096, 0.0045728301972336755), (1098, 0.0006458270601429994), (1103, 0.0031731557643378595), (1106, 0.0047597336465067894), (1107, 0.0022603947105004976), (1108, 0.009593515278639267), (1109, 0.0018206043795367997), (1110, 0.005489530011215495), (1112, 0.001773481331442042), (1115, 0.02203574474682063), (1117, 0.0022603947105004976), (1118, 0.004877073661465615), (1119, 0.0036412087590735995), (1120, 0.010149741075147201), (1122, 0.010690735610069255), (1123, 0.0031731557643378595), (1124, 0.0003229135300714997), (1125, 0.0020934383549264042), (1132, 0.0006280315064779214), (1135, 0.0031731557643378595), (1136, 0.0020859217398036746), (1142, 0.001222993442858532), (1145, 0.000611496721429266), (1146, 0.00101497410751472), (1148, 0.001324909563096743), (1154, 0.0015865778821689297), (1158, 0.0020859217398036746), (1161, 0.0015865778821689297), (1167, 0.005508936186705157), (1169, 0.001417375386254771), (1173, 0.001773481331442042), (1174, 0.0031401575323896065), (1175, 0.0009687405902144991), (1176, 0.0005716037746542094), (1177, 0.0023922081541910096), (1179, 0.02203574474682063), (1180, 0.0008373753419705617), (1182, 0.0015865778821689297), (1185, 0.00020934383549264042), (1186, 0.0027544680933525786), (1187, 0.001417375386254771), (1192, 0.006908346571257135), (1193, 0.00710481875260304), (1196, 0.003197838426213089), (1198, 0.0273207687812881), (1200, 0.0009687405902144991), (1208, 0.0034296226479252566), (1209, 0.0016306579238113761), (1210, 0.0022603947105004976), (1212, 0.00405989643005888), (1214, 0.0036412087590735995), (1218, 0.00020934383549264042), (1223, 0.018291320788934702), (1224, 0.006257765219411025), (1225, 0.006395676852426178), (1227, 0.0013772340466762893), (1228, 0.004520789421000995), (1229, 0.005233595887316011), (1230, 0.0021402385250024313), (1232, 0.00831501658560942), (1234, 0.004171843479607349), (1236, 0.030149182634514715), (1239, 0.0006280315064779214), (1240, 0.0016306579238113761), (1241, 0.000509580601191055), (1245, 0.004279674760342721), (1246, 0.0013772340466762893), (1247, 0.0028580188732710474), (1248, 0.02138147122013851), (1249, 0.0007086876931273855), (1251, 0.008263404280057736), (1254, 0.009103021897684), (1255, 0.12827247245605677), (1257, 0.0027544680933525786), (1258, 0.004001226422579465), (1259, 0.016687373918429397), (1260, 0.0016306579238113761), (1261, 0.0023922081541910096), (1264, 0.006489658900271853), (1267, 0.0018840945194337638), (1270, 0.0054618131386103995), (1272, 0.0008559349520685442), (1273, 0.0016306579238113761), (1275, 0.004382393170243073), (1278, 0.0016306579238113761), (1281, 0.10809521561292246), (1283, 0.005716037746542095), (1284, 0.0015865778821689297), (1285, 0.0022864150986168378), (1286, 0.0012560630129558428), (1290, 0.0042521261587643135), (1292, 0.00020383224047642202), (1293, 0.01116471518266192), (1294, 0.0018206043795367997), (1296, 0.000886740665721021), (1297, 0.0033495013678822468), (1300, 0.0006458270601429994), (1301, 0.005144433971887885), (1302, 0.005508936186705157), (1305, 0.00101497410751472), (1307, 0.006781184131501494), (1310, 0.0015287418035731652), (1311, 0.005442939722808651), (1314, 0.023338791534550322), (1315, 0.11339003090038167), (1317, 0.006280315064779213), (1319, 0.01116471518266192), (1320, 0.002751735246431697), (1322, 0.0011432075493084189), (1323, 0.041978758909294964), (1324, 0.010923626277220799), (1325, 0.001732574044049587), (1326, 0.00020934383549264042), (1327, 0.00020383224047642202), (1328, 0.0035588452033748874), (1331, 0.0022168516643025524), (1333, 0.09545783036725297), (1334, 0.0005716037746542094), (1335, 0.0031731557643378595), (1336, 0.0015865778821689297), (1337, 0.001222993442858532), (1338, 0.0021260630793821567), (1339, 0.0005716037746542094), (1340, 0.0017118699041370883), (1342, 0.07023893638049075), (1346, 0.013772340466762893), (1347, 0.0022603947105004976), (1349, 0.005991544664479809), (1351, 0.0012560630129558428), (1355, 0.0025121260259116855), (1356, 0.000611496721429266), (1359, 0.0030449223225441605), (1360, 0.0014654068484484832), (1363, 0.04312483011148393), (1364, 0.01323945473293149), (1379, 0.0022864150986168378), (1380, 0.0006280315064779214), (1381, 0.000886740665721021), (1390, 0.008504252317528627), (1393, 0.0006458270601429994), (1396, 0.00800245284515893), (1402, 0.0007086876931273855), (1406, 0.0020859217398036746), (1407, 0.0084240363243497), (1410, 0.0011432075493084189), (1411, 0.0032291353007149973), (1414, 0.001417375386254771), (1416, 0.0023757190244598344), (1418, 0.001222993442858532), (1423, 0.005320443994326125), (1425, 0.0022864150986168378), (1426, 0.0025678048562056324), (1428, 0.026796010943057974), (1430, 0.02341297879349692), (1433, 0.006287641521196303), (1439, 0.0027544680933525786), (1441, 0.0036412087590735995), (1442, 0.0023922081541910096), (1443, 0.0013772340466762893), (1445, 0.038426710078508466), (1449, 0.0031731557643378595), (1450, 0.0008373753419705617), (1451, 0.0008559349520685442), (1457, 0.0054015543726251836), (1464, 0.004877073661465615), (1465, 0.0017148113239626283), (1471, 0.031288248913130784), (1476, 0.003197838426213089), (1478, 0.0025678048562056324), (1480, 0.000917245082143899), (1482, 0.006257765219411025), (1488, 0.0011432075493084189), (1489, 0.005166616481143995), (1492, 0.007176624462573028), (1493, 0.0010467191774632021), (1497, 0.006886170233381447), (1500, 0.000509580601191055), (1502, 0.005074870537573601), (1503, 0.002751735246431697), (1506, 0.02482211360998778), (1520, 0.0027214698614043257), (1523, 0.016526808560115472), (1524, 0.0729948323921207), (1525, 0.004171843479607349), (1530, 0.0023757190244598344), (1532, 0.0036412087590735995), (1533, 0.0023757190244598344), (1534, 0.0021260630793821567), (1535, 0.0008373753419705617), (1536, 0.024095381566331106), (1540, 0.0013772340466762893), (1541, 0.00857405661981314), (1542, 0.0014268256833349542), (1543, 0.00931077699007072), (1544, 0.0032291353007149973), (1546, 0.009568832616764038), (1548, 0.006395676852426178), (1554, 0.017817892683448758), (1557, 0.0013772340466762893), (1559, 0.001732574044049587), (1561, 0.005911134973816238), (1566, 0.004960813851891699), (1568, 0.013772340466762893), (1572, 0.0015865778821689297), (1576, 0.0016306579238113761), (1577, 0.00020383224047642202), (1578, 0.000611496721429266), (1581, 0.012414369320094295), (1583, 0.0047597336465067894), (1587, 0.0017148113239626283), (1588, 0.0013772340466762893), (1589, 0.004171843479607349), (1590, 0.0020859217398036746), (1598, 0.00040766448095284403), (1601, 0.0022168516643025524), (1605, 0.0023757190244598344), (1607, 0.0034296226479252566), (1609, 0.004784416308382019), (1613, 0.005716037746542095), (1616, 0.008263404280057736), (1619, 0.0008559349520685442), (1624, 0.005135609712411265), (1625, 0.017254559827750243), (1627, 0.0011432075493084189), (1628, 0.040583868000448865), (1629, 0.002445986885717064), (1635, 0.007703414568616897), (1636, 0.003563578536689751), (1637, 0.013772340466762893), (1640, 0.009103021897684), (1642, 0.0035434384656369273), (1643, 0.0034296226479252566), (1644, 0.0020859217398036746), (1646, 0.006257765219411025), (1647, 0.0014268256833349542), (1648, 0.005991544664479809), (1649, 0.000509580601191055), (1650, 0.0012560630129558428), (1655, 0.0032613158476227522), (1657, 0.00998777978334468), (1661, 0.0016747506839411234), (1665, 0.002751735246431697), (1666, 0.0015287418035731652), (1667, 0.0012916541202859988), (1668, 0.004751438048919669), (1670, 0.03715424535252361), (1677, 0.0015287418035731652), (1680, 0.00101916120238211), (1684, 0.008263404280057736), (1686, 0.0014654068484484832), (1692, 0.0008153289619056881), (1695, 0.0012916541202859988), (1696, 0.012179689290176642), (1701, 0.005135609712411265), (1705, 0.0031035923300235736), (1708, 0.0035588452033748874), (1710, 0.001222993442858532), (1712, 0.000305748360714633), (1715, 0.0011878595122299172), (1716, 0.001732574044049587), (1719, 0.0003229135300714997), (1722, 0.0027544680933525786), (1727, 0.0011432075493084189), (1728, 0.10571949658846262), (1735, 0.00202994821502944), (1743, 0.0020934383549264042), (1744, 0.0009687405902144991), (1752, 0.026602219971630627), (1754, 0.007282417518147199), (1759, 0.008263404280057736), (1761, 0.0031401575323896065), (1762, 0.0008373753419705617), (1763, 0.0059392975611495865), (1766, 0.0014654068484484832), (1768, 0.007176624462573028), (1770, 0.0023757190244598344), (1772, 0.01626276408930234), (1774, 0.0031731557643378595), (1775, 0.0054618131386103995), (1778, 0.006859245295850513), (1779, 0.007282417518147199), (1780, 0.0010467191774632021), (1781, 0.002834750772509542), (1782, 0.004960813851891699), (1784, 0.0027544680933525786), (1785, 0.006395676852426178), (1793, 0.0020859217398036746), (1794, 0.0008559349520685442), (1797, 0.01883056894550797), (1798, 0.02109663688930968), (1799, 0.0047597336465067894), (1806, 0.002955567486908119), (1808, 0.006346311528675719), (1813, 0.0004433703328605105), (1815, 0.0013772340466762893), (1816, 0.0013772340466762893), (1820, 0.0023757190244598344), (1823, 0.008559349520685442), (1825, 0.0054618131386103995), (1832, 0.0011210773226203211), (1833, 0.0031035923300235736), (1834, 0.0008373753419705617), (1835, 0.0007086876931273855), (1838, 0.0005716037746542094), (1840, 0.0006280315064779214), (1841, 0.0015865778821689297), (1846, 0.006886170233381447), (1847, 0.005144433971887885), (1848, 0.009640638326734025), (1849, 0.00101916120238211), (1850, 0.005508936186705157), (1851, 0.009415284472753985), (1853, 0.017118699041370884), (1854, 0.0017118699041370883), (1857, 0.004382393170243073), (1858, 0.0029062217706434974), (1859, 0.04178560929766652), (1860, 0.003552048830786497), (1862, 0.00710481875260304), (1864, 0.0021260630793821567), (1866, 0.004131702140028868), (1869, 0.006346311528675719), (1876, 0.00020934383549264042), (1878, 0.07361040587789479), (1881, 0.020026648174904797), (1884, 0.006089844645088321), (1885, 0.00857405661981314), (1898, 0.005812443541286995), (1899, 0.0027544680933525786), (1904, 0.005508936186705157), (1905, 0.005135609712411265), (1906, 0.0008559349520685442), (1907, 0.0006458270601429994), (1908, 0.00040766448095284403), (1909, 0.0034237398082741766), (1910, 0.0027544680933525786), (1915, 0.0023922081541910096), (1916, 0.0013301109985815313), (1922, 0.01251553043882205), (1923, 0.0031731557643378595), (1926, 0.0025678048562056324), (1933, 0.001834490164287798), (1934, 0.000305748360714633), (1935, 0.007703414568616897), (1938, 0.006207184660047147), (1940, 0.006847479616548353), (1941, 0.0033495013678822468), (1942, 0.00010191612023821101), (1944, 0.0011878595122299172), (1945, 0.0012560630129558428), (1948, 0.0005716037746542094), (1949, 0.00499388989167234), (1951, 0.010690735610069255), (1952, 0.0023757190244598344), (1953, 0.0027544680933525786), (1958, 0.004784416308382019), (1959, 0.00020934383549264042), (1964, 0.007282417518147199), (1965, 0.00101497410751472), (1966, 0.01097906002243099), (1967, 0.00499388989167234), (1968, 0.005135609712411265), (1974, 0.01417375386254771), (1979, 0.0021260630793821567), (1980, 0.004279674760342721), (1981, 0.00203832240476422), (1982, 0.0013772340466762893), (1985, 0.015865778821689297), (1986, 0.061627316548935177), (1990, 0.011961040770955049), (1991, 0.0003229135300714997), (1993, 0.02065851070014434), (1994, 0.009134766967632482), (1997, 0.0025833082405719975), (2000, 0.0025121260259116855), (2001, 0.0007134128416674771), (2002, 0.001732574044049587), (2003, 0.00101497410751472), (2007, 0.0016306579238113761), (2010, 0.003977532874360168), (2012, 0.013607349307021628), (2013, 0.0013301109985815313), (2014, 0.0011210773226203211), (2018, 0.001417375386254771), (2020, 0.0016306579238113761), (2021, 0.0017118699041370883), (2022, 0.008255205739295092), (2023, 0.0005716037746542094), (2026, 0.00481490821633073), (2030, 0.0005716037746542094), (2031, 0.0018206043795367997), (2032, 0.0020859217398036746), (2037, 0.0005716037746542094), (2039, 0.008583097255198258), (2044, 0.0059392975611495865), (2045, 0.0010467191774632021), (2049, 0.0035434384656369273), (2051, 0.0008153289619056881), (2053, 0.003563578536689751), (2054, 0.000886740665721021), (2055, 0.001732574044049587), (2065, 0.001834490164287798), (2066, 0.0005716037746542094), (2067, 0.009921627703783398), (2068, 0.0018206043795367997), (2069, 0.0005716037746542094), (2073, 0.004751438048919669), (2074, 0.00101497410751472), (2076, 0.0031035923300235736), (2078, 0.0015865778821689297), (2082, 0.0011878595122299172), (2083, 0.0014654068484484832), (2084, 0.0011432075493084189), (2086, 0.0054618131386103995), (2087, 0.011304567116602583), (2088, 0.0003229135300714997), (2089, 0.000917245082143899), (2090, 0.003197838426213089), (2095, 0.0013772340466762893), (2096, 0.000886740665721021), (2102, 0.0027544680933525786), (2108, 0.004171843479607349), (2110, 0.0008559349520685442), (2111, 0.000917245082143899), (2114, 0.007086876931273855), (2116, 0.0023757190244598344), (2117, 0.004131702140028868), (2118, 0.02065851070014434), (2119, 0.004843702951072495), (2125, 0.0011878595122299172), (2127, 0.0023922081541910096), (2128, 0.0059392975611495865), (2133, 0.001417375386254771), (2134, 0.0038749623608579963), (2135, 0.0020859217398036746), (2136, 0.007932889410844648), (2138, 0.0021260630793821567), (2144, 0.039395450668722964), (2145, 0.001417375386254771), (2148, 0.0022421546452406423), (2152, 0.002302782190419045), (2154, 0.0014268256833349542), (2155, 0.0054618131386103995), (2156, 0.04131702140028868), (2158, 0.07758980825058934), (2159, 0.024359378580353284), (2162, 0.014290094366355236), (2164, 0.3274137142248521), (2165, 0.007537295658628679), (2169, 0.002547903005955275), (2170, 0.0012916541202859988), (2172, 0.00202994821502944), (2176, 0.006089844645088321), (2180, 0.0029308136968969663), (2183, 0.0026602219971630626), (2186, 0.02858018873271047), (2187, 0.04536455245963284), (2195, 0.013718490591701027), (2197, 0.02837570130307267), (2200, 0.0007086876931273855), (2202, 0.0013772340466762893), (2206, 0.01657650946497207), (2208, 0.00101497410751472), (2210, 0.026167446886849497), (2222, 0.0018206043795367997), (2223, 0.0018206043795367997), (2226, 0.0021402385250024313), (2227, 0.00202994821502944), (2229, 0.0054618131386103995), (2232, 0.00010191612023821101), (2233, 0.002445986885717064), (2234, 0.006346311528675719), (2235, 0.0047597336465067894), (2237, 0.00041868767098528084), (2238, 0.00020383224047642202), (2240, 0.0012916541202859988), (2241, 0.009640638326734025), (2242, 0.002834750772509542), (2244, 0.07437063852051962), (2249, 0.000886740665721021), (2250, 0.0022168516643025524), (2255, 0.005716037746542095), (2258, 0.0023922081541910096), (2264, 0.000305748360714633), (2266, 0.0020859217398036746), (2267, 0.00460556438083809), (2272, 0.004131702140028868), (2273, 0.004171843479607349), (2274, 0.002751735246431697), (2277, 0.0021260630793821567), (2279, 0.0023922081541910096), (2280, 0.005166616481143995), (2281, 0.0008373753419705617), (2282, 0.001732574044049587), (2284, 0.01306645463452909), (2285, 0.0023757190244598344), (2289, 0.006420715575007294), (2290, 0.005299638252386972), (2292, 0.004279674760342721), (2294, 0.0015865778821689297), (2296, 0.0015865778821689297), (2297, 0.00041868767098528084), (2300, 0.004001226422579465), (2302, 0.009103021897684), (2303, 0.00203832240476422), (2305, 0.005508936186705157), (2309, 0.01420963750520608), (2311, 0.008263404280057736), (2313, 0.0074308490705047225), (2315, 0.000886740665721021), (2317, 0.0022421546452406423), (2319, 0.0022864150986168378), (2320, 0.0031035923300235736), (2322, 0.0039903329957445945), (2325, 0.14818621969714912), (2328, 0.00101497410751472), (2330, 0.04287028309906571), (2332, 0.0020934383549264042), (2335, 0.004001226422579465), (2336, 0.01116471518266192), (2337, 0.0031731557643378595), (2339, 0.0030574836071463303), (2340, 0.03718531926025981), (2342, 0.0014654068484484832), (2343, 0.0025678048562056324), (2344, 0.0014654068484484832), (2346, 0.004960813851891699), (2349, 0.0034237398082741766), (2352, 0.0013301109985815313), (2353, 0.0009687405902144991), (2357, 0.06874270623335639), (2359, 0.0015865778821689297), (2361, 0.002649819126193486), (2363, 0.0006458270601429994), (2364, 0.007439876777389404), (2368, 0.027404300902897444), (2369, 0.0042521261587643135), (2370, 0.0013772340466762893), (2375, 0.007980665991489189), (2376, 0.003159399727384541), (2377, 0.0030574836071463303), (2378, 0.00857405661981314), (2381, 0.00202994821502944), (2382, 0.0016747506839411234), (2383, 0.000886740665721021), (2385, 0.0006458270601429994), (2387, 0.0003229135300714997), (2389, 0.0042521261587643135), (2392, 0.0006280315064779214), (2393, 0.00203832240476422), (2396, 0.006257765219411025), (2399, 0.011084258321512764), (2401, 0.00101497410751472), (2408, 0.016538163003918593), (2409, 0.019005752195678675), (2417, 0.0007086876931273855), (2418, 0.004131702140028868), (2419, 0.0013772340466762893), (2420, 0.0013301109985815313), (2421, 0.01064088798865225), (2422, 0.014187850651536335), (2423, 0.0019374811804289981), (2431, 0.0005716037746542094), (2432, 0.003159399727384541), (2433, 0.00010191612023821101), (2434, 0.0020934383549264042), (2444, 0.0005716037746542094), (2446, 0.02909879313347702), (2449, 0.0047597336465067894), (2455, 0.003546962662884084), (2458, 0.000509580601191055), (2459, 0.0006280315064779214), (2460, 0.0016747506839411234), (2464, 0.0016747506839411234), (2468, 0.013885281793074487), (2477, 0.0020859217398036746), (2478, 0.0011878595122299172), (2479, 0.0011432075493084189), (2480, 0.007703414568616897), (2481, 0.0015287418035731652), (2484, 0.00020934383549264042), (2488, 0.0016747506839411234), (2489, 0.00405989643005888), (2491, 0.0007134128416674771), (2492, 0.008343686959214698), (2493, 0.00020934383549264042), (2494, 0.0022603947105004976), (2498, 0.0008559349520685442), (2502, 0.005135609712411265), (2506, 0.0003229135300714997), (2508, 0.0027544680933525786), (2509, 0.017437330623860985), (2511, 0.001324909563096743), (2515, 0.015224611612720802), (2516, 0.002834750772509542), (2517, 0.00998777978334468), (2520, 0.000886740665721021), (2521, 0.012414369320094295), (2525, 0.0015865778821689297), (2526, 0.00203832240476422), (2527, 0.0012916541202859988), (2529, 0.003977532874360168), (2530, 0.004520789421000995), (2533, 0.0014654068484484832), (2534, 0.0027544680933525786), (2538, 0.0011878595122299172), (2540, 0.0008153289619056881), (2543, 0.008373753419705617), (2545, 0.001936406284526009), (2546, 0.0012916541202859988), (2549, 0.03443085116690723), (2554, 0.001773481331442042), (2558, 0.0014268256833349542), (2559, 0.008263404280057736), (2560, 0.0025678048562056324), (2561, 0.003563578536689751), (2562, 0.0038749623608579963), (2564, 0.0003229135300714997), (2566, 0.0020934383549264042), (2569, 0.009839160268154101), (2573, 0.0084240363243497), (2574, 0.0032291353007149973), (2584, 0.0013772340466762893), (2586, 0.009103021897684), (2588, 0.000509580601191055), (2590, 0.0003229135300714997), (2592, 0.007093925325768168), (2598, 0.003546962662884084), (2599, 0.010690735610069255), (2600, 0.0033632319678609636), (2603, 0.0034296226479252566), (2604, 0.005135609712411265), (2605, 0.005197722132148762), (2607, 0.0023757190244598344), (2610, 0.03223895066586663), (2611, 0.039565984908109045), (2612, 0.05258871804291688), (2614, 0.0007086876931273855), (2615, 0.003159399727384541), (2616, 0.0020859217398036746), (2620, 0.0059392975611495865), (2623, 0.00101497410751472), (2629, 0.005320443994326125), (2631, 0.0003229135300714997), (2636, 0.0015865778821689297), (2638, 0.0003229135300714997), (2639, 0.008559349520685442), (2646, 0.000886740665721021), (2648, 0.001222993442858532), (2651, 0.00020934383549264042), (2652, 0.0009687405902144991), (2653, 0.00460556438083809), (2654, 0.008263404280057736), (2657, 0.002302782190419045), (2659, 0.0022864150986168378), (2660, 0.008263404280057736), (2661, 0.0028580188732710474), (2662, 0.004433703328605105), (2665, 0.005716037746542095), (2667, 0.0012560630129558428), (2668, 0.0006458270601429994), (2671, 0.00020934383549264042), (2678, 0.0008153289619056881), (2681, 0.0020859217398036746), (2691, 0.001222993442858532), (2695, 0.040395198508260975), (2697, 0.0020859217398036746), (2699, 0.0022603947105004976), (2702, 0.0034237398082741766), (2707, 0.003563578536689751), (2711, 0.028706497850292112), (2712, 0.006650554992907657), (2716, 0.0491563182474936), (2718, 0.001773481331442042), (2720, 0.005135609712411265), (2722, 0.0020859217398036746), (2724, 0.0022168516643025524), (2729, 0.0006280315064779214), (2730, 0.0022168516643025524), (2731, 0.003546962662884084), (2733, 0.0011432075493084189), (2737, 0.0031731557643378595), (2738, 0.0025678048562056324), (2744, 0.0023922081541910096), (2745, 0.0011432075493084189), (2749, 0.000886740665721021), (2753, 0.0011210773226203211), (2754, 0.0022603947105004976), (2755, 0.0007086876931273855), (2756, 0.0005716037746542094), (2757, 0.0005716037746542094), (2758, 0.005135609712411265), (2759, 0.0017118699041370883), (2760, 0.000917245082143899), (2761, 0.000886740665721021), (2762, 0.0025678048562056324), (2763, 0.0008559349520685442), (2764, 0.0034296226479252566), (2765, 0.00101497410751472), (2766, 0.001222993442858532), (2767, 0.00020934383549264042), (2768, 0.0008559349520685442), (2769, 0.0007086876931273855), (2770, 0.0011878595122299172), (2772, 0.00020383224047642202), (2773, 0.000886740665721021), (2774, 0.002834750772509542), (2775, 0.0008559349520685442), (2776, 0.005074870537573601), (2777, 0.002834750772509542), (2778, 0.003563578536689751), (2779, 0.01027121942482253), (2780, 0.007127157073379502), (2781, 0.005991544664479809), (2782, 0.004751438048919669), (2783, 0.002834750772509542), (2784, 0.0035434384656369273), (2785, 0.0005716037746542094), (2786, 0.0008559349520685442), (2787, 0.001417375386254771), (2788, 0.00202994821502944), (2789, 0.0017148113239626283), (2790, 0.001417375386254771), (2791, 0.0013772340466762893), (2792, 0.0034237398082741766), (2793, 0.0017148113239626283), (2795, 0.0030449223225441605), (2796, 0.003563578536689751), (2797, 0.00811979286011776), (2798, 0.00202994821502944), (2799, 0.005074870537573601), (2800, 0.00101497410751472), (2801, 0.0015865778821689297), (2802, 0.0005716037746542094), (2804, 0.00020383224047642202), (2805, 0.0011432075493084189), (2806, 0.0023757190244598344), (2807, 0.003563578536689751), (2808, 0.0015865778821689297), (2811, 0.004751438048919669), (2815, 0.00101497410751472), (2816, 0.0047597336465067894), (2818, 0.00101916120238211), (2819, 0.0008373753419705617), (2820, 0.009640638326734025), (2822, 0.0017148113239626283), (2828, 0.0011878595122299172), (2830, 0.00101497410751472), (2832, 0.00041868767098528084), (2833, 0.006847479616548353), (2834, 0.004131702140028868), (2835, 0.01110604517518251), (2836, 0.0025678048562056324), (2837, 0.005991544664479809), (2838, 0.000509580601191055), (2839, 0.00041868767098528084), (2840, 0.00101497410751472), (2841, 0.005135609712411265), (2842, 0.0027544680933525786), (2843, 0.00010191612023821101), (2844, 0.0017148113239626283), (2845, 0.005074870537573601), (2846, 0.006346311528675719), (2847, 0.0059392975611495865), (2848, 0.006886170233381447), (2849, 0.004279674760342721), (2850, 0.003563578536689751), (2851, 0.004279674760342721), (2852, 0.00831501658560942), (2853, 0.00020383224047642202), (2854, 0.0007086876931273855), (2855, 0.00101497410751472), (2856, 0.0027544680933525786), (2857, 0.006089844645088321), (2858, 0.0036412087590735995), (2859, 0.0008559349520685442), (2860, 0.0015865778821689297), (2861, 0.0009687405902144991), (2862, 0.0015865778821689297), (2863, 0.003563578536689751), (2864, 0.0011878595122299172), (2865, 0.00405989643005888), (2866, 0.00010191612023821101), (2867, 0.0019374811804289981), (2868, 0.0030449223225441605), (2869, 0.0030449223225441605), (2870, 0.004751438048919669), (2871, 0.000305748360714633), (2872, 0.0034237398082741766), (2873, 0.003563578536689751), (2874, 0.00405989643005888), (2875, 0.0030449223225441605), (2876, 0.004131702140028868), (2877, 0.00020934383549264042), (2878, 0.0023757190244598344), (2879, 0.00202994821502944), (2880, 0.0011878595122299172), (2881, 0.003563578536689751), (2882, 0.006886170233381447), (2883, 0.006089844645088321), (2884, 0.0018206043795367997), (2885, 0.0017118699041370883), (2886, 0.004751438048919669), (2887, 0.000611496721429266), (2888, 0.0008559349520685442), (2889, 0.00101497410751472), (2890, 0.0031731557643378595), (2891, 0.005135609712411265), (2892, 0.003563578536689751), (2893, 0.0020859217398036746), (2894, 0.0015865778821689297), (2895, 0.003563578536689751), (2896, 0.0006280315064779214), (2897, 0.0022168516643025524), (2898, 0.007127157073379502), (2899, 0.0011878595122299172), (2900, 0.0008559349520685442), (2901, 0.004751438048919669), (2903, 0.0006280315064779214), (2904, 0.0011878595122299172), (2905, 0.0034237398082741766), (2906, 0.0006280315064779214), (2907, 0.00101497410751472), (2908, 0.0008559349520685442), (2909, 0.0015865778821689297), (2910, 0.0027544680933525786), (2911, 0.0023757190244598344), (2912, 0.012839024281028162), (2913, 0.0006458270601429994), (2914, 0.0005716037746542094), (2915, 0.0025678048562056324), (2916, 0.0008373753419705617), (2917, 0.005135609712411265), (2918, 0.009502876097839338), (2919, 0.00710481875260304), (2920, 0.0008559349520685442), (2921, 0.00040766448095284403), (2922, 0.013772340466762893), (2923, 0.000886740665721021), (2924, 0.003563578536689751), (2925, 0.008263404280057736), (2926, 0.012395106420086604), (2927, 0.00010191612023821101), (2928, 0.00041868767098528084), (2929, 0.0013301109985815313), (2930, 0.0018206043795367997), (2931, 0.007932889410844648), (2932, 0.0054618131386103995), (2933, 0.0006458270601429994), (2934, 0.0007086876931273855), (2935, 0.0025678048562056324), (2936, 0.0006280315064779214), (2937, 0.0007086876931273855), (2938, 0.0027544680933525786), (2939, 0.004751438048919669), (2940, 0.00101497410751472), (2941, 0.00041868767098528084), (2942, 0.00101497410751472), (2943, 0.0011878595122299172), (2944, 0.004751438048919669), (2945, 0.0013772340466762893), (2946, 0.0023757190244598344), (2947, 0.0013772340466762893), (2948, 0.008263404280057736), (2949, 0.001773481331442042), (2950, 0.003563578536689751), (2951, 0.01110604517518251), (2952, 0.0018206043795367997), (2953, 0.0031731557643378595), (2954, 0.00831501658560942), (2955, 0.0011878595122299172), (2956, 0.01110604517518251), (2957, 0.0015865778821689297), (2958, 0.0018206043795367997), (2959, 0.0047597336465067894), (2960, 0.001773481331442042), (2961, 0.0011878595122299172), (2962, 0.0013772340466762893), (2963, 0.0023922081541910096), (2964, 0.0018206043795367997), (2965, 0.0008373753419705617), (2966, 0.003563578536689751), (2967, 0.0016145676503574987), (2968, 0.0020859217398036746), (2969, 0.0011878595122299172), (2970, 0.0003229135300714997), (2972, 0.00040766448095284403), (2973, 0.005135609712411265), (2976, 0.00020934383549264042), (2981, 0.0008373753419705617), (2982, 0.0006458270601429994), (2985, 0.0006458270601429994), (2986, 0.0003229135300714997), (2987, 0.0012916541202859988), (2988, 0.00041868767098528084), (2989, 0.00041868767098528084), (2993, 0.00040766448095284403), (2994, 0.0022603947105004976), (2995, 0.002834750772509542), (3001, 0.0012916541202859988), (3002, 0.0019374811804289981), (3004, 0.0006458270601429994), (3005, 0.0013301109985815313), (3008, 0.0007134128416674771), (3009, 0.0003229135300714997), (3010, 0.0009687405902144991), (3012, 0.0022864150986168378), (3013, 0.000886740665721021), (3014, 0.005669501545019084), (3015, 0.0013301109985815313), (3018, 0.000886740665721021), (3019, 0.002834750772509542), (3023, 0.0025678048562056324), (3026, 0.0025678048562056324), (3027, 0.0042521261587643135), (3028, 0.002834750772509542), (3029, 0.000509580601191055), (3030, 0.0028580188732710474), (3031, 0.0035434384656369273), (3032, 0.0034296226479252566), (3033, 0.0013301109985815313), (3034, 0.002834750772509542), (3039, 0.0018206043795367997), (3043, 0.0034296226479252566), (3044, 0.0014654068484484832), (3045, 0.0016145676503574987), (3046, 0.0029062217706434974), (3051, 0.0054618131386103995), (3055, 0.02256933073236843), (3059, 0.0022864150986168378), (3062, 0.0025833082405719975), (3064, 0.0017148113239626283), (3066, 0.00203832240476422), (3068, 0.006346311528675719), (3069, 0.007337960657151192), (3070, 0.0021260630793821567), (3073, 0.0017118699041370883), (3074, 0.0016306579238113761), (3076, 0.0033495013678822468), (3078, 0.0013301109985815313), (3081, 0.0042521261587643135), (3082, 0.0017118699041370883), (3084, 0.003563578536689751), (3088, 0.0023922081541910096), (3098, 0.000917245082143899), (3124, 0.007093925325768168), (3126, 0.0022603947105004976), (3129, 0.005144433971887885), (3134, 0.00405989643005888), (3135, 0.003563578536689751), (3136, 0.0006458270601429994), (3140, 0.00020934383549264042), (3142, 0.0020934383549264042), (3144, 0.003563578536689751), (3145, 0.0006280315064779214), (3147, 0.0047597336465067894), (3150, 0.0059392975611495865), (3153, 0.05143095861181922), (3154, 0.0020859217398036746), (3156, 0.0029308136968969663), (3157, 0.009415284472753985), (3158, 0.0025833082405719975), (3162, 0.0031401575323896065), (3166, 0.0036412087590735995), (3167, 0.0003229135300714997), (3170, 0.002649819126193486), (3172, 0.0032291353007149973), (3175, 0.0033632319678609636), (3176, 0.0017118699041370883), (3183, 0.0020859217398036746), (3184, 0.00710481875260304), (3188, 0.0006458270601429994), (3197, 0.0168480726486994), (3198, 0.0018840945194337638), (3203, 0.003872812569052018), (3205, 0.0005716037746542094), (3223, 0.010197517655791742), (3224, 0.016745457079337066), (3226, 0.0054618131386103995), (3229, 0.000611496721429266), (3231, 0.007703414568616897), (3232, 0.0013301109985815313), (3234, 0.002547903005955275), (3236, 0.0004433703328605105), (3238, 0.017817892683448758), (3248, 0.0013772340466762893), (3254, 0.1027121942482253), (3258, 0.000886740665721021), (3259, 0.0012916541202859988), (3263, 0.004131702140028868), (3264, 0.0003229135300714997), (3268, 0.016745457079337066), (3269, 0.0027544680933525786), (3271, 0.004131702140028868), (3282, 0.00975414732293123), (3283, 0.003197838426213089), (3287, 0.006287641521196303), (3288, 0.00975414732293123), (3292, 0.004575072472889379), (3294, 0.0023757190244598344), (3306, 0.004784416308382019), (3310, 0.0012916541202859988), (3311, 0.0016747506839411234), (3313, 0.0037694422008672985), (3316, 0.004784416308382019), (3318, 0.00040766448095284403), (3319, 0.0023757190244598344), (3322, 0.01771719232818464), (3324, 0.000611496721429266), (3327, 0.0007086876931273855), (3330, 0.008263404280057736), (3333, 0.003197838426213089), (3336, 0.01623958572023552), (3338, 0.00405989643005888), (3345, 0.0009687405902144991), (3353, 0.0015865778821689297), (3354, 0.0017148113239626283), (3360, 0.0011878595122299172), (3361, 0.0059392975611495865), (3365, 0.0023757190244598344), (3367, 0.0027544680933525786), (3375, 0.0027544680933525786), (3378, 0.003552048830786497), (3380, 0.005508936186705157), (3381, 0.060491730454306565), (3382, 0.0047597336465067894), (3389, 0.0018206043795367997), (3392, 0.0027214698614043257), (3393, 0.001324909563096743), (3394, 0.01626276408930234), (3399, 0.003563578536689751), (3403, 0.007086876931273855), (3408, 0.012560630129558426), (3409, 0.0010467191774632021), (3410, 0.0016145676503574987), (3411, 0.0020859217398036746), (3421, 0.0017118699041370883), (3422, 0.0023757190244598344), (3426, 0.0018206043795367997), (3434, 0.0025833082405719975), (3436, 0.0011432075493084189), (3438, 0.006257765219411025), (3439, 0.006346311528675719), (3441, 0.0013772340466762893), (3447, 0.0006458270601429994), (3450, 0.055421291607563816), (3452, 0.008343686959214698), (3453, 0.01110604517518251), (3454, 0.0045728301972336755), (3456, 0.0006458270601429994), (3457, 0.0008373753419705617), (3463, 0.005024252051823371), (3464, 0.0054618131386103995), (3469, 0.02850862829351801), (3471, 0.0023757190244598344), (3476, 0.000886740665721021), (3477, 0.0023440707654788532), (3479, 0.0005716037746542094), (3480, 0.003159399727384541), (3483, 0.0012560630129558428), (3484, 0.0017148113239626283), (3485, 0.009921627703783398), (3486, 0.0036412087590735995), (3489, 0.0003229135300714997), (3490, 0.012692623057351438), (3491, 0.0017118699041370883), (3493, 0.006624547815483715), (3495, 0.001773481331442042), (3496, 0.0035434384656369273), (3497, 0.005508936186705157), (3498, 0.0008559349520685442), (3499, 0.0019374811804289981), (3500, 0.0013772340466762893), (3503, 0.007127157073379502), (3504, 0.01928450804277968), (3505, 0.007236044536912982), (3508, 0.004197875890929496), (3509, 0.005074870537573601), (3511, 0.00020383224047642202), (3512, 0.01623958572023552), (3514, 0.0012560630129558428), (3515, 0.0010467191774632021), (3516, 0.0025678048562056324), (3517, 0.0011878595122299172), (3526, 0.005135609712411265), (3528, 0.001773481331442042), (3531, 0.0023757190244598344), (3536, 0.0011878595122299172), (3545, 0.0027544680933525786), (3552, 0.0013772340466762893), (3554, 0.0030449223225441605), (3556, 0.0023922081541910096), (3558, 0.0034237398082741766), (3559, 0.007538884401734597), (3566, 0.000886740665721021), (3568, 0.00041868767098528084), (3569, 0.001222993442858532), (3571, 0.006257765219411025), (3572, 0.0017148113239626283), (3574, 0.0036412087590735995), (3577, 0.007282417518147199), (3578, 0.0018206043795367997), (3580, 0.000917245082143899), (3582, 0.0004433703328605105), (3583, 0.0031731557643378595), (3590, 0.0022864150986168378), (3591, 0.00101497410751472), (3592, 0.0015865778821689297), (3595, 0.006458270601429995), (3597, 0.0011432075493084189), (3598, 0.007282417518147199), (3599, 0.002834750772509542), (3600, 0.0013772340466762893), (3603, 0.006346311528675719), (3604, 0.006280315064779213), (3607, 0.0008373753419705617), (3608, 0.0030449223225441605), (3609, 0.00405989643005888), (3611, 0.005812443541286995), (3613, 0.0013301109985815313), (3615, 0.006257765219411025), (3616, 0.00975414732293123), (3617, 0.0023922081541910096), (3623, 0.01817818364728093), (3624, 0.0006458270601429994), (3629, 0.005763814327186636), (3630, 0.0011878595122299172), (3632, 0.005605386613101605), (3634, 0.004280477050004863), (3635, 0.0031731557643378595), (3638, 0.0013772340466762893), (3645, 0.0034237398082741766), (3647, 0.001936406284526009), (3648, 0.011301973552502492), (3649, 0.001324909563096743), (3650, 0.001936406284526009), (3651, 0.003197838426213089), (3661, 0.0026602219971630626), (3663, 0.001732574044049587), (3666, 0.0012916541202859988), (3668, 0.0023922081541910096), (3669, 0.011878595122299173), (3679, 0.01928450804277968), (3681, 0.0017148113239626283), (3682, 0.0018206043795367997), (3684, 0.0004433703328605105), (3688, 0.005144433971887885), (3689, 0.00202994821502944), (3694, 0.0015287418035731652), (3700, 0.004433703328605105), (3701, 0.0011210773226203211), (3705, 0.0006458270601429994), (3707, 0.004751438048919669), (3708, 0.0038749623608579963), (3717, 0.00101497410751472), (3719, 0.0012560630129558428), (3721, 0.001417375386254771), (3723, 0.003552048830786497), (3725, 0.0015865778821689297), (3727, 0.012839024281028162), (3730, 0.000509580601191055), (3731, 0.003159399727384541), (3733, 0.0045728301972336755), (3735, 0.00101497410751472), (3737, 0.00101497410751472), (3740, 0.0017148113239626283), (3741, 0.0003229135300714997), (3745, 0.0273207687812881), (3747, 0.01663003317121884), (3748, 0.009103021897684), (3751, 0.0036412087590735995), (3758, 0.001834490164287798), (3760, 0.002302782190419045), (3766, 0.0015865778821689297), (3767, 0.0022168516643025524), (3768, 0.01663003317121884), (3770, 0.0009687405902144991), (3771, 0.0007086876931273855), (3773, 0.006346311528675719), (3774, 0.00040766448095284403), (3775, 0.0003229135300714997), (3776, 0.0011878595122299172), (3777, 0.00637818923814647), (3779, 0.009519467293013579), (3780, 0.0047597336465067894), (3782, 0.003872812569052018), (3784, 0.00020383224047642202), (3785, 0.0047597336465067894), (3786, 0.0009687405902144991), (3793, 0.001417375386254771), (3796, 0.0013772340466762893), (3801, 0.00101497410751472), (3802, 0.0011878595122299172), (3804, 0.0036412087590735995), (3805, 0.01771719232818464), (3809, 0.0015865778821689297), (3812, 0.0025833082405719975), (3814, 0.00040766448095284403), (3817, 0.000509580601191055), (3818, 0.0012916541202859988), (3819, 0.0030449223225441605), (3823, 0.006089844645088321), (3825, 0.0025121260259116855), (3826, 0.0013301109985815313), (3832, 0.00202994821502944), (3836, 0.008559349520685442), (3841, 0.016791503563717985), (3843, 0.0023440707654788532), (3846, 0.0027544680933525786), (3855, 0.004197875890929496), (3856, 0.0008153289619056881), (3857, 0.0017148113239626283), (3860, 0.005716037746542095), (3861, 0.0020859217398036746), (3862, 0.0027544680933525786), (3865, 0.003197838426213089), (3866, 0.0031731557643378595), (3867, 0.01033323296228799), (3871, 0.005707302733339817), (3875, 0.022384868983491624), (3876, 0.00101497410751472), (3878, 0.0021260630793821567), (3879, 0.01033323296228799), (3881, 0.000509580601191055), (3887, 0.0023922081541910096), (3896, 0.0007086876931273855), (3897, 0.0006458270601429994), (3898, 0.04022894274722157), (3904, 0.003552048830786497), (3908, 0.004001226422579465), (3910, 0.006089844645088321), (3921, 0.015822762973503487), (3922, 0.006070971229286572), (3926, 0.004171843479607349), (3927, 0.004520789421000995), (3929, 0.0014654068484484832), (3933, 0.00101497410751472), (3938, 0.0025678048562056324), (3950, 0.004171843479607349), (3955, 0.0013772340466762893), (3956, 0.0018206043795367997), (3958, 0.0036412087590735995), (3965, 0.0034237398082741766), (3968, 0.0026602219971630626), (3973, 0.005812443541286995), (3974, 0.01008969590358289), (3979, 0.007176624462573028), (3983, 0.0012560630129558428), (3985, 0.0021402385250024313), (3986, 0.0003229135300714997), (3995, 0.0030449223225441605), (3997, 0.0020934383549264042), (3998, 0.01913456771443941), (3999, 0.0013772340466762893), (4003, 0.0027544680933525786), (4012, 0.0027544680933525786), (4019, 0.007117690406749775), (4024, 0.0036412087590735995), (4026, 0.001732574044049587), (4029, 0.005991544664479809), (4031, 0.0018206043795367997), (4032, 0.003197838426213089), (4033, 0.016745457079337066), (4034, 0.0014654068484484832), (4035, 0.0033495013678822468), (4036, 0.00101497410751472), (4039, 0.0015865778821689297), (4041, 0.0035434384656369273), (4042, 0.001834490164287798), (4044, 0.0020859217398036746), (4050, 0.00101497410751472), (4052, 0.0007086876931273855), (4053, 0.004520789421000995), (4054, 0.0003229135300714997), (4056, 0.009145660394467351), (4057, 0.006257765219411025), (4058, 0.04961448901175578), (4065, 0.0009687405902144991), (4067, 0.0047597336465067894), (4069, 0.0014654068484484832), (4070, 0.005144433971887885), (4071, 0.001417375386254771), (4072, 0.0015865778821689297), (4073, 0.0005716037746542094), (4074, 0.000886740665721021), (4075, 0.004751438048919669), (4076, 0.00020934383549264042), (4077, 0.0025678048562056324), (4079, 0.0005716037746542094), (4082, 0.016408495358351975), (4084, 0.0008153289619056881), (4086, 0.015224611612720802), (4088, 0.0018206043795367997), (4090, 0.030155537606938388), (4092, 0.0013772340466762893), (4093, 0.005074870537573601), (4094, 0.00202994821502944), (4095, 0.0023922081541910096), (4097, 0.002751735246431697), (4099, 0.0030449223225441605), (4101, 0.0010467191774632021), (4102, 0.001417375386254771), (4104, 0.0011878595122299172), (4105, 0.011017872373410315), (4106, 0.007176624462573028), (4108, 0.00020383224047642202), (4109, 0.000886740665721021), (4114, 0.007932889410844648), (4117, 0.005508936186705157), (4121, 0.003197838426213089), (4123, 0.0013772340466762893), (4124, 0.0015865778821689297), (4130, 0.0009687405902144991), (4131, 0.006089844645088321), (4149, 0.0013772340466762893), (4152, 0.0017118699041370883), (4165, 0.000509580601191055), (4166, 0.001324909563096743), (4168, 0.0031731557643378595), (4172, 0.003546962662884084), (4177, 0.008072838251787492), (4178, 0.0012916541202859988), (4182, 0.009568832616764038), (4183, 0.0027544680933525786), (4185, 0.009212940010656012), (4192, 0.003977532874360168), (4196, 0.0004433703328605105), (4197, 0.0020859217398036746), (4203, 0.0011432075493084189), (4205, 0.015499849443431985), (4206, 0.012560630129558426), (4210, 0.003159399727384541), (4211, 0.014631220984396846), (4215, 0.00203832240476422), (4219, 0.022254308753782148), (4220, 0.0007086876931273855), (4221, 0.0013772340466762893), (4222, 0.003197838426213089), (4224, 0.0008559349520685442), (4225, 0.000886740665721021), (4229, 0.006886170233381447), (4233, 0.00710481875260304), (4236, 0.0012916541202859988), (4237, 0.004171843479607349), (4240, 0.004131702140028868), (4241, 0.0006280315064779214), (4246, 0.002445986885717064), (4247, 0.0031401575323896065), (4254, 0.0031731557643378595), (4259, 0.004280477050004863), (4277, 0.0008559349520685442), (4281, 0.005166616481143995), (4282, 0.02341297879349692), (4283, 0.006135357071358494), (4286, 0.0018206043795367997), (4302, 0.0007134128416674771), (4307, 0.004131702140028868), (4319, 0.00202994821502944), (4320, 0.0027544680933525786), (4321, 0.007538884401734597), (4326, 0.0011878595122299172), (4336, 0.0036412087590735995), (4342, 0.00203832240476422), (4343, 0.00040766448095284403), (4355, 0.0031035923300235736), (4361, 0.0025833082405719975), (4368, 0.0027544680933525786), (4372, 0.0015865778821689297), (4375, 0.00202994821502944), (4378, 0.0008559349520685442), (4379, 0.01027121942482253), (4381, 0.09798484356217282), (4385, 0.005991544664479809), (4396, 0.0027544680933525786), (4399, 0.003668980328575596), (4406, 0.0019374811804289981), (4407, 0.00101497410751472), (4409, 0.0013772340466762893), (4413, 0.006458270601429995), (4414, 0.0036412087590735995), (4416, 0.011970998987233783), (4433, 0.0027544680933525786), (4435, 0.00481490821633073), (4436, 0.0022168516643025524), (4437, 0.005508936186705157), (4440, 0.0012560630129558428), (4441, 0.0021260630793821567), (4443, 0.0020859217398036746), (4444, 0.0034237398082741766), (4447, 0.004131702140028868), (4451, 0.0007086876931273855), (4455, 0.0022168516643025524), (4457, 0.007745721913227696), (4459, 0.017452356703858227), (4460, 0.003563578536689751), (4463, 0.0020934383549264042), (4465, 0.004784416308382019), (4468, 0.001417375386254771), (4470, 0.0021260630793821567), (4472, 0.0034296226479252566), (4476, 0.0010467191774632021), (4477, 0.0031035923300235736), (4478, 0.05102551390517176), (4490, 0.0036412087590735995), (4494, 0.0017148113239626283), (4498, 0.023798668232533945), (4511, 0.00020383224047642202), (4514, 0.0013772340466762893), (4528, 0.0027544680933525786), (4537, 0.0007134128416674771), (4538, 0.0011432075493084189), (4539, 0.0012560630129558428), (4542, 0.01143207549308419), (4550, 0.0023757190244598344), (4552, 0.0047597336465067894), (4553, 0.0031731557643378595), (4554, 0.006847479616548353), (4557, 0.004751438048919669), (4558, 0.006318799454769082), (4559, 0.0011878595122299172), (4566, 0.0054618131386103995), (4569, 0.0026602219971630626), (4571, 0.0020859217398036746), (4573, 0.006781184131501494), (4574, 0.003552048830786497), (4577, 0.0008559349520685442), (4579, 0.004751438048919669), (4580, 0.0023922081541910096), (4600, 0.04279674760342721), (4604, 0.004784416308382019), (4605, 0.006395676852426178), (4606, 0.0054618131386103995), (4610, 0.0031731557643378595), (4618, 0.005024252051823371), (4619, 0.004751438048919669), (4620, 0.013194663397691361), (4631, 0.004131702140028868), (4640, 0.009568832616764038), (4642, 0.0011432075493084189), (4650, 0.0038749623608579963), (4651, 0.0018206043795367997), (4653, 0.0014654068484484832), (4655, 0.0021260630793821567), (4658, 0.001222993442858532), (4659, 0.009568832616764038), (4660, 0.004197875890929496), (4661, 0.0034237398082741766), (4662, 0.002955567486908119), (4663, 0.02286415098616838), (4664, 0.00202994821502944), (4665, 0.0021260630793821567), (4666, 0.0011878595122299172), (4668, 0.0017118699041370883), (4671, 0.008357121859533303), (4672, 0.008263404280057736), (4674, 0.007127157073379502), (4675, 0.0013301109985815313), (4676, 0.0023922081541910096), (4679, 0.0011878595122299172), (4680, 0.0025833082405719975), (4681, 0.009502876097839338), (4682, 0.0004433703328605105), (4689, 0.0018206043795367997), (4694, 0.0018840945194337638), (4695, 0.0023440707654788532), (4704, 0.0012560630129558428), (4708, 0.0019374811804289981), (4712, 0.00041868767098528084), (4715, 0.024493228752638933), (4716, 0.029708044766577974), (4718, 0.0035588452033748874), (4719, 0.0011210773226203211), (4721, 0.011878595122299173), (4722, 0.0016747506839411234), (4723, 0.0021402385250024313), (4725, 0.015442173658988922), (4728, 0.0023757190244598344), (4732, 0.001834490164287798), (4734, 0.008263404280057736), (4738, 0.0015865778821689297), (4739, 0.017114417093789483), (4741, 0.004131702140028868), (4744, 0.0023440707654788532), (4745, 0.011127154376891074), (4747, 0.0013301109985815313), (4748, 0.001936406284526009), (4750, 0.001417375386254771), (4756, 0.00815328961905688), (4758, 0.0014654068484484832), (4762, 0.008559349520685442), (4764, 0.0030449223225441605), (4767, 0.0042521261587643135), (4773, 0.0014654068484484832), (4775, 0.0017118699041370883), (4776, 0.005508936186705157), (4779, 0.0009687405902144991), (4783, 0.0017118699041370883), (4785, 0.0027544680933525786), (4788, 0.007127157073379502), (4792, 0.0021260630793821567), (4796, 0.0006458270601429994), (4804, 0.0010467191774632021), (4807, 0.00020934383549264042), (4812, 0.001773481331442042), (4814, 0.0047597336465067894), (4821, 0.0022421546452406423), (4822, 0.00101497410751472), (4832, 0.00040766448095284403), (4838, 0.0023757190244598344), (4840, 0.007282417518147199), (4845, 0.005135609712411265), (4846, 0.0020859217398036746), (4855, 0.004171843479607349), (4859, 0.0012916541202859988), (4867, 0.0020859217398036746), (4869, 0.0017148113239626283), (4873, 0.0022168516643025524), (4875, 0.009103021897684), (4876, 0.0059392975611495865), (4877, 0.0025678048562056324), (4880, 0.001936406284526009), (4881, 0.00040766448095284403), (4890, 0.01110604517518251), (4896, 0.0006458270601429994), (4897, 0.0003229135300714997), (4900, 0.0017118699041370883), (4901, 0.0074308490705047225), (4908, 0.0037694422008672985), (4909, 0.0020859217398036746), (4913, 0.0007134128416674771), (4914, 0.0008559349520685442), (4915, 0.0007086876931273855), (4917, 0.0013772340466762893), (4921, 0.000305748360714633), (4922, 0.00101497410751472), (4926, 0.0023757190244598344), (4928, 0.0018840945194337638), (4929, 0.0035434384656369273), (4930, 0.000886740665721021), (4931, 0.004171843479607349), (4933, 0.0028580188732710474), (4935, 0.000917245082143899), (4936, 0.002547903005955275), (4937, 0.0019374811804289981), (4938, 0.00202994821502944), (4939, 0.0084240363243497), (4947, 0.0004433703328605105), (4948, 0.005809218853578027), (4949, 0.002547903005955275), (4950, 0.00041868767098528084), (4952, 0.0008373753419705617), (4954, 0.0025678048562056324), (4956, 0.0013301109985815313), (4957, 0.004433703328605105), (4959, 0.0003229135300714997), (4967, 0.0006458270601429994), (4968, 0.0017118699041370883), (4970, 0.00942047259716882), (4971, 0.003197838426213089), (4974, 0.00962981643266146), (4975, 0.005508936186705157), (4977, 0.000917245082143899), (4978, 0.0020859217398036746), (4979, 0.0008559349520685442), (4981, 0.0027544680933525786), (4983, 0.0027544680933525786), (4984, 0.0008373753419705617), (4987, 0.02324977416514798), (4991, 0.00101497410751472), (4993, 0.012839024281028162), (4994, 0.006089844645088321), (4999, 0.00020934383549264042), (5000, 0.019137665233528077), (5003, 0.0011878595122299172), (5005, 0.019137665233528077), (5009, 0.0018840945194337638), (5010, 0.00041868767098528084), (5011, 0.0015865778821689297), (5013, 0.001417375386254771), (5014, 0.00202994821502944), (5015, 0.0017118699041370883), (5020, 0.0054618131386103995), (5021, 0.007932889410844648), (5022, 0.0009687405902144991), (5023, 0.00202994821502944), (5032, 0.00886740665721021), (5035, 0.007176624462573028), (5037, 0.0016145676503574987), (5038, 0.01027121942482253), (5040, 0.06918296642239839), (5041, 0.0031401575323896065), (5044, 0.0007086876931273855), (5047, 0.0004433703328605105), (5049, 0.0042521261587643135), (5050, 0.005074870537573601), (5051, 0.0012916541202859988), (5052, 0.00020934383549264042), (5053, 0.006886170233381447), (5056, 0.0007086876931273855), (5057, 0.0031731557643378595), (5062, 0.0022864150986168378), (5063, 0.0031731557643378595), (5072, 0.00202994821502944), (5077, 0.0027544680933525786), (5078, 0.010197517655791742), (5079, 0.0012560630129558428), (5082, 0.0004433703328605105), (5087, 0.024804069259458494), (5088, 0.024095381566331106), (5091, 0.003563578536689751), (5094, 0.0025678048562056324), (5095, 0.0028580188732710474), (5096, 0.0008373753419705617), (5097, 0.0011878595122299172), (5098, 0.0011432075493084189), (5100, 0.016526808560115472), (5104, 0.003563578536689751), (5112, 0.0045728301972336755), (5113, 0.0020859217398036746), (5116, 0.0009687405902144991), (5119, 0.0036412087590735995), (5124, 0.0012916541202859988), (5129, 0.00040766448095284403), (5133, 0.02085921739803675), (5134, 0.0015865778821689297), (5137, 0.00101497410751472), (5138, 0.00020383224047642202), (5140, 0.0023757190244598344), (5141, 0.0023922081541910096), (5145, 0.0004433703328605105), (5156, 0.0017148113239626283), (5161, 0.007282417518147199), (5164, 0.002302782190419045), (5167, 0.0015865778821689297), (5175, 0.007703414568616897), (5176, 0.0011878595122299172), (5177, 0.0018206043795367997), (5178, 0.0008559349520685442), (5181, 0.00202994821502944), (5184, 0.00460556438083809), (5185, 0.00886740665721021), (5186, 0.0035434384656369273), (5187, 0.0027544680933525786), (5189, 0.004171843479607349), (5192, 0.0011878595122299172), (5194, 0.0035588452033748874), (5196, 0.003197838426213089), (5198, 0.007538884401734597), (5199, 0.0028536513666699084), (5200, 0.0009687405902144991), (5201, 0.009921627703783398), (5204, 0.005707302733339817), (5211, 0.0013772340466762893), (5212, 0.0020859217398036746), (5215, 0.0018206043795367997), (5218, 0.0022421546452406423), (5219, 0.0027544680933525786), (5222, 0.0035434384656369273), (5223, 0.010690735610069255), (5229, 0.0031035923300235736), (5231, 0.0059392975611495865), (5236, 0.012593627672788488), (5242, 0.0034296226479252566), (5246, 0.004784416308382019), (5249, 0.0006280315064779214), (5253, 0.000509580601191055), (5255, 0.01275637847629294), (5256, 0.0006280315064779214), (5257, 0.0009687405902144991), (5258, 0.0036412087590735995), (5260, 0.0015865778821689297), (5261, 0.0013772340466762893), (5262, 0.0018206043795367997), (5263, 0.0008373753419705617), (5264, 0.00811979286011776), (5265, 0.0027544680933525786), (5276, 0.007176624462573028), (5279, 0.015149574513439183), (5281, 0.016687373918429397), (5283, 0.0042521261587643135), (5285, 0.009103021897684), (5287, 0.004575072472889379), (5288, 0.005074870537573601), (5289, 0.0013301109985815313), (5290, 0.001732574044049587), (5295, 0.0029308136968969663), (5296, 0.0036412087590735995), (5297, 0.000886740665721021), (5298, 0.010690735610069255), (5299, 0.0020934383549264042), (5300, 0.0032613158476227522), (5301, 0.009212940010656012), (5304, 0.003546962662884084), (5305, 0.005135609712411265), (5308, 0.0005716037746542094), (5310, 0.0014654068484484832), (5311, 0.0037694422008672985), (5313, 0.007086876931273855), (5316, 0.0037694422008672985), (5319, 0.006346311528675719), (5321, 0.0011432075493084189), (5322, 0.0011432075493084189), (5323, 0.000886740665721021), (5330, 0.0013772340466762893), (5331, 0.004433703328605105), (5333, 0.0032291353007149973), (5340, 0.021260630793821567), (5342, 0.01417375386254771), (5344, 0.0036412087590735995), (5352, 0.00101497410751472), (5354, 0.0025678048562056324), (5355, 0.005074870537573601), (5356, 0.0027544680933525786), (5359, 0.0008559349520685442), (5362, 0.0042521261587643135), (5364, 0.001417375386254771), (5367, 0.004279674760342721), (5368, 0.0011878595122299172), (5369, 0.0008559349520685442), (5370, 0.0011878595122299172), (5371, 0.0008559349520685442), (5372, 0.0011878595122299172), (5374, 0.0011878595122299172), (5375, 0.00101497410751472), (5376, 0.0011878595122299172), (5377, 0.008559349520685442), (5378, 0.0022864150986168378), (5379, 0.006847479616548353), (5380, 0.008559349520685442), (5381, 0.011983089328959619), (5382, 0.0025678048562056324), (5383, 0.009502876097839338), (5384, 0.002834750772509542), (5389, 0.004279674760342721), (5394, 0.00101497410751472), (5397, 0.0008559349520685442), (5399, 0.00101497410751472), (5400, 0.0030449223225441605), (5404, 0.0011878595122299172), (5419, 0.0023757190244598344), (5427, 0.004960813851891699), (5431, 0.01306645463452909), (5437, 0.0047597336465067894), (5443, 0.0031731557643378595), (5447, 0.007127157073379502), (5448, 0.004131702140028868), (5449, 0.0027544680933525786), (5450, 0.0030449223225441605), (5451, 0.004131702140028868), (5453, 0.010690735610069255), (5454, 0.004131702140028868), (5455, 0.0015865778821689297), (5456, 0.004131702140028868), (5457, 0.006886170233381447), (5458, 0.0027544680933525786), (5460, 0.0013772340466762893), (5461, 0.0013772340466762893), (5462, 0.0027544680933525786), (5464, 0.0018206043795367997), (5465, 0.0015865778821689297), (5466, 0.0008559349520685442), (5467, 0.0027544680933525786), (5468, 0.006346311528675719), (5470, 0.0011878595122299172), (5471, 0.0011878595122299172), (5472, 0.0034237398082741766), (5473, 0.0023757190244598344), (5474, 0.0054618131386103995), (5475, 0.009640638326734025), (5476, 0.009519467293013579), (5477, 0.0027544680933525786), (5478, 0.009134766967632482), (5479, 0.0015865778821689297), (5481, 0.0027544680933525786), (5482, 0.009134766967632482), (5483, 0.0023757190244598344), (5484, 0.010923626277220799), (5485, 0.007282417518147199), (5486, 0.0011432075493084189), (5487, 0.0036412087590735995), (5488, 0.0011878595122299172), (5489, 0.004751438048919669), (5490, 0.0031731557643378595), (5491, 0.0013772340466762893), (5492, 0.006346311528675719), (5493, 0.007282417518147199), (5494, 0.0011878595122299172), (5495, 0.0007086876931273855), (5496, 0.004131702140028868), (5497, 0.0023757190244598344), (5498, 0.0013772340466762893), (5499, 0.0013772340466762893), (5501, 0.0015865778821689297), (5502, 0.006886170233381447), (5503, 0.0013772340466762893), (5504, 0.007127157073379502), (5505, 0.0027544680933525786), (5506, 0.006089844645088321), (5507, 0.008263404280057736), (5508, 0.00202994821502944), (5509, 0.003563578536689751), (5510, 0.006886170233381447), (5511, 0.0027544680933525786), (5512, 0.0030449223225441605), (5513, 0.0027544680933525786), (5514, 0.0023757190244598344), (5515, 0.007932889410844648), (5516, 0.0023757190244598344), (5517, 0.0007086876931273855), (5518, 0.0015865778821689297), (5519, 0.0007086876931273855), (5521, 0.00405989643005888), (5522, 0.0047597336465067894), (5523, 0.004131702140028868), (5524, 0.006346311528675719), (5525, 0.001417375386254771), (5526, 0.0059392975611495865), (5527, 0.0023757190244598344), (5528, 0.0015865778821689297), (5529, 0.0011878595122299172), (5530, 0.0020859217398036746), (5531, 0.0018206043795367997), (5532, 0.0027544680933525786), (5533, 0.006346311528675719), (5534, 0.0027544680933525786), (5535, 0.0047597336465067894), (5536, 0.0054618131386103995), (5537, 0.0008559349520685442), (5538, 0.0047597336465067894), (5539, 0.0011878595122299172), (5540, 0.0013772340466762893), (5541, 0.003563578536689751), (5542, 0.005074870537573601), (5543, 0.006886170233381447), (5544, 0.006346311528675719), (5546, 0.005074870537573601), (5547, 0.00831501658560942), (5548, 0.004131702140028868), (5549, 0.0027544680933525786), (5550, 0.0030449223225441605), (5551, 0.007932889410844648), (5552, 0.007703414568616897), (5553, 0.0015865778821689297), (5555, 0.006346311528675719), (5556, 0.0047597336465067894), (5557, 0.0054618131386103995), (5558, 0.005508936186705157), (5559, 0.005508936186705157), (5560, 0.014601452178625724), (5561, 0.004171843479607349), (5562, 0.007932889410844648), (5563, 0.008343686959214698), (5564, 0.01251553043882205), (5565, 0.0059392975611495865), (5566, 0.005074870537573601), (5567, 0.0059392975611495865), (5569, 0.007932889410844648), (5570, 0.006257765219411025), (5571, 0.006886170233381447), (5572, 0.010923626277220799), (5576, 0.004171843479607349), (5577, 0.0015865778821689297), (5578, 0.0020859217398036746), (5579, 0.0023757190244598344), (5580, 0.0036412087590735995), (5581, 0.003563578536689751), (5582, 0.0047597336465067894), (5583, 0.003563578536689751), (5584, 0.006886170233381447), (5585, 0.005508936186705157), (5586, 0.0025678048562056324), (5587, 0.0015865778821689297), (5588, 0.0031731557643378595), (5589, 0.0036412087590735995), (5590, 0.006346311528675719), (5591, 0.0013772340466762893), (5592, 0.0059392975611495865), (5594, 0.0027544680933525786), (5596, 0.0013772340466762893), (5597, 0.0047597336465067894), (5598, 0.0013772340466762893), (5599, 0.0018206043795367997), (5600, 0.008263404280057736), (5601, 0.0018206043795367997), (5603, 0.0023922081541910096), (5604, 0.0054618131386103995), (5605, 0.0018206043795367997), (5606, 0.0015865778821689297), (5607, 0.0018206043795367997), (5608, 0.0015865778821689297), (5609, 0.0020859217398036746), (5610, 0.00020934383549264042), (5611, 0.0020859217398036746), (5612, 0.0018206043795367997), (5614, 0.0020859217398036746), (5615, 0.0020859217398036746), (5616, 0.0023922081541910096), (5617, 0.0018206043795367997), (5618, 0.0020859217398036746), (5619, 0.0015865778821689297), (5620, 0.0020859217398036746), (5621, 0.0020859217398036746), (5622, 0.004171843479607349), (5623, 0.004171843479607349), (5624, 0.004171843479607349), (5625, 0.0027544680933525786), (5626, 0.0047597336465067894), (5627, 0.0015865778821689297), (5628, 0.004784416308382019), (5629, 0.0023922081541910096), (5630, 0.0018206043795367997), (5631, 0.0023922081541910096), (5632, 0.0027544680933525786), (5641, 0.0011432075493084189), (5657, 0.0023922081541910096), (5662, 0.0023922081541910096), (5683, 0.0027544680933525786), (5691, 0.0008559349520685442), (5710, 0.001773481331442042), (5714, 0.0006458270601429994), (5720, 0.0016145676503574987), (5732, 0.0003229135300714997), (5743, 0.008559349520685442), (5749, 0.004279674760342721), (5771, 0.001417375386254771), (5778, 0.0007086876931273855), (5780, 0.00101497410751472), (5782, 0.003197838426213089), (5783, 0.0019374811804289981), (5787, 0.006847479616548353), (5795, 0.002834750772509542), (5797, 0.0017118699041370883), (5801, 0.00202994821502944), (5802, 0.0031035923300235736), (5804, 0.0025678048562056324), (5815, 0.0047597336465067894), (5820, 0.031098706004483126), (5824, 0.0037694422008672985), (5829, 0.0054618131386103995), (5830, 0.01027121942482253), (5831, 0.0027544680933525786), (5833, 0.012414369320094295), (5839, 0.0031731557643378595), (5853, 0.005508936186705157), (5857, 0.049580425680346416), (5902, 0.03635636729456186), (5907, 0.0025678048562056324), (5930, 0.0015865778821689297), (5934, 0.007538884401734597), (5935, 0.0027544680933525786), (5947, 0.006346311528675719), (5949, 0.00971726416912156), (5950, 0.0020859217398036746), (5954, 0.0047597336465067894), (5955, 0.007538884401734597), (5958, 0.04157189954077016), (5959, 0.033053617120230944), (5986, 0.0025678048562056324), (5988, 0.003197838426213089), (6001, 0.027309065693051998), (6002, 0.011961040770955049), (6005, 0.0018206043795367997), (6011, 0.0030449223225441605), (6020, 0.0020859217398036746), (6028, 0.00637818923814647), (6034, 0.03330832157698712), (6035, 0.00831501658560942), (6037, 0.0023922081541910096), (6039, 0.028780545835917798), (6040, 0.0018206043795367997), (6059, 0.003197838426213089), (6063, 0.0037694422008672985), (6076, 0.0385625533069361), (6077, 0.0027544680933525786), (6088, 0.00405989643005888), (6091, 0.007932889410844648), (6094, 0.0011878595122299172), (6101, 0.004784416308382019), (6102, 0.01928450804277968), (6120, 0.008343686959214698), (6137, 0.0013772340466762893), (6147, 0.0025678048562056324), (6149, 0.007176624462573028), (6151, 0.003563578536689751), (6152, 0.008343686959214698), (6156, 0.0045728301972336755), (6163, 0.0023922081541910096), (6169, 0.031731557643378594), (6174, 0.017118699041370884), (6178, 0.003197838426213089), (6182, 0.013725217418668138), (6186, 0.00101497410751472), (6187, 0.004751438048919669), (6198, 0.004784416308382019), (6205, 0.0047597336465067894), (6215, 0.006395676852426178), (6217, 0.010429608699018374), (6222, 0.0018206043795367997), (6226, 0.006395676852426178), (6232, 0.004171843479607349), (6244, 0.003197838426213089), (6257, 0.011017872373410315), (6259, 0.0037694422008672985), (6260, 0.004784416308382019), (6261, 0.003197838426213089), (6262, 0.006395676852426178), (6265, 0.0020859217398036746), (6285, 0.06007994452471439), (6291, 0.021529873387719084), (6293, 0.015442173658988922), (6300, 0.034509119655500485), (6301, 0.0015865778821689297), (6303, 0.012692623057351438), (6304, 0.016526808560115472), (6307, 0.0027544680933525786), (6315, 0.00101497410751472), (6317, 0.0017118699041370883), (6325, 0.003197838426213089), (6329, 0.0025678048562056324), (6343, 0.0020859217398036746), (6376, 0.0020859217398036746), (6384, 0.0023922081541910096), (6389, 0.020193611707908593), (6390, 0.022616653205203792), (6395, 0.0005716037746542094), (6402, 0.0027544680933525786), (6411, 0.0059392975611495865), (6430, 0.027404300902897444), (6433, 0.015224611612720802), (6434, 0.011017872373410315), (6441, 0.0027544680933525786), (6442, 0.0054618131386103995), (6445, 0.014353248925146056), (6446, 0.004784416308382019), (6449, 0.004784416308382019), (6464, 0.031098706004483126), (6473, 0.0037694422008672985), (6476, 0.005508936186705157), (6482, 0.0035434384656369273), (6496, 0.00202994821502944), (6499, 0.007538884401734597), (6512, 0.0027544680933525786), (6514, 0.005508936186705157), (6527, 0.0054618131386103995), (6528, 0.010149741075147201), (6529, 0.020625512468196085), (6531, 0.011308326602601896), (6533, 0.004171843479607349), (6534, 0.004751438048919669), (6539, 0.0027544680933525786), (6541, 0.003197838426213089), (6543, 0.001417375386254771), (6556, 0.0018206043795367997), (6561, 0.007176624462573028), (6573, 0.0023922081541910096), (6588, 0.0020859217398036746), (6591, 0.01027121942482253), (6597, 0.0027544680933525786), (6600, 0.004960813851891699), (6614, 0.005508936186705157), (6616, 0.0028580188732710474), (6624, 0.004575072472889379), (6627, 0.006346311528675719), (6637, 0.010149741075147201), (6650, 0.010429608699018374), (6661, 0.0027544680933525786), (6663, 0.004751438048919669), (6675, 0.025385246114702876), (6679, 0.004784416308382019), (6688, 0.010860471718429979), (6700, 0.0018206043795367997), (6701, 0.0020859217398036746), (6717, 0.0020859217398036746), (6729, 0.012395106420086604), (6730, 0.0023922081541910096), (6739, 0.03963251305626982), (6753, 0.007176624462573028), (6754, 0.0011878595122299172), (6757, 0.019005752195678675), (6763, 0.0027544680933525786), (6764, 0.015865778821689297), (6769, 0.061975532100433016), (6771, 0.004784416308382019), (6772, 0.009593515278639267), (6774, 0.009150144945778758), (6789, 0.0008559349520685442), (6820, 0.009150144945778758), (6822, 0.005508936186705157), (6872, 0.0020859217398036746), (6874, 0.0031731557643378595), (6882, 0.011961040770955049), (6903, 0.005508936186705157), (6906, 0.009502876097839338), (6941, 0.008343686959214698), (6951, 0.010923626277220799), (6956, 0.0008559349520685442), (6965, 0.004784416308382019), (6966, 0.006346311528675719), (6972, 0.0035434384656369273), (6973, 0.0005716037746542094), (6975, 0.0011878595122299172), (6977, 0.0031731557643378595), (6986, 0.0011878595122299172), (6992, 0.006395676852426178), (6995, 0.014564835036294398), (6998, 0.010923626277220799), (7000, 0.0027544680933525786), (7006, 0.0017118699041370883), (7010, 0.005508936186705157), (7012, 0.004751438048919669), (7013, 0.007538884401734597), (7014, 0.0020859217398036746), (7017, 0.015077768803469194), (7019, 0.0013772340466762893), (7025, 0.009103021897684), (7026, 0.019187030557278533), (7027, 0.023922081541910098), (7033, 0.005508936186705157), (7034, 0.011308326602601896), (7038, 0.009593515278639267), (7050, 0.0273207687812881), (7051, 0.09386647829116536), (7060, 0.0018206043795367997), (7065, 0.005508936186705157), (7072, 0.0047597336465067894), (7073, 0.007538884401734597), (7083, 0.0047597336465067894), (7085, 0.0023922081541910096), (7089, 0.0015865778821689297), (7091, 0.014564835036294398), (7097, 0.007538884401734597), (7101, 0.0006458270601429994), (7107, 0.007176624462573028), (7108, 0.023922081541910098), (7113, 0.0025678048562056324), (7115, 0.0027544680933525786), (7117, 0.005508936186705157), (7120, 0.0013301109985815313), (7134, 0.0027544680933525786), (7142, 0.0127442306567576), (7145, 0.054779836932386826), (7160, 0.005508936186705157), (7161, 0.009103021897684), (7163, 0.0015865778821689297), (7165, 0.010429608699018374), (7170, 0.01110604517518251), (7178, 0.008263404280057736), (7188, 0.0022603947105004976), (7189, 0.0013772340466762893), (7190, 0.06748446828713818), (7191, 0.018773295658233075), (7193, 0.0020859217398036746), (7211, 0.005508936186705157), (7215, 0.01420963750520608), (7228, 0.007282417518147199), (7232, 0.04066753862124716), (7240, 0.018425880021312024), (7241, 0.003563578536689751), (7249, 0.0020859217398036746), (7255, 0.0018206043795367997), (7257, 0.006395676852426178), (7258, 0.01110604517518251), (7268, 0.0037694422008672985), (7304, 0.0021260630793821567), (7308, 0.0008559349520685442), (7318, 0.004784416308382019), (7321, 0.0054618131386103995), (7324, 0.009593515278639267), (7329, 0.0023922081541910096), (7332, 0.0003229135300714997), (7335, 0.0031731557643378595), (7341, 0.0023922081541910096), (7343, 0.004131702140028868), (7348, 0.0018206043795367997), (7351, 0.009502876097839338), (7353, 0.0031731557643378595), (7355, 0.01626276408930234), (7359, 0.0027544680933525786), (7368, 0.0018206043795367997), (7369, 0.004171843479607349), (7394, 0.005508936186705157), (7404, 0.004575072472889379), (7410, 0.026389326795382723), (7412, 0.006257765219411025), (7413, 0.007703414568616897), (7418, 0.011017872373410315), (7420, 0.006395676852426178), (7438, 0.0013772340466762893), (7439, 0.023344404472838563), (7440, 0.0020859217398036746), (7441, 0.0027544680933525786), (7445, 0.006395676852426178), (7457, 0.004575072472889379), (7461, 0.007282417518147199), (7472, 0.0023922081541910096), (7477, 0.0037694422008672985), (7480, 0.0027544680933525786), (7482, 0.0015865778821689297), (7488, 0.003197838426213089), (7493, 0.005508936186705157), (7496, 0.006346311528675719), (7498, 0.011127154376891074), (7499, 0.004784416308382019), (7503, 0.05922106400708044), (7520, 0.0027544680933525786), (7526, 0.0017118699041370883), (7529, 0.0015865778821689297), (7537, 0.0037694422008672985), (7538, 0.0027544680933525786), (7541, 0.008343686959214698), (7545, 0.004784416308382019), (7549, 0.0013772340466762893), (7551, 0.0015865778821689297), (7552, 0.009593515278639267), (7556, 0.011308326602601896), (7558, 0.006257765219411025), (7566, 0.0015865778821689297), (7570, 0.028558401879040733), (7575, 0.015989192131065443), (7581, 0.033053617120230944), (7582, 0.006257765219411025), (7591, 0.003563578536689751), (7598, 0.006395676852426178), (7604, 0.0054618131386103995), (7606, 0.0035434384656369273), (7607, 0.0031731557643378595), (7617, 0.011961040770955049), (7627, 0.007176624462573028), (7628, 0.006395676852426178), (7631, 0.0007086876931273855), (7648, 0.00202994821502944), (7652, 0.013772340466762893), (7653, 0.0020859217398036746), (7655, 0.006346311528675719), (7657, 0.0027544680933525786), (7664, 0.003197838426213089), (7674, 0.004279674760342721), (7676, 0.03966444705422324), (7677, 0.038077869172054316), (7681, 0.0023922081541910096), (7683, 0.0007086876931273855), (7685, 0.0023922081541910096), (7689, 0.0037694422008672985), (7697, 0.004171843479607349), (7699, 0.00831501658560942), (7700, 0.0023922081541910096), (7713, 0.0037694422008672985), (7718, 0.019137665233528077), (7722, 0.0023922081541910096), (7723, 0.004171843479607349), (7730, 0.009593515278639267), (7734, 0.0127442306567576), (7741, 0.011308326602601896), (7780, 0.0020859217398036746), (7783, 0.0031731557643378595), (7786, 0.004784416308382019), (7809, 0.02647890946586298), (7817, 0.0020859217398036746), (7825, 0.0023922081541910096), (7828, 0.0054618131386103995), (7832, 0.0031731557643378595), (7839, 0.005508936186705157), (7845, 0.009593515278639267), (7848, 0.0037694422008672985), (7849, 0.09043493928362899), (7858, 0.011017872373410315), (7859, 0.003197838426213089), (7862, 0.005508936186705157), (7865, 0.0034237398082741766), (7870, 0.0020859217398036746), (7874, 0.014601452178625724), (7875, 0.00405989643005888), (7876, 0.000886740665721021), (7878, 0.00831501658560942), (7879, 0.004171843479607349), (7880, 0.0385625533069361), (7881, 0.004171843479607349), (7882, 0.05784382996040415), (7886, 0.003197838426213089), (7892, 0.0015865778821689297), (7894, 0.0015865778821689297), (7897, 0.04918391434723682), (7905, 0.02196931848694895), (7907, 0.004171843479607349), (7908, 0.006886170233381447), (7909, 0.0008373753419705617), (7910, 0.011308326602601896), (7911, 0.001417375386254771), (7914, 0.059883472343368487), (7927, 0.0023922081541910096), (7944, 0.009519467293013579), (7945, 0.0037694422008672985), (7948, 0.004171843479607349), (7954, 0.02631428969610111), (7955, 0.0054618131386103995), (7959, 0.0022603947105004976), (7969, 0.0015865778821689297), (7970, 0.0020859217398036746), (7972, 0.005508936186705157), (7976, 0.005669501545019084), (7977, 0.006346311528675719), (7978, 0.005508936186705157), (7979, 0.0034237398082741766), (7981, 0.0385625533069361), (7984, 0.003197838426213089), (7985, 0.018773295658233075), (7993, 0.003197838426213089), (7995, 0.016526808560115472), (7998, 0.003197838426213089), (8000, 0.0026602219971630626), (8001, 0.0015865778821689297), (8011, 0.0035434384656369273), (8013, 0.009103021897684), (8014, 0.006395676852426178), (8020, 0.0027544680933525786), (8025, 0.022616653205203792), (8037, 0.004575072472889379), (8038, 0.0036412087590735995), (8043, 0.006886170233381447), (8053, 0.0020859217398036746), (8059, 0.00202994821502944), (8061, 0.008263404280057736), (8078, 0.00101497410751472), (8091, 0.004784416308382019), (8095, 0.010690735610069255), (8098, 0.003197838426213089), (8108, 0.0027544680933525786), (8111, 0.005508936186705157), (8115, 0.007176624462573028), (8121, 0.003197838426213089), (8132, 0.015077768803469194), (8152, 0.0037694422008672985), (8160, 0.02711698261744777), (8171, 0.04066753862124716), (8178, 0.0015865778821689297), (8182, 0.02203574474682063), (8192, 0.015591129248802483), (8198, 0.0023922081541910096), (8206, 0.0015865778821689297), (8207, 0.0027544680933525786), (8209, 0.015989192131065443), (8226, 0.01251553043882205), (8237, 0.006257765219411025), (8251, 0.007932889410844648), (8254, 0.0023922081541910096), (8259, 0.0027544680933525786), (8262, 0.007127157073379502), (8266, 0.013146886817046816), (8270, 0.06554175766332479), (8271, 0.004575072472889379), (8274, 0.0023922081541910096), (8275, 0.0020859217398036746), (8277, 0.0027544680933525786), (8278, 0.0023922081541910096), (8279, 0.007932889410844648), (8281, 0.0023922081541910096), (8285, 0.004575072472889379), (8290, 0.0023922081541910096), (8300, 0.018206043795368), (8315, 0.01928127665346805), (8332, 0.0023922081541910096), (8338, 0.003563578536689751), (8352, 0.006781184131501494), (8358, 0.0041868767098528084), (8359, 0.001417375386254771), (8361, 0.005508936186705157), (8383, 0.006395676852426178), (8384, 0.0008559349520685442), (8388, 0.009103021897684), (8394, 0.0027544680933525786), (8398, 0.0018206043795367997), (8404, 0.0023922081541910096), (8406, 0.025385246114702876), (8409, 0.007176624462573028), (8411, 0.016687373918429397), (8415, 0.004171843479607349), (8420, 0.007538884401734597), (8425, 0.0036412087590735995), (8434, 0.0031731557643378595), (8438, 0.003197838426213089), (8440, 0.030155537606938388), (8446, 0.011017872373410315), (8450, 0.0027544680933525786), (8451, 0.0023922081541910096), (8452, 0.014564835036294398), (8458, 0.02203574474682063), (8461, 0.0020859217398036746), (8468, 0.007538884401734597), (8471, 0.0026602219971630626), (8472, 0.0047597336465067894), (8475, 0.016385439415831198), (8477, 0.014279200939520367), (8478, 0.007176624462573028), (8479, 0.004751438048919669), (8490, 0.0015865778821689297), (8491, 0.05825934014517759), (8509, 0.011878595122299173), (8523, 0.006395676852426178), (8528, 0.004751438048919669), (8529, 0.009103021897684), (8530, 0.0031731557643378595), (8531, 0.0027544680933525786), (8532, 0.0036412087590735995), (8535, 0.0023922081541910096), (8536, 0.0027544680933525786), (8538, 0.003197838426213089), (8542, 0.047967576393196334), (8548, 0.003197838426213089), (8554, 0.007538884401734597), (8559, 0.0023922081541910096), (8569, 0.004171843479607349), (8579, 0.0027544680933525786), (8580, 0.004171843479607349), (8589, 0.005508936186705157), (8594, 0.006886170233381447), (8596, 0.0037694422008672985), (8597, 0.009150144945778758), (8601, 0.0023922081541910096), (8604, 0.0023922081541910096), (8615, 0.003197838426213089), (8617, 0.004171843479607349), (8618, 0.012395106420086604), (8619, 0.004575072472889379), (8624, 0.007538884401734597), (8625, 0.0509769226270304), (8633, 0.0015865778821689297), (8635, 0.0015865778821689297), (8640, 0.0018206043795367997), (8645, 0.0027544680933525786), (8650, 0.0020859217398036746), (8654, 0.0023922081541910096), (8656, 0.007932889410844648), (8658, 0.013194663397691361), (8660, 0.010860471718429979), (8666, 0.005669501545019084), (8669, 0.004784416308382019), (8672, 0.004171843479607349), (8674, 0.0027544680933525786), (8676, 0.007538884401734597), (8678, 0.003197838426213089), (8688, 0.012692623057351438), (8694, 0.0027544680933525786), (8698, 0.01275637847629294), (8699, 0.003197838426213089), (8701, 0.008343686959214698), (8702, 0.0036412087590735995), (8708, 0.008343686959214698), (8714, 0.004784416308382019), (8716, 0.004784416308382019), (8718, 0.0020859217398036746), (8721, 0.0031731557643378595), (8722, 0.003197838426213089), (8726, 0.0030449223225441605), (8727, 0.015077768803469194), (8733, 0.01251553043882205), (8735, 0.006395676852426178), (8743, 0.0018206043795367997), (8745, 0.00710481875260304), (8748, 0.015865778821689297), (8752, 0.003197838426213089), (8753, 0.004751438048919669), (8754, 0.018206043795368), (8755, 0.005508936186705157), (8758, 0.0023922081541910096), (8762, 0.007538884401734597), (8764, 0.0018206043795367997), (8767, 0.004575072472889379), (8770, 0.0127442306567576), (8773, 0.0054618131386103995), (8777, 0.0023922081541910096), (8780, 0.004575072472889379), (8782, 0.006346311528675719), (8805, 0.005508936186705157), (8808, 0.0011878595122299172), (8809, 0.0036412087590735995), (8815, 0.0023922081541910096), (8817, 0.006395676852426178), (8825, 0.0018206043795367997), (8832, 0.030449223225441604), (8850, 0.004784416308382019), (8855, 0.006886170233381447), (8880, 0.004575072472889379), (8883, 0.008263404280057736), (8886, 0.0027544680933525786), (8888, 0.004784416308382019), (8889, 0.004784416308382019), (8892, 0.004575072472889379), (8896, 0.0023757190244598344), (8897, 0.0054618131386103995), (8930, 0.0018206043795367997), (8969, 0.06886170233381446), (8970, 0.004784416308382019), (8995, 0.0017148113239626283), (9008, 0.0020859217398036746), (9012, 0.0037694422008672985), (9018, 0.0037694422008672985), (9022, 0.0036412087590735995), (9023, 0.003197838426213089), (9030, 0.0018206043795367997), (9032, 0.013772340466762893), (9055, 0.0027544680933525786), (9066, 0.011017872373410315), (9067, 0.0007086876931273855), (9081, 0.0439386369738979), (9082, 0.0028580188732710474), (9085, 0.006346311528675719), (9092, 0.0020859217398036746), (9097, 0.0037694422008672985), (9100, 0.0020859217398036746), (9103, 0.006257765219411025), (9106, 0.0013772340466762893), (9114, 0.006346311528675719), (9115, 0.0037694422008672985), (9125, 0.0005716037746542094), (9138, 0.001417375386254771), (9145, 0.027309065693051998), (9146, 0.004751438048919669), (9151, 0.007176624462573028), (9152, 0.009593515278639267), (9162, 0.006395676852426178), (9168, 0.006395676852426178), (9169, 0.014564835036294398), (9171, 0.0037694422008672985), (9207, 0.03247917144047104), (9216, 0.005508936186705157), (9223, 0.01928127665346805), (9230, 0.007538884401734597), (9242, 0.008263404280057736), (9244, 0.09365191517398767), (9245, 0.0031731557643378595), (9246, 0.005508936186705157), (9248, 0.003197838426213089), (9253, 0.003563578536689751), (9256, 0.005508936186705157), (9260, 0.0012916541202859988), (9273, 0.007932889410844648), (9275, 0.0011878595122299172), (9277, 0.009568832616764038), (9287, 0.04066753862124716), (9289, 0.00202994821502944), (9303, 0.006346311528675719), (9304, 0.004784416308382019), (9306, 0.012575283042392606), (9311, 0.008263404280057736), (9320, 0.0020859217398036746), (9330, 0.0054618131386103995), (9339, 0.0037694422008672985), (9352, 0.0037694422008672985), (9354, 0.0047597336465067894), (9355, 0.01420963750520608), (9374, 0.006395676852426178), (9378, 0.0008559349520685442), (9382, 0.011878595122299173), (9383, 0.009640638326734025), (9390, 0.004784416308382019), (9393, 0.016687373918429397), (9395, 0.0013772340466762893), (9396, 0.16749560291738558), (9397, 0.0027544680933525786), (9405, 0.009103021897684), (9409, 0.02065851070014434), (9411, 0.011961040770955049), (9436, 0.0027544680933525786), (9442, 0.019137665233528077), (9444, 0.00101497410751472), (9454, 0.0021260630793821567), (9456, 0.010923626277220799), (9471, 0.08552279133195068), (9474, 0.007932889410844648), (9483, 0.009103021897684), (9484, 0.015865778821689297), (9511, 0.016385439415831198), (9517, 0.0023922081541910096), (9518, 0.0023922081541910096), (9529, 0.0027544680933525786), (9531, 0.0023757190244598344), (9533, 0.00101497410751472), (9534, 0.009103021897684), (9539, 0.006395676852426178), (9550, 0.0037694422008672985), (9552, 0.021847252554441598), (9553, 0.015149574513439183), (9557, 0.0023922081541910096), (9570, 0.0020859217398036746), (9575, 0.007538884401734597), (9580, 0.0020859217398036746), (9588, 0.0023922081541910096), (9593, 0.004279674760342721), (9602, 0.021529873387719084), (9606, 0.0027544680933525786), (9616, 0.0037694422008672985), (9619, 0.0018206043795367997), (9620, 0.0059392975611495865), (9642, 0.007703414568616897), (9645, 0.015989192131065443), (9648, 0.009150144945778758), (9654, 0.009150144945778758), (9663, 0.0037694422008672985), (9672, 0.0020859217398036746), (9678, 0.0023922081541910096), (9683, 0.00101497410751472), (9695, 0.0011878595122299172), (9708, 0.0027544680933525786), (9709, 0.0027544680933525786), (9710, 0.009568832616764038), (9716, 0.009502876097839338), (9722, 0.0018206043795367997), (9730, 0.003563578536689751), (9733, 0.0037694422008672985), (9736, 0.0037694422008672985), (9737, 0.0023757190244598344), (9740, 0.009103021897684), (9742, 0.0023922081541910096), (9746, 0.0013772340466762893), (9747, 0.0023922081541910096), (9755, 0.015989192131065443), (9764, 0.0027544680933525786), (9770, 0.0008559349520685442), (9775, 0.006257765219411025), (9779, 0.02920290435725145), (9782, 0.0017148113239626283), (9783, 0.008559349520685442), (9797, 0.002834750772509542), (9799, 0.0027544680933525786), (9805, 0.011961040770955049), (9811, 0.0023922081541910096), (9813, 0.004171843479607349), (9825, 0.00202994821502944), (9831, 0.016526808560115472), (9851, 0.0250310608776441), (9855, 0.004784416308382019), (9856, 0.0013772340466762893), (9865, 0.011308326602601896), (9869, 0.008263404280057736), (9878, 0.003197838426213089), (9879, 0.013772340466762893), (9881, 0.0020859217398036746), (9882, 0.004171843479607349), (9886, 0.013772340466762893), (9887, 0.003197838426213089), (9892, 0.009150144945778758), (9897, 0.007980665991489189), (9898, 0.08760871307175434), (9905, 0.0020859217398036746), (9909, 0.0054618131386103995), (9928, 0.004575072472889379), (9930, 0.0023922081541910096), (9931, 0.008343686959214698), (9933, 0.0018206043795367997), (9934, 0.007282417518147199), (9952, 0.0034237398082741766), (9954, 0.003197838426213089), (9958, 0.0018206043795367997), (9959, 0.0027544680933525786), (9960, 0.009593515278639267), (9961, 0.006395676852426178), (9968, 0.0023922081541910096), (9972, 0.020026648174904797), (9981, 0.004751438048919669), (9983, 0.0023922081541910096), (9985, 0.008343686959214698), (9993, 0.01928127665346805), (9995, 0.009568832616764038), (10002, 0.0037694422008672985), (10007, 0.022616653205203792), (10027, 0.0013772340466762893), (10033, 0.0027544680933525786), (10034, 0.003197838426213089), (10036, 0.006395676852426178), (10044, 0.0023922081541910096), (10049, 0.003197838426213089), (10055, 0.016745457079337066), (10077, 0.007538884401734597), (10079, 0.007176624462573028), (10095, 0.006781184131501494), (10108, 0.2039076905081216), (10137, 0.0035434384656369273), (10142, 0.00857405661981314), (10143, 0.008343686959214698), (10147, 0.008343686959214698), (10165, 0.0035434384656369273), (10173, 0.012791353704852355), (10174, 0.02085921739803675), (10183, 0.024790212840173208), (10184, 0.007703414568616897), (10185, 0.016526808560115472), (10190, 0.0037694422008672985), (10193, 0.0018206043795367997), (10198, 0.031978384262130885), (10204, 0.009150144945778758), (10208, 0.006257765219411025), (10212, 0.0023757190244598344), (10220, 0.011017872373410315), (10226, 0.023922081541910098), (10231, 0.00202994821502944), (10234, 0.0015865778821689297), (10236, 0.0059392975611495865), (10239, 0.0023922081541910096), (10242, 0.018773295658233075), (10243, 0.033053617120230944), (10256, 0.0021260630793821567), (10257, 0.0054618131386103995), (10260, 0.0054618131386103995), (10261, 0.0023922081541910096), (10266, 0.0023922081541910096), (10267, 0.004171843479607349), (10274, 0.014564835036294398), (10277, 0.0022168516643025524), (10279, 0.0012916541202859988), (10280, 0.01420963750520608), (10292, 0.005135609712411265), (10297, 0.014353248925146056), (10301, 0.004171843479607349), (10305, 0.004131702140028868), (10310, 0.015077768803469194), (10313, 0.004575072472889379), (10315, 0.015961331982978378), (10319, 0.0011878595122299172), (10320, 0.028706497850292112), (10321, 0.05244288929142653), (10324, 0.0023922081541910096), (10325, 0.0004433703328605105), (10330, 0.0004433703328605105), (10332, 0.003197838426213089), (10333, 0.00971726416912156), (10336, 0.004171843479607349), (10338, 0.0037694422008672985), (10339, 0.010429608699018374), (10341, 0.0005716037746542094), (10346, 0.0027544680933525786), (10352, 0.004575072472889379), (10362, 0.003197838426213089), (10376, 0.0021260630793821567), (10391, 0.006257765219411025), (10395, 0.0006458270601429994), (10398, 0.0012916541202859988), (10399, 0.004784416308382019), (10414, 0.013194663397691361), (10418, 0.005508936186705157), (10424, 0.003197838426213089), (10428, 0.0037694422008672985), (10431, 0.009103021897684), (10461, 0.005508936186705157), (10465, 0.0018206043795367997), (10476, 0.0027544680933525786), (10477, 0.02203574474682063), (10478, 0.0034296226479252566), (10482, 0.0020859217398036746), (10483, 0.004171843479607349), (10484, 0.003197838426213089), (10485, 0.0037694422008672985), (10489, 0.003197838426213089), (10494, 0.021398373801713604), (10495, 0.010690735610069255), (10500, 0.0022864150986168378), (10502, 0.004784416308382019), (10505, 0.041873900729346394), (10510, 0.0023922081541910096), (10515, 0.00202994821502944), (10541, 0.003197838426213089), (10550, 0.0018206043795367997), (10552, 0.0023922081541910096), (10558, 0.003197838426213089), (10561, 0.004784416308382019), (10568, 0.005074870537573601), (10569, 0.06652013268487536), (10571, 0.023667856933978396), (10586, 0.0018206043795367997), (10588, 0.0020859217398036746), (10589, 0.0018206043795367997), (10593, 0.005508936186705157), (10594, 0.0027544680933525786), (10599, 0.008164409584212978), (10601, 0.023667856933978396), (10608, 0.0023922081541910096), (10610, 0.0047597336465067894), (10614, 0.004575072472889379), (10616, 0.0008559349520685442), (10617, 0.005508936186705157), (10618, 0.0054618131386103995), (10629, 0.00202994821502944), (10630, 0.0054618131386103995), (10631, 0.0047597336465067894), (10639, 0.0023922081541910096), (10652, 0.027309065693051998), (10660, 0.0047597336465067894), (10666, 0.004784416308382019), (10668, 0.0023922081541910096), (10688, 0.015406829137233794), (10690, 0.06307320468833731), (10693, 0.022875362364446893), (10704, 0.011017872373410315), (10705, 0.008263404280057736), (10709, 0.010923626277220799), (10722, 0.007932889410844648), (10723, 0.0020859217398036746), (10724, 0.003197838426213089), (10727, 0.004784416308382019), (10728, 0.005508936186705157), (10743, 0.015077768803469194), (10755, 0.0031731557643378595), (10763, 0.006395676852426178), (10775, 0.0037694422008672985), (10778, 0.003197838426213089), (10783, 0.00710481875260304), (10789, 0.0023922081541910096), (10790, 0.0031731557643378595), (10800, 0.009150144945778758), (10823, 0.0031731557643378595), (10829, 0.007538884401734597), (10843, 0.006257765219411025), (10847, 0.0004433703328605105), (10848, 0.0037694422008672985), (10851, 0.009593515278639267), (10853, 0.046688808945677125), (10881, 0.0034296226479252566), (10885, 0.0027544680933525786), (10894, 0.0036412087590735995), (10898, 0.0020859217398036746), (10903, 0.0027544680933525786), (10908, 0.009568832616764038), (10911, 0.0007086876931273855), (10927, 0.03993978735361239), (10929, 0.006257765219411025), (10934, 0.0036412087590735995), (10937, 0.0015865778821689297), (10941, 0.00202994821502944), (10943, 0.004575072472889379), (10944, 0.0037694422008672985), (10950, 0.0008559349520685442), (10956, 0.006257765219411025), (10960, 0.008263404280057736), (10961, 0.003563578536689751), (10966, 0.014353248925146056), (10970, 0.0018206043795367997), (10980, 0.0018206043795367997), (10985, 0.040387223415817186), (10989, 0.0018206043795367997), (10996, 0.00202994821502944), (11002, 0.014279200939520367), (11006, 0.007176624462573028), (11007, 0.011017872373410315), (11011, 0.0031731557643378595), (11013, 0.003546962662884084), (11018, 0.004131702140028868), (11019, 0.0027544680933525786), (11020, 0.005508936186705157), (11021, 0.0020859217398036746), (11030, 0.0027544680933525786), (11031, 0.00831501658560942), (11032, 0.0023922081541910096), (11038, 0.0027544680933525786), (11040, 0.009640638326734025), (11046, 0.0008559349520685442), (11049, 0.007282417518147199), (11058, 0.007282417518147199), (11060, 0.004575072472889379), (11068, 0.0020859217398036746), (11070, 0.006346311528675719), (11073, 0.004784416308382019), (11074, 0.015989192131065443), (11083, 0.006395676852426178), (11084, 0.003197838426213089), (11085, 0.0127442306567576), (11088, 0.0013772340466762893), (11094, 0.0023922081541910096), (11096, 0.0031731557643378595), (11103, 0.0023922081541910096), (11106, 0.006346311528675719), (11107, 0.0013772340466762893), (11109, 0.0054618131386103995), (11114, 0.0030449223225441605), (11119, 0.004171843479607349), (11129, 0.0015865778821689297), (11142, 0.027544680933525786), (11145, 0.007282417518147199), (11149, 0.0017118699041370883), (11150, 0.005508936186705157), (11159, 0.0031731557643378595), (11161, 0.0020859217398036746), (11162, 0.0031731557643378595), (11169, 0.0027544680933525786), (11181, 0.003197838426213089), (11185, 0.030950274452125597), (11191, 0.00710481875260304), (11193, 0.003197838426213089), (11196, 0.0027544680933525786), (11197, 0.005074870537573601), (11198, 0.0020859217398036746), (11206, 0.005508936186705157), (11217, 0.05135609712411265), (11218, 0.014601452178625724), (11220, 0.0027544680933525786), (11230, 0.0023922081541910096), (11245, 0.023110243705850693), (11251, 0.0023922081541910096), (11254, 0.002834750772509542), (11260, 0.0011878595122299172), (11263, 0.0020859217398036746), (11272, 0.0027544680933525786), (11277, 0.003197838426213089), (11282, 0.0023922081541910096), (11288, 0.0013772340466762893), (11301, 0.0015865778821689297), (11302, 0.0011432075493084189), (11304, 0.0036412087590735995), (11305, 0.009519467293013579), (11308, 0.004784416308382019), (11314, 0.0059392975611495865), (11316, 0.0027544680933525786), (11317, 0.009150144945778758), (11319, 0.015442173658988922), (11325, 0.0037694422008672985), (11336, 0.018773295658233075), (11339, 0.0047597336465067894), (11352, 0.03166959322653613), (11359, 0.0037694422008672985), (11360, 0.019038934586027158), (11367, 0.0027544680933525786), (11374, 0.0011878595122299172), (11376, 0.008263404280057736), (11381, 0.027544680933525786), (11384, 0.0020859217398036746), (11390, 0.0023922081541910096), (11396, 0.003197838426213089), (11397, 0.0037694422008672985), (11398, 0.0018206043795367997), (11400, 0.007176624462573028), (11404, 0.007538884401734597), (11408, 0.0025678048562056324), (11409, 0.004131702140028868), (11413, 0.004131702140028868), (11436, 0.004171843479607349), (11437, 0.0027544680933525786), (11438, 0.030299149026878365), (11472, 0.0023922081541910096), (11478, 0.0027544680933525786), (11483, 0.0013772340466762893), (11491, 0.002834750772509542), (11494, 0.04305974677543817), (11510, 0.0054618131386103995), (11518, 0.0017148113239626283), (11520, 0.006257765219411025), (11521, 0.0036412087590735995), (11524, 0.019038934586027158), (11529, 0.0036412087590735995), (11531, 0.0030449223225441605), (11537, 0.004575072472889379), (11539, 0.0023922081541910096), (11549, 0.0027544680933525786), (11557, 0.0027544680933525786), (11564, 0.02972339628201889), (11568, 0.015433301915663654), (11569, 0.0022864150986168378), (11570, 0.011308326602601896), (11587, 0.0023922081541910096), (11600, 0.006395676852426178), (11604, 0.009150144945778758), (11611, 0.0007086876931273855), (11616, 0.005508936186705157), (11617, 0.0027544680933525786), (11628, 0.011961040770955049), (11629, 0.0509769226270304), (11632, 0.007538884401734597), (11636, 0.010923626277220799), (11642, 0.0059392975611495865), (11643, 0.004575072472889379), (11656, 0.007538884401734597), (11657, 0.0011878595122299172), (11671, 0.0020859217398036746), (11679, 0.004171843479607349), (11681, 0.011308326602601896), (11693, 0.0027544680933525786), (11697, 0.0037694422008672985), (11699, 0.004575072472889379), (11701, 0.006257765219411025), (11715, 0.010923626277220799), (11718, 0.02631428969610111), (11725, 0.011961040770955049), (11726, 0.011961040770955049), (11728, 0.00637818923814647), (11730, 0.019187030557278533), (11744, 0.0020859217398036746), (11778, 0.014601452178625724), (11779, 0.0037694422008672985), (11782, 0.004784416308382019), (11785, 0.008343686959214698), (11787, 0.0018206043795367997), (11796, 0.0023922081541910096), (11824, 0.018847211004336492), (11825, 0.011308326602601896), (11830, 0.004575072472889379), (11832, 0.025385246114702876), (11834, 0.021529873387719084), (11835, 0.0018206043795367997), (11844, 0.0008559349520685442), (11851, 0.0027544680933525786), (11852, 0.020625512468196085), (11861, 0.0011878595122299172), (11882, 0.004171843479607349), (11883, 0.004279674760342721), (11886, 0.0027544680933525786), (11899, 0.010429608699018374), (11901, 0.0018206043795367997), (11905, 0.007176624462573028), (11915, 0.0013772340466762893), (11919, 0.006395676852426178), (11920, 0.0037694422008672985), (11942, 0.009103021897684), (11945, 0.003197838426213089), (11947, 0.008504252317528627), (11948, 0.004131702140028868), (11953, 0.016687373918429397), (11954, 0.015989192131065443), (11955, 0.06187653740458826), (11956, 0.0013772340466762893), (11957, 0.0023757190244598344), (11962, 0.007282417518147199), (11967, 0.02920290435725145), (11970, 0.0025678048562056324), (11977, 0.009593515278639267), (11979, 0.021529873387719084), (11985, 0.011017872373410315), (11993, 0.0020859217398036746), (12004, 0.0036412087590735995), (12005, 0.01110604517518251), (12011, 0.0023922081541910096), (12015, 0.0027544680933525786), (12020, 0.06248325150100372), (12021, 0.019137665233528077), (12030, 0.00101497410751472), (12031, 0.0013772340466762893), (12033, 0.00202994821502944), (12038, 0.02711698261744777), (12041, 0.022945139137840423), (12042, 0.010429608699018374), (12044, 0.015989192131065443), (12047, 0.0027544680933525786), (12051, 0.0037694422008672985), (12053, 0.0018206043795367997), (12055, 0.004751438048919669), (12059, 0.0027544680933525786), (12063, 0.0015865778821689297), (12064, 0.0007086876931273855), (12067, 0.008263404280057736), (12077, 0.00202994821502944), (12079, 0.0023757190244598344), (12109, 0.0023922081541910096), (12110, 0.015989192131065443), (12117, 0.02085921739803675), (12154, 0.009640638326734025), (12155, 0.00101497410751472), (12156, 0.009519467293013579), (12157, 0.010923626277220799), (12158, 0.0011878595122299172), (12159, 0.008343686959214698), (12160, 0.0013772340466762893), (12162, 0.0023757190244598344), (12163, 0.0018206043795367997), (12164, 0.0018206043795367997), (12165, 0.0054618131386103995), (12191, 0.0036412087590735995), (12192, 0.004575072472889379), (12203, 0.0036412087590735995), (12220, 0.023922081541910098), (12222, 0.0015865778821689297), (12233, 0.003197838426213089), (12235, 0.006395676852426178), (12241, 0.009593515278639267), (12242, 0.0027544680933525786), (12253, 0.006395676852426178), (12268, 0.0047597336465067894), (12310, 0.003197838426213089), (12316, 0.002834750772509542), (12332, 0.0027544680933525786), (12348, 0.005508936186705157), (12369, 0.016745457079337066), (12389, 0.003197838426213089), (12392, 0.0011432075493084189), (12397, 0.0015865778821689297), (12401, 0.008263404280057736), (12405, 0.0018206043795367997), (12413, 0.0023922081541910096), (12422, 0.0027544680933525786), (12433, 0.0382326919702728), (12452, 0.004784416308382019), (12454, 0.016745457079337066), (12472, 0.042694255446964965), (12473, 0.018773295658233075), (12474, 0.0023922081541910096), (12486, 0.003197838426213089), (12516, 0.010923626277220799), (12528, 0.0023922081541910096), (12535, 0.01251553043882205), (12543, 0.03128882609705512), (12552, 0.007176624462573028), (12562, 0.0015865778821689297), (12568, 0.0023922081541910096), (12569, 0.016687373918429397), (12581, 0.016526808560115472), (12585, 0.0015865778821689297), (12607, 0.011308326602601896), (12642, 0.007176624462573028), (12651, 0.006395676852426178), (12653, 0.0037694422008672985), (12663, 0.009593515278639267), (12667, 0.014601452178625724), (12689, 0.004171843479607349), (12690, 0.003197838426213089), (12715, 0.12119659610751346), (12717, 0.05508936186705157), (12718, 0.009568832616764038), (12726, 0.07161617042716704), (12745, 0.006395676852426178), (12752, 0.0054618131386103995), (12754, 0.004575072472889379), (12758, 0.005508936186705157), (12759, 0.004784416308382019), (12770, 0.0015865778821689297), (12772, 0.006257765219411025), (12783, 0.0020859217398036746), (12789, 0.014279200939520367), (12802, 0.004575072472889379), (12820, 0.0011878595122299172), (12823, 0.0015865778821689297), (12842, 0.013772340466762893), (12847, 0.0054618131386103995), (12848, 0.0013772340466762893), (12863, 0.009150144945778758), (12864, 0.007932889410844648), (12869, 0.004171843479607349), (12896, 0.004784416308382019), (12903, 0.020026648174904797), (12908, 0.0027544680933525786), (12909, 0.003563578536689751), (12914, 0.003197838426213089), (12925, 0.0127442306567576), (12932, 0.03649129128988538), (12933, 0.009640638326734025), (12943, 0.009593515278639267), (12946, 0.0054618131386103995), (12958, 0.0027544680933525786), (12960, 0.0020859217398036746), (12974, 0.004784416308382019), (12991, 0.005508936186705157), (12993, 0.008263404280057736), (13003, 0.004575072472889379), (13004, 0.009150144945778758), (13009, 0.0027544680933525786), (13013, 0.006395676852426178), (13015, 0.004784416308382019), (13017, 0.007176624462573028), (13020, 0.004575072472889379), (13027, 0.016526808560115472), (13042, 0.005508936186705157), (13046, 0.00202994821502944), (13051, 0.030299149026878365), (13057, 0.009519467293013579), (13058, 0.004171843479607349), (13068, 0.008263404280057736), (13103, 0.004131702140028868), (13107, 0.0015865778821689297), (13108, 0.004131702140028868), (13109, 0.010923626277220799), (13110, 0.006886170233381447), (13112, 0.0023922081541910096), (13114, 0.0023922081541910096), (13115, 0.0018206043795367997), (13184, 0.007538884401734597), (13188, 0.003197838426213089), (13191, 0.011308326602601896), (13207, 0.004171843479607349), (13216, 0.004575072472889379), (13223, 0.0037694422008672985), (13227, 0.005508936186705157), (13254, 0.006257765219411025), (13261, 0.009593515278639267), (13302, 0.02631428969610111), (13306, 0.006395676852426178), (13308, 0.04157189954077016), (13318, 0.009593515278639267), (13323, 0.0015865778821689297), (13324, 0.008263404280057736), (13328, 0.003197838426213089), (13385, 0.030950274452125597), (13391, 0.019187030557278533), (13396, 0.004575072472889379), (13398, 0.0013772340466762893), (13417, 0.0027544680933525786), (13418, 0.009593515278639267), (13424, 0.0018206043795367997), (13434, 0.009150144945778758), (13440, 0.004575072472889379), (13442, 0.003197838426213089), (13452, 0.018847211004336492), (13464, 0.01251553043882205), (13473, 0.007538884401734597), (13478, 0.003197838426213089), (13482, 0.003197838426213089), (13483, 0.0020859217398036746), (13496, 0.0054618131386103995), (13511, 0.0018206043795367997), (13530, 0.02203574474682063), (13538, 0.007538884401734597), (13549, 0.0027544680933525786), (13573, 0.0020859217398036746), (13580, 0.0037694422008672985), (13588, 0.013725217418668138), (13595, 0.019187030557278533), (13608, 0.011961040770955049), (13616, 0.012395106420086604), (13629, 0.0020859217398036746), (13633, 0.004575072472889379), (13644, 0.006395676852426178), (13647, 0.005508936186705157), (13649, 0.004171843479607349), (13652, 0.011017872373410315), (13654, 0.005508936186705157), (13659, 0.003197838426213089), (13681, 0.009593515278639267), (13682, 0.004171843479607349), (13702, 0.0020859217398036746), (13703, 0.0020859217398036746), (13707, 0.0037694422008672985), (13727, 0.016526808560115472), (13739, 0.004575072472889379), (13761, 0.009150144945778758), (13775, 0.0027544680933525786), (13776, 0.004784416308382019), (13777, 0.0023922081541910096), (13783, 0.0020859217398036746), (13788, 0.004171843479607349), (13789, 0.0047597336465067894), (13792, 0.014601452178625724), (13819, 0.007932889410844648), (13827, 0.0015865778821689297), (13831, 0.004171843479607349), (13835, 0.004575072472889379), (13837, 0.004171843479607349), (13854, 0.003197838426213089), (14004, 0.0023757190244598344), (14005, 0.009568832616764038), (14006, 0.0023922081541910096), (14007, 0.0018206043795367997), (14070, 0.004575072472889379), (14071, 0.0037694422008672985), (14072, 0.003197838426213089), (14081, 0.0037694422008672985), (14091, 0.0020859217398036746), (14198, 0.004575072472889379), (14226, 0.0018206043795367997), (14233, 0.0018206043795367997), (14237, 0.0027544680933525786), (14253, 0.004575072472889379), (14264, 0.004575072472889379), (14266, 0.003197838426213089), (14278, 0.007538884401734597), (14289, 0.003197838426213089), (14299, 0.0037694422008672985), (14346, 0.004575072472889379), (14351, 0.0027544680933525786), (14354, 0.019187030557278533), (14359, 0.004575072472889379), (14365, 0.006395676852426178), (14370, 0.004784416308382019), (14387, 0.019038934586027158), (14390, 0.0027544680933525786), (14392, 0.004575072472889379), (14395, 0.003197838426213089), (14405, 0.0015865778821689297), (14433, 0.004575072472889379), (14453, 0.003197838426213089), (14457, 0.004784416308382019), (14475, 0.003197838426213089), (14480, 0.005508936186705157), (14497, 0.0027544680933525786), (14503, 0.004171843479607349), (14508, 0.003197838426213089), (14513, 0.0037694422008672985), (14523, 0.004575072472889379), (14527, 0.0023922081541910096), (14569, 0.004575072472889379), (14572, 0.0037694422008672985), (14578, 0.0020859217398036746), (14660, 0.0037694422008672985), (14689, 0.005508936186705157), (14700, 0.006395676852426178), (14718, 0.0027544680933525786), (14736, 0.01928127665346805), (14781, 0.0037694422008672985), (14787, 0.003197838426213089), (14799, 0.0027544680933525786), (14817, 0.013725217418668138), (14821, 0.003197838426213089), (14919, 0.0023922081541910096), (14929, 0.021529873387719084), (14953, 0.0027544680933525786), (14966, 0.01110604517518251), (15051, 0.007538884401734597), (15052, 0.0054618131386103995), (15068, 0.006395676852426178), (15074, 0.005508936186705157), (15114, 0.0023922081541910096), (15135, 0.0015865778821689297), (15184, 0.0018206043795367997), (15228, 0.005508936186705157), (15267, 0.007176624462573028), (15286, 0.003197838426213089), (15289, 0.0023922081541910096), (15325, 0.0037694422008672985), (15332, 0.0023922081541910096), (15356, 0.006395676852426178), (15357, 0.0018206043795367997), (15364, 0.010429608699018374), (15371, 0.0017118699041370883), (15374, 0.0015865778821689297), (15377, 0.009150144945778758), (15380, 0.007538884401734597), (15390, 0.009593515278639267), (15404, 0.0037694422008672985), (15411, 0.006395676852426178), (15418, 0.006395676852426178), (15419, 0.0018206043795367997), (15425, 0.0027544680933525786), (15427, 0.0036412087590735995), (15433, 0.003197838426213089), (15452, 0.0023922081541910096), (15468, 0.0036412087590735995), (15472, 0.0037694422008672985), (15474, 0.0027544680933525786), (15487, 0.007176624462573028), (15504, 0.004171843479607349), (15509, 0.006395676852426178), (15545, 0.0018206043795367997), (15551, 0.009150144945778758), (15559, 0.0023922081541910096), (15580, 0.009568832616764038), (15581, 0.0037694422008672985), (15596, 0.006395676852426178), (15597, 0.011308326602601896), (15603, 0.008263404280057736), (15606, 0.003197838426213089), (15611, 0.0031731557643378595), (15616, 0.0027544680933525786), (15621, 0.003197838426213089), (15628, 0.0027544680933525786), (15629, 0.009568832616764038), (15637, 0.006257765219411025), (15644, 0.008263404280057736), (15673, 0.03202550731022565), (15676, 0.006395676852426178), (15688, 0.0027544680933525786), (15697, 0.0027544680933525786), (15706, 0.0023922081541910096), (15712, 0.011308326602601896), (15717, 0.007176624462573028), (15725, 0.003197838426213089), (15734, 0.0018206043795367997), (15746, 0.003197838426213089), (15754, 0.01251553043882205), (15763, 0.0018206043795367997), (15774, 0.009150144945778758), (15778, 0.005508936186705157), (15823, 0.004575072472889379), (15824, 0.004784416308382019), (15825, 0.007282417518147199), (15826, 0.006257765219411025), (15827, 0.0027544680933525786), (15828, 0.0027544680933525786), (15838, 0.003197838426213089), (15852, 0.004575072472889379), (15856, 0.0037694422008672985), (15861, 0.027450434837336276), (15863, 0.003197838426213089), (15864, 0.011308326602601896), (15866, 0.007538884401734597), (15871, 0.015077768803469194), (15876, 0.011308326602601896), (15878, 0.0036412087590735995), (15881, 0.0037694422008672985), (15883, 0.026386095406071088), (15887, 0.04157189954077016), (15893, 0.0027544680933525786), (15897, 0.004575072472889379), (15899, 0.008343686959214698), (15900, 0.0037694422008672985), (15903, 0.0037694422008672985), (15921, 0.0037694422008672985), (15928, 0.009593515278639267), (15929, 0.004575072472889379), (15931, 0.0027544680933525786), (15938, 0.006395676852426178), (15944, 0.004131702140028868), (15945, 0.009593515278639267), (15946, 0.0027544680933525786), (15960, 0.02558270740970471), (15963, 0.0027544680933525786), (15964, 0.0023922081541910096), (15965, 0.004171843479607349), (15980, 0.004784416308382019), (15982, 0.003197838426213089), (15983, 0.004171843479607349), (15984, 0.016526808560115472), (15985, 0.0037694422008672985), (15994, 0.003197838426213089), (15997, 0.047844163083820196), (15998, 0.003197838426213089), (16000, 0.004575072472889379), (16002, 0.006257765219411025), (16004, 0.018300289891557516), (16016, 0.018847211004336492), (16023, 0.011961040770955049), (16028, 0.004575072472889379), (16031, 0.009150144945778758), (16033, 0.003197838426213089), (16044, 0.028706497850292112), (16047, 0.007538884401734597), (16050, 0.0037694422008672985), (16054, 0.015989192131065443), (16063, 0.007538884401734597), (16064, 0.006395676852426178), (16065, 0.007538884401734597), (16066, 0.004171843479607349), (16071, 0.005508936186705157), (16075, 0.006395676852426178), (16080, 0.0027544680933525786), (16085, 0.019187030557278533), (16086, 0.005508936186705157), (16087, 0.018300289891557516), (16088, 0.045233306410407584), (16094, 0.0027544680933525786), (16096, 0.006395676852426178), (16101, 0.011017872373410315), (16104, 0.009103021897684), (16107, 0.014353248925146056), (16108, 0.0037694422008672985), (16112, 0.008263404280057736), (16120, 0.01928127665346805), (16137, 0.041463864209540284), (16150, 0.06862608709334068), (16154, 0.005508936186705157), (16158, 0.009150144945778758), (16160, 0.0037694422008672985), (16161, 0.003197838426213089), (16164, 0.011017872373410315), (16167, 0.008263404280057736), (16169, 0.003197838426213089), (16174, 0.004575072472889379), (16175, 0.003197838426213089), (16176, 0.005508936186705157), (16180, 0.004575072472889379), (16184, 0.004575072472889379), (16186, 0.045233306410407584), (16191, 0.0037694422008672985), (16192, 0.015077768803469194), (16201, 0.009568832616764038), (16206, 0.004575072472889379), (16208, 0.006395676852426178), (16210, 0.12439159262862086), (16218, 0.006395676852426178), (16220, 0.007538884401734597), (16224, 0.0750931826329323), (16225, 0.0037694422008672985), (16234, 0.004575072472889379), (16235, 0.004171843479607349), (16236, 0.0020859217398036746), (16239, 0.004575072472889379), (16240, 0.0027544680933525786), (16242, 0.003197838426213089), (16243, 0.003197838426213089), (16246, 0.005508936186705157), (16252, 0.009150144945778758), (16253, 0.0037694422008672985), (16258, 0.009150144945778758), (16262, 0.005508936186705157), (16266, 0.006395676852426178), (16269, 0.0036412087590735995), (16270, 0.007538884401734597), (16271, 0.0037694422008672985), (16274, 0.015077768803469194), (16286, 0.0027544680933525786), (16293, 0.004575072472889379), (16295, 0.004575072472889379), (16297, 0.01928127665346805), (16304, 0.009150144945778758), (16305, 0.003197838426213089), (16307, 0.007538884401734597), (16308, 0.004575072472889379), (16309, 0.011017872373410315), (16310, 0.0037694422008672985), (16331, 0.0023922081541910096), (16332, 0.0037694422008672985), (16368, 0.011308326602601896), (16421, 0.0037694422008672985), (16439, 0.0023922081541910096), (16464, 0.0027544680933525786), (16519, 0.003197838426213089), (16557, 0.003197838426213089), (16568, 0.007538884401734597), (16570, 0.007538884401734597), (16644, 0.005508936186705157), (16660, 0.004575072472889379), (16668, 0.0023922081541910096), (16694, 0.003197838426213089), (16744, 0.0013772340466762893), (16763, 0.0027544680933525786), (16788, 0.004575072472889379), (16806, 0.003197838426213089), (16809, 0.003197838426213089), (16879, 0.003197838426213089), (16894, 0.0027544680933525786), (16924, 0.003197838426213089), (16970, 0.0037694422008672985), (16989, 0.0027544680933525786), (17000, 0.012791353704852355), (17016, 0.008263404280057736), (17056, 0.003197838426213089), (17063, 0.009150144945778758), (17124, 0.0027544680933525786), (17216, 0.003197838426213089), (17224, 0.006257765219411025), (17262, 0.006257765219411025), (17292, 0.011017872373410315), (17297, 0.0037694422008672985), (17503, 0.0037694422008672985), (17527, 0.01251553043882205), (17780, 0.003197838426213089), (17797, 0.015077768803469194), (17852, 0.004575072472889379), (17888, 0.006395676852426178), (17904, 0.004171843479607349), (17909, 0.0037694422008672985), (17913, 0.0037694422008672985), (17947, 0.003197838426213089), (17991, 0.0023922081541910096), (17997, 0.007176624462573028), (18000, 0.0027544680933525786), (18045, 0.004171843479607349), (18049, 0.003197838426213089), (18065, 0.0027544680933525786), (18080, 0.0037694422008672985), (18093, 0.005508936186705157), (18099, 0.0037694422008672985), (18152, 0.003197838426213089), (18170, 0.009593515278639267), (18172, 0.003197838426213089), (18221, 0.0027544680933525786), (18321, 0.004575072472889379), (18339, 0.009150144945778758), (18350, 0.0020859217398036746), (18365, 0.0037694422008672985), (18375, 0.003197838426213089), (18431, 0.003197838426213089), (18435, 0.003197838426213089), (18461, 0.003197838426213089), (18463, 0.009150144945778758), (18466, 0.003197838426213089), (18473, 0.0037694422008672985), (18499, 0.02203574474682063), (18516, 0.050325797201783165), (18557, 0.0037694422008672985), (18558, 0.0037694422008672985), (18583, 0.0037694422008672985), (18617, 0.009593515278639267), (18622, 0.006395676852426178), (18638, 0.009150144945778758), (18654, 0.011017872373410315), (18659, 0.018300289891557516), (18682, 0.003197838426213089), (18714, 0.0037694422008672985), (18726, 0.004575072472889379), (18729, 0.0037694422008672985), (18748, 0.0027544680933525786), (18767, 0.0027544680933525786), (18830, 0.0037694422008672985), (18844, 0.004575072472889379), (18858, 0.011308326602601896), (18885, 0.0027544680933525786), (18895, 0.0037694422008672985), (18931, 0.003197838426213089), (18933, 0.004575072472889379), (18951, 0.007538884401734597), (18956, 0.0037694422008672985), (18972, 0.0037694422008672985), (18973, 0.003197838426213089), (18989, 0.012791353704852355), (19028, 0.005508936186705157), (19066, 0.022875362364446893), (19075, 0.0037694422008672985), (19077, 0.009150144945778758), (19085, 0.004575072472889379), (19088, 0.006395676852426178), (19120, 0.0037694422008672985), (19136, 0.006395676852426178), (19139, 0.004575072472889379), (19153, 0.006395676852426178), (19155, 0.018847211004336492), (19157, 0.009150144945778758), (19185, 0.009150144945778758), (19214, 0.006395676852426178), (19265, 0.003197838426213089), (19276, 0.004575072472889379), (19295, 0.0023922081541910096), (19304, 0.004575072472889379), (19324, 0.003197838426213089), (19325, 0.0037694422008672985), (19341, 0.0037694422008672985), (19359, 0.006395676852426178), (19436, 0.004575072472889379), (19453, 0.003197838426213089), (19502, 0.028780545835917798), (19513, 0.004575072472889379), (19516, 0.022616653205203792), (19518, 0.003197838426213089), (19520, 0.03660057978311503), (19532, 0.0037694422008672985), (19542, 0.007538884401734597), (19543, 0.0037694422008672985), (19586, 0.019187030557278533), (19648, 0.003197838426213089), (19692, 0.022616653205203792), (19735, 0.0027544680933525786), (19779, 0.004575072472889379), (19798, 0.004575072472889379), (19875, 0.011308326602601896), (19877, 0.0037694422008672985), (19897, 0.006395676852426178), (19908, 0.009593515278639267), (19923, 0.0037694422008672985), (19924, 0.003197838426213089), (19961, 0.0037694422008672985), (19962, 0.0037694422008672985), (19967, 0.0037694422008672985), (20046, 0.009593515278639267), (20069, 0.013725217418668138), (20081, 0.009150144945778758), (20082, 0.026386095406071088), (20096, 0.0023922081541910096), (20194, 0.013725217418668138), (20262, 0.013725217418668138), (20295, 0.004784416308382019), (20338, 0.0037694422008672985), (20365, 0.009150144945778758), (20396, 0.013725217418668138), (20397, 0.007538884401734597), (20413, 0.009593515278639267), (20425, 0.004575072472889379), (20445, 0.0037694422008672985), (20494, 0.005508936186705157), (20513, 0.022616653205203792), (20572, 0.0023922081541910096), (20586, 0.004575072472889379), (20594, 0.004575072472889379), (20620, 0.03660057978311503), (20666, 0.0037694422008672985), (20696, 0.004575072472889379), (20702, 0.006395676852426178), (20716, 0.003197838426213089), (20738, 0.009150144945778758), (20752, 0.009150144945778758), (20804, 0.013725217418668138), (20836, 0.018300289891557516), (20861, 0.0037694422008672985), (20874, 0.007538884401734597), (20876, 0.004575072472889379), (20890, 0.05490086967467255), (20915, 0.0037694422008672985), (20919, 0.007538884401734597), (20989, 0.009150144945778758), (20997, 0.003197838426213089), (21003, 0.022384868983491624), (21080, 0.003197838426213089), (21098, 0.007538884401734597), (21105, 0.0037694422008672985), (21109, 0.006395676852426178), (21176, 0.012791353704852355), (21177, 0.004575072472889379), (21254, 0.007538884401734597), (21295, 0.0037694422008672985), (21504, 0.022875362364446893), (21553, 0.0037694422008672985), (21556, 0.004575072472889379), (21582, 0.009150144945778758), (21612, 0.007538884401734597), (21725, 0.004784416308382019), (21753, 0.022616653205203792), (21813, 0.0027544680933525786), (21923, 0.007538884401734597), (21990, 0.0037694422008672985), (22043, 0.007538884401734597), (22066, 0.0037694422008672985), (22067, 0.0037694422008672985), (22076, 0.018847211004336492), (22101, 0.003197838426213089), (22105, 0.0023922081541910096), (22252, 0.003197838426213089), (22357, 0.0037694422008672985), (22481, 0.004575072472889379), (22535, 0.004575072472889379), (22551, 0.004575072472889379), (22557, 0.009150144945778758), (22565, 0.004575072472889379), (22611, 0.0037694422008672985), (22621, 0.018300289891557516), (22622, 0.004575072472889379), (23082, 0.003197838426213089), (23103, 0.004575072472889379), (23161, 0.004575072472889379), (23177, 0.004575072472889379), (23208, 0.013725217418668138), (23212, 0.006395676852426178), (23227, 0.0037694422008672985), (23245, 0.009150144945778758), (23247, 0.004575072472889379), (23523, 0.004575072472889379), (23543, 0.006395676852426178), (23806, 0.0037694422008672985), (23852, 0.006395676852426178), (23929, 0.009150144945778758), (23933, 0.004575072472889379), (24183, 0.004575072472889379), (24252, 0.005952306519565668), (24253, 0.004575072472889379), (24254, 0.004575072472889379), (24255, 0.005952306519565668), (24256, 0.005952306519565668), (24257, 0.005952306519565668), (24258, 0.004575072472889379), (24259, 0.011904613039131337), (24260, 0.009150144945778758), (24261, 0.011904613039131337), (24262, 0.009150144945778758), (24263, 0.004575072472889379), (24264, 0.011904613039131337), (24265, 0.005952306519565668), (24266, 0.005952306519565668), (24267, 0.004575072472889379), (24268, 0.013725217418668138), (24269, 0.004575072472889379), (24270, 0.005952306519565668), (24271, 0.004575072472889379), (24272, 0.011904613039131337), (24273, 0.005952306519565668), (24274, 0.011904613039131337), (24275, 0.009150144945778758), (24276, 0.004575072472889379), (24277, 0.004575072472889379), (24278, 0.011904613039131337), (24279, 0.005952306519565668), (24280, 0.005952306519565668), (24281, 0.009150144945778758), (24282, 0.007538884401734597), (24283, 0.004575072472889379), (24284, 0.005952306519565668), (24285, 0.005952306519565668), (24286, 0.011904613039131337), (24287, 0.005952306519565668), (24288, 0.023809226078262673), (24289, 0.011904613039131337), (24290, 0.005952306519565668), (24291, 0.009150144945778758), (24292, 0.004575072472889379), (24293, 0.005952306519565668), (24294, 0.005952306519565668), (24295, 0.005952306519565668), (24296, 0.009150144945778758), (24297, 0.005952306519565668), (24298, 0.005952306519565668), (24299, 0.005952306519565668), (24300, 0.005952306519565668), (24301, 0.013725217418668138), (24302, 0.005952306519565668), (24303, 0.004575072472889379), (24304, 0.005952306519565668), (24305, 0.005952306519565668), (24306, 0.011904613039131337), (24307, 0.004575072472889379), (24308, 0.017856919558697004), (24309, 0.004575072472889379), (24310, 0.005952306519565668), (24311, 0.005952306519565668), (24312, 0.005952306519565668), (24313, 0.013725217418668138), (24314, 0.005952306519565668), (24315, 0.005952306519565668), (24316, 0.005952306519565668), (24317, 0.017856919558697004), (24318, 0.011904613039131337), (24319, 0.005952306519565668), (24320, 0.005952306519565668), (24321, 0.011904613039131337), (24322, 0.005952306519565668), (24323, 0.011904613039131337), (24324, 0.017856919558697004), (24325, 0.011904613039131337), (24326, 0.005952306519565668), (24327, 0.011904613039131337), (24328, 0.004575072472889379), (24329, 0.005952306519565668), (24330, 0.005952306519565668), (24331, 0.023809226078262673), (24332, 0.004575072472889379), (24333, 0.011904613039131337), (24334, 0.009150144945778758), (24335, 0.005952306519565668), (24336, 0.004575072472889379), (24337, 0.005952306519565668), (24338, 0.011904613039131337), (24339, 0.04761845215652535), (24340, 0.005952306519565668), (24341, 0.005952306519565668), (24342, 0.011904613039131337), (24343, 0.011904613039131337), (24344, 0.004575072472889379), (24345, 0.015989192131065443), (24346, 0.005952306519565668), (24347, 0.007538884401734597), (24348, 0.023809226078262673), (24349, 0.005952306519565668), (24350, 0.011904613039131337), (24351, 0.005952306519565668), (24352, 0.011904613039131337), (24353, 0.02976153259782834), (24354, 0.005952306519565668), (24355, 0.004575072472889379), (24356, 0.011904613039131337), (24357, 0.005952306519565668), (24358, 0.004575072472889379), (24359, 0.005952306519565668), (24360, 0.007538884401734597), (24361, 0.005952306519565668), (24362, 0.005952306519565668), (24363, 0.005952306519565668), (24364, 0.011904613039131337), (24365, 0.005952306519565668), (24366, 0.005952306519565668), (24367, 0.004575072472889379), (24368, 0.007538884401734597), (24369, 0.005952306519565668), (24370, 0.018300289891557516), (24371, 0.017856919558697004), (24372, 0.004575072472889379), (24373, 0.005952306519565668), (24374, 0.005952306519565668), (24375, 0.0037694422008672985), (24376, 0.011904613039131337), (24377, 0.018300289891557516), (24378, 0.005952306519565668), (24379, 0.004575072472889379), (24380, 0.022875362364446893), (24381, 0.005952306519565668), (24382, 0.004575072472889379), (24383, 0.005952306519565668), (24384, 0.005952306519565668), (24385, 0.023809226078262673), (24386, 0.005952306519565668), (24387, 0.009150144945778758), (24388, 0.005952306519565668), (24389, 0.005952306519565668), (24390, 0.011904613039131337), (24391, 0.011904613039131337), (24392, 0.02976153259782834), (24393, 0.005952306519565668), (24394, 0.005952306519565668), (24395, 0.011904613039131337), (24396, 0.011904613039131337), (24397, 0.023809226078262673), (24398, 0.011904613039131337), (24399, 0.004575072472889379), (24400, 0.011904613039131337), (24401, 0.018300289891557516), (24402, 0.004575072472889379), (24403, 0.011904613039131337), (24404, 0.07320115956623006), (24405, 0.005952306519565668), (24406, 0.005952306519565668), (24407, 0.005952306519565668), (24408, 0.005952306519565668), (24409, 0.011904613039131337), (24410, 0.017856919558697004), (24411, 0.005952306519565668), (24412, 0.011904613039131337), (24413, 0.005952306519565668), (24414, 0.011904613039131337), (24415, 0.009150144945778758), (24416, 0.005952306519565668), (24417, 0.005952306519565668), (24418, 0.005952306519565668), (24419, 0.005952306519565668), (24420, 0.011904613039131337), (24421, 0.004575072472889379), (24422, 0.005952306519565668), (24423, 0.005952306519565668), (24424, 0.004575072472889379), (24425, 0.005952306519565668), (24426, 0.011308326602601896), (24427, 0.004575072472889379), (24428, 0.005952306519565668), (24429, 0.011904613039131337), (24430, 0.005952306519565668), (24431, 0.005952306519565668), (24432, 0.011904613039131337), (24433, 0.004575072472889379), (24434, 0.005952306519565668), (24435, 0.004575072472889379), (24436, 0.004575072472889379), (24437, 0.011904613039131337), (24438, 0.005952306519565668), (24439, 0.005952306519565668), (24440, 0.02976153259782834), (24441, 0.018300289891557516), (24442, 0.004575072472889379), (24443, 0.005952306519565668), (24444, 0.017856919558697004), (24445, 0.08333229127391935), (24446, 0.009150144945778758), (24447, 0.017856919558697004), (24448, 0.004575072472889379), (24449, 0.005952306519565668), (24450, 0.005952306519565668), (24451, 0.005952306519565668), (24452, 0.011904613039131337), (24453, 0.007538884401734597), (24454, 0.005952306519565668), (24455, 0.005952306519565668), (24456, 0.005952306519565668), (24457, 0.005952306519565668), (24458, 0.011904613039131337), (24459, 0.005952306519565668), (24460, 0.005952306519565668), (24461, 0.004575072472889379), (24462, 0.005952306519565668), (24463, 0.005952306519565668), (24464, 0.005952306519565668), (24465, 0.009150144945778758), (24466, 0.005952306519565668), (24467, 0.005952306519565668), (24468, 0.04761845215652535), (24469, 0.011904613039131337), (24470, 0.005952306519565668), (24471, 0.011904613039131337), (24472, 0.023809226078262673), (24473, 0.005952306519565668), (24474, 0.005952306519565668), (24475, 0.011904613039131337), (24476, 0.005952306519565668), (24477, 0.017856919558697004), (24478, 0.004575072472889379), (24479, 0.017856919558697004), (24480, 0.004575072472889379), (24481, 0.011904613039131337), (24482, 0.004575072472889379), (24483, 0.005952306519565668), (24484, 0.009150144945778758), (24485, 0.03571383911739401), (24486, 0.005952306519565668), (24487, 0.005952306519565668), (24488, 0.004575072472889379), (24489, 0.005952306519565668), (24490, 0.005952306519565668), (24491, 0.004575072472889379), (24492, 0.009150144945778758), (24493, 0.011904613039131337), (24494, 0.005952306519565668), (24495, 0.004575072472889379), (24496, 0.0037694422008672985), (24497, 0.005952306519565668)]\n"
     ]
    }
   ],
   "source": [
    "# Load the gensim functions that will allow us to generate tf-idf models\n",
    "from gensim.models import TfidfModel\n",
    "\n",
    "# Generate the tf-idf model\n",
    "model = TfidfModel(bows)\n",
    "\n",
    "# Print the model for \"On the Origin of Species\"\n",
    "print(model[bows[ori]])"
   ]
  },
  {
   "cell_type": "markdown",
   "metadata": {
    "dc": {
     "key": "59"
    },
    "deletable": false,
    "editable": false,
    "run_control": {
     "frozen": true
    },
    "tags": [
     "context"
    ]
   },
   "source": [
    "## 9. The results of the tf-idf model\n",
    "<p>Once again, the format of those results is hard to interpret for a human. Therefore, we will transform it into a more readable version and display the 10 most specific words for the \"<em>On the Origin of Species</em>\" book.</p>"
   ]
  },
  {
   "cell_type": "code",
   "execution_count": 56,
   "metadata": {
    "dc": {
     "key": "59"
    },
    "tags": [
     "sample_code"
    ]
   },
   "outputs": [
    {
     "data": {
      "text/html": [
       "<div>\n",
       "<style>\n",
       "    .dataframe thead tr:only-child th {\n",
       "        text-align: right;\n",
       "    }\n",
       "\n",
       "    .dataframe thead th {\n",
       "        text-align: left;\n",
       "    }\n",
       "\n",
       "    .dataframe tbody tr th {\n",
       "        vertical-align: top;\n",
       "    }\n",
       "</style>\n",
       "<table border=\"1\" class=\"dataframe\">\n",
       "  <thead>\n",
       "    <tr style=\"text-align: right;\">\n",
       "      <th></th>\n",
       "      <th>id</th>\n",
       "      <th>score</th>\n",
       "      <th>token</th>\n",
       "    </tr>\n",
       "  </thead>\n",
       "  <tbody>\n",
       "    <tr>\n",
       "      <th>0</th>\n",
       "      <td>2164</td>\n",
       "      <td>0.327414</td>\n",
       "      <td>select</td>\n",
       "    </tr>\n",
       "    <tr>\n",
       "      <th>1</th>\n",
       "      <td>10108</td>\n",
       "      <td>0.203908</td>\n",
       "      <td>pigeon</td>\n",
       "    </tr>\n",
       "    <tr>\n",
       "      <th>2</th>\n",
       "      <td>369</td>\n",
       "      <td>0.197721</td>\n",
       "      <td>breed</td>\n",
       "    </tr>\n",
       "    <tr>\n",
       "      <th>3</th>\n",
       "      <td>9396</td>\n",
       "      <td>0.167496</td>\n",
       "      <td>migrat</td>\n",
       "    </tr>\n",
       "    <tr>\n",
       "      <th>4</th>\n",
       "      <td>2325</td>\n",
       "      <td>0.148186</td>\n",
       "      <td>steril</td>\n",
       "    </tr>\n",
       "    <tr>\n",
       "      <th>5</th>\n",
       "      <td>752</td>\n",
       "      <td>0.145990</td>\n",
       "      <td>domest</td>\n",
       "    </tr>\n",
       "    <tr>\n",
       "      <th>6</th>\n",
       "      <td>1255</td>\n",
       "      <td>0.128272</td>\n",
       "      <td>hybrid</td>\n",
       "    </tr>\n",
       "    <tr>\n",
       "      <th>7</th>\n",
       "      <td>966</td>\n",
       "      <td>0.127534</td>\n",
       "      <td>fertil</td>\n",
       "    </tr>\n",
       "    <tr>\n",
       "      <th>8</th>\n",
       "      <td>16210</td>\n",
       "      <td>0.124392</td>\n",
       "      <td>rtner</td>\n",
       "    </tr>\n",
       "    <tr>\n",
       "      <th>9</th>\n",
       "      <td>12715</td>\n",
       "      <td>0.121197</td>\n",
       "      <td>naturalis</td>\n",
       "    </tr>\n",
       "  </tbody>\n",
       "</table>\n",
       "</div>"
      ],
      "text/plain": [
       "      id     score      token\n",
       "0   2164  0.327414     select\n",
       "1  10108  0.203908     pigeon\n",
       "2    369  0.197721      breed\n",
       "3   9396  0.167496     migrat\n",
       "4   2325  0.148186     steril\n",
       "5    752  0.145990     domest\n",
       "6   1255  0.128272     hybrid\n",
       "7    966  0.127534     fertil\n",
       "8  16210  0.124392      rtner\n",
       "9  12715  0.121197  naturalis"
      ]
     },
     "execution_count": 56,
     "metadata": {},
     "output_type": "execute_result"
    }
   ],
   "source": [
    "# Convert the tf-idf model for \"On the Origin of Species\" into a DataFrame\n",
    "df_tfidf = pd.DataFrame(model[bows[ori]])\n",
    "\n",
    "# Name the columns of the DataFrame id and score\n",
    "df_tfidf.columns = ['id', 'score']\n",
    "\n",
    "# Add the tokens corresponding to the numerical indices for better readability\n",
    "df_tfidf['token'] = df_tfidf['id'].apply(lambda x: list(dictionary.token2id.keys())[list(dictionary.token2id.values()).index(x)])\n",
    "\n",
    "\n",
    "# Sort the DataFrame by descending tf-idf score and print the first 10 rows.\n",
    "df_tfidf = df_tfidf.sort_values('score', ascending=False).reset_index(drop=True)\n",
    "df_tfidf.head(10)"
   ]
  },
  {
   "cell_type": "markdown",
   "metadata": {
    "dc": {
     "key": "66"
    },
    "deletable": false,
    "editable": false,
    "run_control": {
     "frozen": true
    },
    "tags": [
     "context"
    ]
   },
   "source": [
    "## 10. Compute distance between texts\n",
    "<p>The results of the tf-idf algorithm now return stemmed tokens which are specific to each book. We can, for example, see that topics such as selection, breeding or domestication are defining \"<em>On the Origin of Species</em>\" (and yes, in this book, Charles Darwin talks quite a lot about pigeons too). Now that we have a model associating tokens to how specific they are to each book, we can measure how related to books are between each other.</p>\n",
    "<p>To this purpose, we will use a measure of similarity called <strong>cosine similarity</strong> and we will visualize the results as a distance matrix, i.e., a matrix showing all pairwise distances between Darwin's books.</p>"
   ]
  },
  {
   "cell_type": "code",
   "execution_count": 58,
   "metadata": {
    "dc": {
     "key": "66"
    },
    "tags": [
     "sample_code"
    ]
   },
   "outputs": [
    {
     "name": "stdout",
     "output_type": "stream",
     "text": [
      "                                     Autobiography  CoralReefs  DescentofMan  \\\n",
      "Autobiography                             1.000001    0.577276      0.670858   \n",
      "CoralReefs                                0.577276    1.000000      0.639641   \n",
      "DescentofMan                              0.670858    0.639641      1.000000   \n",
      "DifferentFormsofFlowers                   0.498263    0.487560      0.571371   \n",
      "EffectsCrossSelfFertilization             0.426514    0.367150      0.442596   \n",
      "ExpressionofEmotionManAnimals             0.725250    0.635315      0.811946   \n",
      "FormationVegetableMould                   0.711522    0.632857      0.687536   \n",
      "FoundationsOriginofSpecies                0.661963    0.651600      0.812162   \n",
      "GeologicalObservationsSouthAmerica        0.653104    0.731872      0.702474   \n",
      "InsectivorousPlants                       0.637372    0.543321      0.614954   \n",
      "LifeandLettersVol1                        0.893351    0.591684      0.681126   \n",
      "LifeandLettersVol2                        0.812685    0.589281      0.682788   \n",
      "MonographCirripedia                       0.555410    0.613244      0.707480   \n",
      "MonographCirripediaVol2                   0.568670    0.635663      0.710160   \n",
      "MovementClimbingPlants                    0.614255    0.558194      0.641009   \n",
      "OriginofSpecies                           0.683619    0.679544      0.833755   \n",
      "PowerMovementPlants                       0.670193    0.569607      0.642416   \n",
      "VariationPlantsAnimalsDomestication       0.688382    0.667527      0.851499   \n",
      "VolcanicIslands                           0.651743    0.763504      0.731957   \n",
      "VoyageBeagle                              0.827976    0.755525      0.786662   \n",
      "\n",
      "                                     DifferentFormsofFlowers  \\\n",
      "Autobiography                                       0.498263   \n",
      "CoralReefs                                          0.487560   \n",
      "DescentofMan                                        0.571371   \n",
      "DifferentFormsofFlowers                             1.000000   \n",
      "EffectsCrossSelfFertilization                       0.687895   \n",
      "ExpressionofEmotionManAnimals                       0.539104   \n",
      "FormationVegetableMould                             0.538601   \n",
      "FoundationsOriginofSpecies                          0.597873   \n",
      "GeologicalObservationsSouthAmerica                  0.538944   \n",
      "InsectivorousPlants                                 0.525381   \n",
      "LifeandLettersVol1                                  0.481620   \n",
      "LifeandLettersVol2                                  0.480934   \n",
      "MonographCirripedia                                 0.562826   \n",
      "MonographCirripediaVol2                             0.559724   \n",
      "MovementClimbingPlants                              0.564785   \n",
      "OriginofSpecies                                     0.634396   \n",
      "PowerMovementPlants                                 0.561310   \n",
      "VariationPlantsAnimalsDomestication                 0.642908   \n",
      "VolcanicIslands                                     0.562624   \n",
      "VoyageBeagle                                        0.591719   \n",
      "\n",
      "                                     EffectsCrossSelfFertilization  \\\n",
      "Autobiography                                             0.426514   \n",
      "CoralReefs                                                0.367150   \n",
      "DescentofMan                                              0.442596   \n",
      "DifferentFormsofFlowers                                   0.687895   \n",
      "EffectsCrossSelfFertilization                             1.000000   \n",
      "ExpressionofEmotionManAnimals                             0.428799   \n",
      "FormationVegetableMould                                   0.471158   \n",
      "FoundationsOriginofSpecies                                0.474402   \n",
      "GeologicalObservationsSouthAmerica                        0.427714   \n",
      "InsectivorousPlants                                       0.468599   \n",
      "LifeandLettersVol1                                        0.390826   \n",
      "LifeandLettersVol2                                        0.396519   \n",
      "MonographCirripedia                                       0.408583   \n",
      "MonographCirripediaVol2                                   0.424613   \n",
      "MovementClimbingPlants                                    0.493390   \n",
      "OriginofSpecies                                           0.512078   \n",
      "PowerMovementPlants                                       0.520806   \n",
      "VariationPlantsAnimalsDomestication                       0.519855   \n",
      "VolcanicIslands                                           0.430648   \n",
      "VoyageBeagle                                              0.484102   \n",
      "\n",
      "                                     ExpressionofEmotionManAnimals  \\\n",
      "Autobiography                                             0.725250   \n",
      "CoralReefs                                                0.635315   \n",
      "DescentofMan                                              0.811946   \n",
      "DifferentFormsofFlowers                                   0.539104   \n",
      "EffectsCrossSelfFertilization                             0.428799   \n",
      "ExpressionofEmotionManAnimals                             0.999999   \n",
      "FormationVegetableMould                                   0.720796   \n",
      "FoundationsOriginofSpecies                                0.773486   \n",
      "GeologicalObservationsSouthAmerica                        0.705558   \n",
      "InsectivorousPlants                                       0.639386   \n",
      "LifeandLettersVol1                                        0.742878   \n",
      "LifeandLettersVol2                                        0.710988   \n",
      "MonographCirripedia                                       0.687804   \n",
      "MonographCirripediaVol2                                   0.714196   \n",
      "MovementClimbingPlants                                    0.698851   \n",
      "OriginofSpecies                                           0.783433   \n",
      "PowerMovementPlants                                       0.691734   \n",
      "VariationPlantsAnimalsDomestication                       0.798436   \n",
      "VolcanicIslands                                           0.744780   \n",
      "VoyageBeagle                                              0.821087   \n",
      "\n",
      "                                     FormationVegetableMould  \\\n",
      "Autobiography                                       0.711522   \n",
      "CoralReefs                                          0.632857   \n",
      "DescentofMan                                        0.687536   \n",
      "DifferentFormsofFlowers                             0.538601   \n",
      "EffectsCrossSelfFertilization                       0.471158   \n",
      "ExpressionofEmotionManAnimals                       0.720796   \n",
      "FormationVegetableMould                             1.000000   \n",
      "FoundationsOriginofSpecies                          0.670364   \n",
      "GeologicalObservationsSouthAmerica                  0.732109   \n",
      "InsectivorousPlants                                 0.712249   \n",
      "LifeandLettersVol1                                  0.660600   \n",
      "LifeandLettersVol2                                  0.621035   \n",
      "MonographCirripedia                                 0.645534   \n",
      "MonographCirripediaVol2                             0.665063   \n",
      "MovementClimbingPlants                              0.667419   \n",
      "OriginofSpecies                                     0.707511   \n",
      "PowerMovementPlants                                 0.740100   \n",
      "VariationPlantsAnimalsDomestication                 0.719738   \n",
      "VolcanicIslands                                     0.747892   \n",
      "VoyageBeagle                                        0.822918   \n",
      "\n",
      "                                     FoundationsOriginofSpecies  \\\n",
      "Autobiography                                          0.661963   \n",
      "CoralReefs                                             0.651600   \n",
      "DescentofMan                                           0.812162   \n",
      "DifferentFormsofFlowers                                0.597873   \n",
      "EffectsCrossSelfFertilization                          0.474402   \n",
      "ExpressionofEmotionManAnimals                          0.773486   \n",
      "FormationVegetableMould                                0.670364   \n",
      "FoundationsOriginofSpecies                             1.000000   \n",
      "GeologicalObservationsSouthAmerica                     0.710694   \n",
      "InsectivorousPlants                                    0.601215   \n",
      "LifeandLettersVol1                                     0.708176   \n",
      "LifeandLettersVol2                                     0.704864   \n",
      "MonographCirripedia                                    0.675823   \n",
      "MonographCirripediaVol2                                0.713300   \n",
      "MovementClimbingPlants                                 0.665753   \n",
      "OriginofSpecies                                        0.908015   \n",
      "PowerMovementPlants                                    0.654265   \n",
      "VariationPlantsAnimalsDomestication                    0.850149   \n",
      "VolcanicIslands                                        0.734779   \n",
      "VoyageBeagle                                           0.792684   \n",
      "\n",
      "                                     GeologicalObservationsSouthAmerica  \\\n",
      "Autobiography                                                  0.653104   \n",
      "CoralReefs                                                     0.731872   \n",
      "DescentofMan                                                   0.702474   \n",
      "DifferentFormsofFlowers                                        0.538944   \n",
      "EffectsCrossSelfFertilization                                  0.427714   \n",
      "ExpressionofEmotionManAnimals                                  0.705558   \n",
      "FormationVegetableMould                                        0.732109   \n",
      "FoundationsOriginofSpecies                                     0.710694   \n",
      "GeologicalObservationsSouthAmerica                             1.000000   \n",
      "InsectivorousPlants                                            0.622149   \n",
      "LifeandLettersVol1                                             0.647856   \n",
      "LifeandLettersVol2                                             0.636351   \n",
      "MonographCirripedia                                            0.696398   \n",
      "MonographCirripediaVol2                                        0.731616   \n",
      "MovementClimbingPlants                                         0.631364   \n",
      "OriginofSpecies                                                0.749705   \n",
      "PowerMovementPlants                                            0.658249   \n",
      "VariationPlantsAnimalsDomestication                            0.751975   \n",
      "VolcanicIslands                                                0.897200   \n",
      "VoyageBeagle                                                   0.835577   \n",
      "\n",
      "                                     InsectivorousPlants  LifeandLettersVol1  \\\n",
      "Autobiography                                   0.637372            0.893351   \n",
      "CoralReefs                                      0.543321            0.591684   \n",
      "DescentofMan                                    0.614954            0.681126   \n",
      "DifferentFormsofFlowers                         0.525381            0.481620   \n",
      "EffectsCrossSelfFertilization                   0.468599            0.390826   \n",
      "ExpressionofEmotionManAnimals                   0.639386            0.742878   \n",
      "FormationVegetableMould                         0.712249            0.660600   \n",
      "FoundationsOriginofSpecies                      0.601215            0.708176   \n",
      "GeologicalObservationsSouthAmerica              0.622149            0.647856   \n",
      "InsectivorousPlants                             1.000000            0.586290   \n",
      "LifeandLettersVol1                              0.586290            1.000000   \n",
      "LifeandLettersVol2                              0.553564            0.956930   \n",
      "MonographCirripedia                             0.601770            0.571790   \n",
      "MonographCirripediaVol2                         0.604658            0.597898   \n",
      "MovementClimbingPlants                          0.674463            0.612552   \n",
      "OriginofSpecies                                 0.625228            0.723862   \n",
      "PowerMovementPlants                             0.748966            0.619079   \n",
      "VariationPlantsAnimalsDomestication             0.637347            0.701616   \n",
      "VolcanicIslands                                 0.633463            0.654495   \n",
      "VoyageBeagle                                    0.731278            0.811371   \n",
      "\n",
      "                                     LifeandLettersVol2  MonographCirripedia  \\\n",
      "Autobiography                                  0.812685             0.555410   \n",
      "CoralReefs                                     0.589281             0.613244   \n",
      "DescentofMan                                   0.682788             0.707480   \n",
      "DifferentFormsofFlowers                        0.480934             0.562826   \n",
      "EffectsCrossSelfFertilization                  0.396519             0.408583   \n",
      "ExpressionofEmotionManAnimals                  0.710988             0.687804   \n",
      "FormationVegetableMould                        0.621035             0.645534   \n",
      "FoundationsOriginofSpecies                     0.704864             0.675823   \n",
      "GeologicalObservationsSouthAmerica             0.636351             0.696398   \n",
      "InsectivorousPlants                            0.553564             0.601770   \n",
      "LifeandLettersVol1                             0.956930             0.571790   \n",
      "LifeandLettersVol2                             0.999999             0.557440   \n",
      "MonographCirripedia                            0.557440             1.000000   \n",
      "MonographCirripediaVol2                        0.592615             0.903857   \n",
      "MovementClimbingPlants                         0.592211             0.640873   \n",
      "OriginofSpecies                                0.726893             0.700045   \n",
      "PowerMovementPlants                            0.585030             0.636505   \n",
      "VariationPlantsAnimalsDomestication            0.693781             0.733230   \n",
      "VolcanicIslands                                0.644436             0.711805   \n",
      "VoyageBeagle                                   0.752244             0.722842   \n",
      "\n",
      "                                     MonographCirripediaVol2  \\\n",
      "Autobiography                                       0.568670   \n",
      "CoralReefs                                          0.635663   \n",
      "DescentofMan                                        0.710160   \n",
      "DifferentFormsofFlowers                             0.559724   \n",
      "EffectsCrossSelfFertilization                       0.424613   \n",
      "ExpressionofEmotionManAnimals                       0.714196   \n",
      "FormationVegetableMould                             0.665063   \n",
      "FoundationsOriginofSpecies                          0.713300   \n",
      "GeologicalObservationsSouthAmerica                  0.731616   \n",
      "InsectivorousPlants                                 0.604658   \n",
      "LifeandLettersVol1                                  0.597898   \n",
      "LifeandLettersVol2                                  0.592615   \n",
      "MonographCirripedia                                 0.903857   \n",
      "MonographCirripediaVol2                             1.000000   \n",
      "MovementClimbingPlants                              0.657859   \n",
      "OriginofSpecies                                     0.738503   \n",
      "PowerMovementPlants                                 0.647073   \n",
      "VariationPlantsAnimalsDomestication                 0.755606   \n",
      "VolcanicIslands                                     0.741795   \n",
      "VoyageBeagle                                        0.736830   \n",
      "\n",
      "                                     MovementClimbingPlants  OriginofSpecies  \\\n",
      "Autobiography                                      0.614255         0.683619   \n",
      "CoralReefs                                         0.558194         0.679544   \n",
      "DescentofMan                                       0.641009         0.833755   \n",
      "DifferentFormsofFlowers                            0.564785         0.634396   \n",
      "EffectsCrossSelfFertilization                      0.493390         0.512078   \n",
      "ExpressionofEmotionManAnimals                      0.698851         0.783433   \n",
      "FormationVegetableMould                            0.667419         0.707511   \n",
      "FoundationsOriginofSpecies                         0.665753         0.908015   \n",
      "GeologicalObservationsSouthAmerica                 0.631364         0.749705   \n",
      "InsectivorousPlants                                0.674463         0.625228   \n",
      "LifeandLettersVol1                                 0.612552         0.723862   \n",
      "LifeandLettersVol2                                 0.592211         0.726893   \n",
      "MonographCirripedia                                0.640873         0.700045   \n",
      "MonographCirripediaVol2                            0.657859         0.738503   \n",
      "MovementClimbingPlants                             1.000000         0.685770   \n",
      "OriginofSpecies                                    0.685770         1.000000   \n",
      "PowerMovementPlants                                0.770192         0.653626   \n",
      "VariationPlantsAnimalsDomestication                0.688212         0.864626   \n",
      "VolcanicIslands                                    0.656554         0.768800   \n",
      "VoyageBeagle                                       0.736602         0.813875   \n",
      "\n",
      "                                     PowerMovementPlants  \\\n",
      "Autobiography                                   0.670193   \n",
      "CoralReefs                                      0.569607   \n",
      "DescentofMan                                    0.642416   \n",
      "DifferentFormsofFlowers                         0.561310   \n",
      "EffectsCrossSelfFertilization                   0.520806   \n",
      "ExpressionofEmotionManAnimals                   0.691734   \n",
      "FormationVegetableMould                         0.740100   \n",
      "FoundationsOriginofSpecies                      0.654265   \n",
      "GeologicalObservationsSouthAmerica              0.658249   \n",
      "InsectivorousPlants                             0.748966   \n",
      "LifeandLettersVol1                              0.619079   \n",
      "LifeandLettersVol2                              0.585030   \n",
      "MonographCirripedia                             0.636505   \n",
      "MonographCirripediaVol2                         0.647073   \n",
      "MovementClimbingPlants                          0.770192   \n",
      "OriginofSpecies                                 0.653626   \n",
      "PowerMovementPlants                             1.000000   \n",
      "VariationPlantsAnimalsDomestication             0.682857   \n",
      "VolcanicIslands                                 0.663943   \n",
      "VoyageBeagle                                    0.773436   \n",
      "\n",
      "                                     VariationPlantsAnimalsDomestication  \\\n",
      "Autobiography                                                   0.688382   \n",
      "CoralReefs                                                      0.667527   \n",
      "DescentofMan                                                    0.851499   \n",
      "DifferentFormsofFlowers                                         0.642908   \n",
      "EffectsCrossSelfFertilization                                   0.519855   \n",
      "ExpressionofEmotionManAnimals                                   0.798436   \n",
      "FormationVegetableMould                                         0.719738   \n",
      "FoundationsOriginofSpecies                                      0.850149   \n",
      "GeologicalObservationsSouthAmerica                              0.751975   \n",
      "InsectivorousPlants                                             0.637347   \n",
      "LifeandLettersVol1                                              0.701616   \n",
      "LifeandLettersVol2                                              0.693781   \n",
      "MonographCirripedia                                             0.733230   \n",
      "MonographCirripediaVol2                                         0.755606   \n",
      "MovementClimbingPlants                                          0.688212   \n",
      "OriginofSpecies                                                 0.864626   \n",
      "PowerMovementPlants                                             0.682857   \n",
      "VariationPlantsAnimalsDomestication                             1.000000   \n",
      "VolcanicIslands                                                 0.775968   \n",
      "VoyageBeagle                                                    0.814836   \n",
      "\n",
      "                                     VolcanicIslands  VoyageBeagle  \n",
      "Autobiography                               0.651743      0.827976  \n",
      "CoralReefs                                  0.763504      0.755525  \n",
      "DescentofMan                                0.731957      0.786662  \n",
      "DifferentFormsofFlowers                     0.562624      0.591719  \n",
      "EffectsCrossSelfFertilization               0.430648      0.484102  \n",
      "ExpressionofEmotionManAnimals               0.744780      0.821087  \n",
      "FormationVegetableMould                     0.747892      0.822918  \n",
      "FoundationsOriginofSpecies                  0.734779      0.792684  \n",
      "GeologicalObservationsSouthAmerica          0.897200      0.835577  \n",
      "InsectivorousPlants                         0.633463      0.731278  \n",
      "LifeandLettersVol1                          0.654495      0.811371  \n",
      "LifeandLettersVol2                          0.644436      0.752244  \n",
      "MonographCirripedia                         0.711805      0.722842  \n",
      "MonographCirripediaVol2                     0.741795      0.736830  \n",
      "MovementClimbingPlants                      0.656554      0.736602  \n",
      "OriginofSpecies                             0.768800      0.813875  \n",
      "PowerMovementPlants                         0.663943      0.773436  \n",
      "VariationPlantsAnimalsDomestication         0.775968      0.814836  \n",
      "VolcanicIslands                             1.000000      0.845216  \n",
      "VoyageBeagle                                0.845216      1.000000  \n"
     ]
    }
   ],
   "source": [
    "# Load the library allowing similarity computations\n",
    "from gensim import similarities\n",
    "\n",
    "# Compute the similarity matrix (pairwise distance between all texts)\n",
    "sims = similarities.MatrixSimilarity(bows)\n",
    "\n",
    "# Transform the resulting list into a dataframe\n",
    "sim_df = pd.DataFrame(list(sims))\n",
    "\n",
    "# Add the titles of the books as columns and index of the dataframe\n",
    "sim_df.columns = titles\n",
    "sim_df.index = titles\n",
    "\n",
    "# Print the resulting matrix\n",
    "print(sim_df)"
   ]
  },
  {
   "cell_type": "markdown",
   "metadata": {
    "dc": {
     "key": "73"
    },
    "deletable": false,
    "editable": false,
    "run_control": {
     "frozen": true
    },
    "tags": [
     "context"
    ]
   },
   "source": [
    "## 11. The book most similar to \"On the Origin of Species\"\n",
    "<p>We now have a matrix containing all the similarity measures between any pair of books from Charles Darwin! We can now use this matrix to quickly extract the information we need, i.e., the distance between one book and one or several others. </p>\n",
    "<p>As a first step, we will display which books are the most similar to \"<em>On the Origin of Species</em>,\" more specifically we will produce a bar chart showing all books ranked by how similar they are to Darwin's landmark work.</p>"
   ]
  },
  {
   "cell_type": "code",
   "execution_count": 60,
   "metadata": {
    "dc": {
     "key": "73"
    },
    "tags": [
     "sample_code"
    ]
   },
   "outputs": [
    {
     "data": {
      "text/plain": [
       "<matplotlib.text.Text at 0x7ff221a8ac50>"
      ]
     },
     "execution_count": 60,
     "metadata": {},
     "output_type": "execute_result"
    },
    {
     "data": {
      "image/png": "[encoded data removed]",
      "text/plain": [
       "<matplotlib.figure.Figure at 0x7ff221a42e48>"
      ]
     },
     "metadata": {},
     "output_type": "display_data"
    }
   ],
   "source": [
    "# This is needed to display plots in a notebook\n",
    "%matplotlib inline\n",
    "\n",
    "# Import libraries\n",
    "import matplotlib.pyplot as plt\n",
    "\n",
    "# Select the column corresponding to \"On the Origin of Species\" and \n",
    "v = sim_df.loc[:,'OriginofSpecies']\n",
    "\n",
    "# Sort by ascending scores\n",
    "v_sorted = v.sort_values(ascending=True)\n",
    "\n",
    "\n",
    "# Plot this data has a horizontal bar plot\n",
    "v_sorted.plot.barh()\n",
    "\n",
    "# # Modify the axes labels and plot title for a better readability\n",
    "plt.xlabel(\"Cosine Similarity\")\n",
    "plt.ylabel(\"Book title\")\n",
    "plt.title(\"How similar all books are to Darwin's landmark work\")"
   ]
  },
  {
   "cell_type": "markdown",
   "metadata": {
    "dc": {
     "key": "80"
    },
    "deletable": false,
    "editable": false,
    "run_control": {
     "frozen": true
    },
    "tags": [
     "context"
    ]
   },
   "source": [
    "## 12. Which books have similar content?\n",
    "<p>This turns out to be extremely useful if we want to determine a given book's most similar work. For example, we have just seen that if you enjoyed \"<em>On the Origin of Species</em>,\" you can read books discussing similar concepts such as \"<em>The Variation of Animals and Plants under Domestication</em>\" or \"<em>The Descent of Man, and Selection in Relation to Sex</em>.\" If you are familiar with Darwin's work, these suggestions will likely seem natural to you. Indeed, <em>On the Origin of Species</em> has a whole chapter about domestication and <em>The Descent of Man, and Selection in Relation to Sex</em> applies the theory of natural selection to human evolution. Hence, the results make sense.</p>\n",
    "<p>However, we now want to have a better understanding of the big picture and see how Darwin's books are generally related to each other (in terms of topics discussed). To this purpose, we will represent the whole similarity matrix as a dendrogram, which is a standard tool to display such data. <strong>This last approach will display all the information about book similarities at once.</strong> For example, we can find a book's closest relative but, also, we can visualize which groups of books have similar topics (e.g., the cluster about Charles Darwin personal life with his autobiography and letters). If you are familiar with Darwin's bibliography, the results should not surprise you too much, which indicates the method gives good results. Otherwise, next time you read one of the author's book, you will know which other books to read next in order to learn more about the topics it addressed.</p>"
   ]
  },
  {
   "cell_type": "code",
   "execution_count": 62,
   "metadata": {
    "dc": {
     "key": "80"
    },
    "tags": [
     "sample_code"
    ]
   },
   "outputs": [
    {
     "data": {
      "image/png": "[encoded data removed]",
      "text/plain": [
       "<matplotlib.figure.Figure at 0x7ff221a53400>"
      ]
     },
     "metadata": {},
     "output_type": "display_data"
    }
   ],
   "source": [
    "# Import libraries\n",
    "from scipy.cluster import hierarchy\n",
    "\n",
    "# Compute the clusters from the similarity matrix,\n",
    "# using the Ward variance minimization algorithm\n",
    "Z = hierarchy.linkage(sims, method='ward')\n",
    "\n",
    "# Display this result as a horizontal dendrogram\n",
    "display = hierarchy.dendrogram(Z, leaf_font_size=8, labels=sim_df.index, orientation=\"left\")"
   ]
  }
 ],
 "metadata": {
  "kernelspec": {
   "display_name": "Python 3",
   "language": "python",
   "name": "python3"
  },
  "language_info": {
   "codemirror_mode": {
    "name": "ipython",
    "version": 3
   },
   "file_extension": ".py",
   "mimetype": "text/x-python",
   "name": "python",
   "nbconvert_exporter": "python",
   "pygments_lexer": "ipython3",
   "version": "3.6.7"
  }
 },
 "nbformat": 4,
 "nbformat_minor": 2
}
